{
 "cells": [
  {
   "cell_type": "markdown",
   "source": [
    "# References\n",
    "Visualizing Clusters with Python’s Matplotlib: https://towardsdatascience.com/visualizing-clusters-with-pythons-matplolib-35ae03d87489\n",
    "* Add convex hull interpolation on scatter plots\n"
   ],
   "metadata": {
    "collapsed": false
   }
  },
  {
   "cell_type": "markdown",
   "source": [
    "# Import libraries"
   ],
   "metadata": {
    "collapsed": false
   }
  },
  {
   "cell_type": "code",
   "execution_count": 162,
   "outputs": [],
   "source": [
    "import pandas as pd\n",
    "import numpy as np\n",
    "from geopy.geocoders import Nominatim\n",
    "\n",
    "import matplotlib.pyplot as plt\n",
    "\n",
    "from elbow_plot_toolkit import determine_max_num_try_cluster, make_elbow_plot\n",
    "from sklearn.cluster import KMeans\n",
    "from scipy.spatial import ConvexHull\n",
    "from scipy import interpolate\n",
    "\n",
    "import plotly.express as px\n",
    "\n",
    "import folium\n",
    "import folium.plugins as plugins"
   ],
   "metadata": {
    "collapsed": false
   }
  },
  {
   "cell_type": "markdown",
   "source": [
    "# Custom functions"
   ],
   "metadata": {
    "collapsed": false
   }
  },
  {
   "cell_type": "code",
   "execution_count": 163,
   "outputs": [],
   "source": [
    "def place_name_to_address(place_name, city_str=None): #Return a location's\n",
    "    # address by its name\n",
    "    geolocator = Nominatim(user_agent='my_app') # Initialize Nominatim object with user_agent\n",
    "\n",
    "    if city_str != None:\n",
    "        location = geolocator.geocode(place_name+', '+city_str)\n",
    "    else:\n",
    "        location = geolocator.geocode(place_name)\n",
    "\n",
    "    if location:\n",
    "        return location.address # Extract the address from location object\n",
    "    else:\n",
    "        return 'Not found' # Return None if location not found\n",
    "\n",
    "def coordinates_to_address(latitude, longitude):\n",
    "    geolocator = Nominatim(user_agent=\"my_app\") # Initialize Nominatim object with user_agent\n",
    "    location = geolocator.reverse((latitude, longitude)) # Use reverse() method to get location object\n",
    "    if location:\n",
    "        return location.address\n",
    "    else:\n",
    "        return 'Not found' # Return None if location not found\n",
    "\n",
    "def coordinates_to_place_name(latitude, longitude):\n",
    "    geolocator = Nominatim(user_agent=\"my_app\") # Initialize Nominatim object with user_agent\n",
    "    location = geolocator.reverse((latitude, longitude)) # Use reverse() method to get location object\n",
    "    if location:\n",
    "        return location.address.split(\",\")[0] # Extract the location name from the address string\n",
    "    else:\n",
    "        return 'Not found' # Return None if location not found\n",
    "\n",
    "\n",
    "def address_to_coordinates(address):\n",
    "    geolocator = Nominatim(user_agent=\"my_app\") # Initialize Nominatim object with user_agent\n",
    "\n",
    "    location = geolocator.geocode(address) # Use geocode() method to get location object\n",
    "\n",
    "    if location:\n",
    "        return location.latitude, location.longitude # Extract the latitude and longitude from location object\n",
    "    else:\n",
    "        return None # Return None if location not found"
   ],
   "metadata": {
    "collapsed": false
   }
  },
  {
   "cell_type": "markdown",
   "source": [
    "# Read in data"
   ],
   "metadata": {
    "collapsed": false
   }
  },
  {
   "cell_type": "code",
   "execution_count": 164,
   "outputs": [
    {
     "data": {
      "text/plain": "                                   PlaceName    Category\n0            North Carolina botanical garden      Garden\n1                         Ackland art museum      Museum\n2                       Morehead Planetarium      Museum\n3                         UNC at chapel hill        Site\n4              Morehead-Patterson Bell Tower        Site\n5                            Coker arboretum      Garden\n6                 Chapel hill public library        Site\n7                        Chapel of the cross        Site\n8                             Forest Theatre        Site\n9                                Battle Park      Garden\n10                             Hippol Castle      Garden\n11                                  Old Well        Site\n12                            McCorkle Place      Garden\n13                            He's Not Here   Restaurant\n14            Epilogue Books Chocolate Brews   Bookstore\n15                             FRANK Gallery        Site\n16                             Flyleaf books   Bookstore\n17      Top of the Hill Restaurant & Brewery  Restaurant\n18                   Merritt's Store & Grill  Restaurant\n19                       Kipos Greek Taverna  Restaurant\n20  Mediterranean Deli, Bakery, and Catering  Restaurant\n21              Al's burger shack restaurant  Restaurant\n22                        Lantern restaurant  Restaurant\n23         Stoney River Steakhouse and Grill  Restaurant\n24                Carolina Basketball Museum      Museum\n25                     Horace Williams House      Museum\n26                       Sutton's Drug Store  Restaurant\n27                       Cold Stone Creamery  Restaurant\n28                      The Blue Horn Lounge  Restaurant\n29                              La Residence  Restaurant\n30                 CholaNad Restaurant & Bar  Restaurant\n31                                  Talullas  Restaurant\n32                                   Bonchon  Restaurant\n33              Tarantini Italian Restaurant  Restaurant",
      "text/html": "<div>\n<style scoped>\n    .dataframe tbody tr th:only-of-type {\n        vertical-align: middle;\n    }\n\n    .dataframe tbody tr th {\n        vertical-align: top;\n    }\n\n    .dataframe thead th {\n        text-align: right;\n    }\n</style>\n<table border=\"1\" class=\"dataframe\">\n  <thead>\n    <tr style=\"text-align: right;\">\n      <th></th>\n      <th>PlaceName</th>\n      <th>Category</th>\n    </tr>\n  </thead>\n  <tbody>\n    <tr>\n      <th>0</th>\n      <td>North Carolina botanical garden</td>\n      <td>Garden</td>\n    </tr>\n    <tr>\n      <th>1</th>\n      <td>Ackland art museum</td>\n      <td>Museum</td>\n    </tr>\n    <tr>\n      <th>2</th>\n      <td>Morehead Planetarium</td>\n      <td>Museum</td>\n    </tr>\n    <tr>\n      <th>3</th>\n      <td>UNC at chapel hill</td>\n      <td>Site</td>\n    </tr>\n    <tr>\n      <th>4</th>\n      <td>Morehead-Patterson Bell Tower</td>\n      <td>Site</td>\n    </tr>\n    <tr>\n      <th>5</th>\n      <td>Coker arboretum</td>\n      <td>Garden</td>\n    </tr>\n    <tr>\n      <th>6</th>\n      <td>Chapel hill public library</td>\n      <td>Site</td>\n    </tr>\n    <tr>\n      <th>7</th>\n      <td>Chapel of the cross</td>\n      <td>Site</td>\n    </tr>\n    <tr>\n      <th>8</th>\n      <td>Forest Theatre</td>\n      <td>Site</td>\n    </tr>\n    <tr>\n      <th>9</th>\n      <td>Battle Park</td>\n      <td>Garden</td>\n    </tr>\n    <tr>\n      <th>10</th>\n      <td>Hippol Castle</td>\n      <td>Garden</td>\n    </tr>\n    <tr>\n      <th>11</th>\n      <td>Old Well</td>\n      <td>Site</td>\n    </tr>\n    <tr>\n      <th>12</th>\n      <td>McCorkle Place</td>\n      <td>Garden</td>\n    </tr>\n    <tr>\n      <th>13</th>\n      <td>He's Not Here</td>\n      <td>Restaurant</td>\n    </tr>\n    <tr>\n      <th>14</th>\n      <td>Epilogue Books Chocolate Brews</td>\n      <td>Bookstore</td>\n    </tr>\n    <tr>\n      <th>15</th>\n      <td>FRANK Gallery</td>\n      <td>Site</td>\n    </tr>\n    <tr>\n      <th>16</th>\n      <td>Flyleaf books</td>\n      <td>Bookstore</td>\n    </tr>\n    <tr>\n      <th>17</th>\n      <td>Top of the Hill Restaurant &amp; Brewery</td>\n      <td>Restaurant</td>\n    </tr>\n    <tr>\n      <th>18</th>\n      <td>Merritt's Store &amp; Grill</td>\n      <td>Restaurant</td>\n    </tr>\n    <tr>\n      <th>19</th>\n      <td>Kipos Greek Taverna</td>\n      <td>Restaurant</td>\n    </tr>\n    <tr>\n      <th>20</th>\n      <td>Mediterranean Deli, Bakery, and Catering</td>\n      <td>Restaurant</td>\n    </tr>\n    <tr>\n      <th>21</th>\n      <td>Al's burger shack restaurant</td>\n      <td>Restaurant</td>\n    </tr>\n    <tr>\n      <th>22</th>\n      <td>Lantern restaurant</td>\n      <td>Restaurant</td>\n    </tr>\n    <tr>\n      <th>23</th>\n      <td>Stoney River Steakhouse and Grill</td>\n      <td>Restaurant</td>\n    </tr>\n    <tr>\n      <th>24</th>\n      <td>Carolina Basketball Museum</td>\n      <td>Museum</td>\n    </tr>\n    <tr>\n      <th>25</th>\n      <td>Horace Williams House</td>\n      <td>Museum</td>\n    </tr>\n    <tr>\n      <th>26</th>\n      <td>Sutton's Drug Store</td>\n      <td>Restaurant</td>\n    </tr>\n    <tr>\n      <th>27</th>\n      <td>Cold Stone Creamery</td>\n      <td>Restaurant</td>\n    </tr>\n    <tr>\n      <th>28</th>\n      <td>The Blue Horn Lounge</td>\n      <td>Restaurant</td>\n    </tr>\n    <tr>\n      <th>29</th>\n      <td>La Residence</td>\n      <td>Restaurant</td>\n    </tr>\n    <tr>\n      <th>30</th>\n      <td>CholaNad Restaurant &amp; Bar</td>\n      <td>Restaurant</td>\n    </tr>\n    <tr>\n      <th>31</th>\n      <td>Talullas</td>\n      <td>Restaurant</td>\n    </tr>\n    <tr>\n      <th>32</th>\n      <td>Bonchon</td>\n      <td>Restaurant</td>\n    </tr>\n    <tr>\n      <th>33</th>\n      <td>Tarantini Italian Restaurant</td>\n      <td>Restaurant</td>\n    </tr>\n  </tbody>\n</table>\n</div>"
     },
     "execution_count": 164,
     "metadata": {},
     "output_type": "execute_result"
    }
   ],
   "source": [
    "df = pd.read_csv('ChapelHill.csv')\n",
    "df"
   ],
   "metadata": {
    "collapsed": false
   }
  },
  {
   "cell_type": "markdown",
   "source": [
    "# Convert place_name to address"
   ],
   "metadata": {
    "collapsed": false
   }
  },
  {
   "cell_type": "code",
   "execution_count": 165,
   "outputs": [
    {
     "data": {
      "text/plain": "                                   PlaceName    Category   \n0            North Carolina botanical garden      Garden  \\\n1                         Ackland art museum      Museum   \n2                       Morehead Planetarium      Museum   \n3                         UNC at chapel hill        Site   \n4              Morehead-Patterson Bell Tower        Site   \n5                            Coker arboretum      Garden   \n6                 Chapel hill public library        Site   \n7                        Chapel of the cross        Site   \n8                             Forest Theatre        Site   \n9                                Battle Park      Garden   \n10                             Hippol Castle      Garden   \n11                                  Old Well        Site   \n12                            McCorkle Place      Garden   \n13                            He's Not Here   Restaurant   \n14            Epilogue Books Chocolate Brews   Bookstore   \n15                             FRANK Gallery        Site   \n16                             Flyleaf books   Bookstore   \n17      Top of the Hill Restaurant & Brewery  Restaurant   \n18                   Merritt's Store & Grill  Restaurant   \n19                       Kipos Greek Taverna  Restaurant   \n20  Mediterranean Deli, Bakery, and Catering  Restaurant   \n21              Al's burger shack restaurant  Restaurant   \n22                        Lantern restaurant  Restaurant   \n23         Stoney River Steakhouse and Grill  Restaurant   \n24                Carolina Basketball Museum      Museum   \n25                     Horace Williams House      Museum   \n26                       Sutton's Drug Store  Restaurant   \n27                       Cold Stone Creamery  Restaurant   \n28                      The Blue Horn Lounge  Restaurant   \n29                              La Residence  Restaurant   \n30                 CholaNad Restaurant & Bar  Restaurant   \n31                                  Talullas  Restaurant   \n32                                   Bonchon  Restaurant   \n33              Tarantini Italian Restaurant  Restaurant   \n\n                                              Address  \n0   North Carolina Botanical Garden, Fordham Boule...  \n1   Ackland Art Museum, 101, South Columbia Street...  \n2   Morehead Planetarium, 250, East Franklin Stree...  \n3   University of North Carolina, NCNB Aly, Frankl...  \n4   Morehead-Patterson Bell Tower, 200, South Road...  \n5   Coker Arboretum, 110, Raleigh Street, Franklin...  \n6   Chapel Hill Public Library, 100, Library Drive...  \n7   Chapel of the Cross, 304, East Franklin Street...  \n8   Forest Theatre, 300, South Boundary Street, Fr...  \n9   Battle Park, Baby Hollow, Chapel Hill, Orange ...  \n10  Hippol Castle, Shaffer Circle, Chapel Hill, Or...  \n11  Old Well, 201, East Cameron Avenue, Franklin-R...  \n12  McCorkle Place, Franklin-Rosemary Historic Dis...  \n13  He's Not Here, 112, West Franklin Street, Fran...  \n14                                          Not found  \n15                                          Not found  \n16  Flyleaf Books, 752, Martin Luther King Junior ...  \n17                                          Not found  \n18  Merritt's Store & Grill, 1009, South Columbia ...  \n19  Kipos Greek Taverna, 431, West Franklin Street...  \n20                                          Not found  \n21  Al's Burger Shack, 516, West Franklin Street, ...  \n22  Lantern, Basnight Lane North, Downtown, Chapel...  \n23                                          Not found  \n24  Carolina Basketball Museum, 450, Skipper Bowle...  \n25  Horace Williams House, 610, East Rosemary Stre...  \n26  Sutton's Drug Store, 159, East Franklin Street...  \n27  Cold Stone Creamery, 131, East Franklin Street...  \n28                                          Not found  \n29  La Residence, 202, West Rosemary Street, Frank...  \n30                                          Not found  \n31  Talullas, West Franklin Street, Downtown, Chap...  \n32                                          Not found  \n33                                          Not found  ",
      "text/html": "<div>\n<style scoped>\n    .dataframe tbody tr th:only-of-type {\n        vertical-align: middle;\n    }\n\n    .dataframe tbody tr th {\n        vertical-align: top;\n    }\n\n    .dataframe thead th {\n        text-align: right;\n    }\n</style>\n<table border=\"1\" class=\"dataframe\">\n  <thead>\n    <tr style=\"text-align: right;\">\n      <th></th>\n      <th>PlaceName</th>\n      <th>Category</th>\n      <th>Address</th>\n    </tr>\n  </thead>\n  <tbody>\n    <tr>\n      <th>0</th>\n      <td>North Carolina botanical garden</td>\n      <td>Garden</td>\n      <td>North Carolina Botanical Garden, Fordham Boule...</td>\n    </tr>\n    <tr>\n      <th>1</th>\n      <td>Ackland art museum</td>\n      <td>Museum</td>\n      <td>Ackland Art Museum, 101, South Columbia Street...</td>\n    </tr>\n    <tr>\n      <th>2</th>\n      <td>Morehead Planetarium</td>\n      <td>Museum</td>\n      <td>Morehead Planetarium, 250, East Franklin Stree...</td>\n    </tr>\n    <tr>\n      <th>3</th>\n      <td>UNC at chapel hill</td>\n      <td>Site</td>\n      <td>University of North Carolina, NCNB Aly, Frankl...</td>\n    </tr>\n    <tr>\n      <th>4</th>\n      <td>Morehead-Patterson Bell Tower</td>\n      <td>Site</td>\n      <td>Morehead-Patterson Bell Tower, 200, South Road...</td>\n    </tr>\n    <tr>\n      <th>5</th>\n      <td>Coker arboretum</td>\n      <td>Garden</td>\n      <td>Coker Arboretum, 110, Raleigh Street, Franklin...</td>\n    </tr>\n    <tr>\n      <th>6</th>\n      <td>Chapel hill public library</td>\n      <td>Site</td>\n      <td>Chapel Hill Public Library, 100, Library Drive...</td>\n    </tr>\n    <tr>\n      <th>7</th>\n      <td>Chapel of the cross</td>\n      <td>Site</td>\n      <td>Chapel of the Cross, 304, East Franklin Street...</td>\n    </tr>\n    <tr>\n      <th>8</th>\n      <td>Forest Theatre</td>\n      <td>Site</td>\n      <td>Forest Theatre, 300, South Boundary Street, Fr...</td>\n    </tr>\n    <tr>\n      <th>9</th>\n      <td>Battle Park</td>\n      <td>Garden</td>\n      <td>Battle Park, Baby Hollow, Chapel Hill, Orange ...</td>\n    </tr>\n    <tr>\n      <th>10</th>\n      <td>Hippol Castle</td>\n      <td>Garden</td>\n      <td>Hippol Castle, Shaffer Circle, Chapel Hill, Or...</td>\n    </tr>\n    <tr>\n      <th>11</th>\n      <td>Old Well</td>\n      <td>Site</td>\n      <td>Old Well, 201, East Cameron Avenue, Franklin-R...</td>\n    </tr>\n    <tr>\n      <th>12</th>\n      <td>McCorkle Place</td>\n      <td>Garden</td>\n      <td>McCorkle Place, Franklin-Rosemary Historic Dis...</td>\n    </tr>\n    <tr>\n      <th>13</th>\n      <td>He's Not Here</td>\n      <td>Restaurant</td>\n      <td>He's Not Here, 112, West Franklin Street, Fran...</td>\n    </tr>\n    <tr>\n      <th>14</th>\n      <td>Epilogue Books Chocolate Brews</td>\n      <td>Bookstore</td>\n      <td>Not found</td>\n    </tr>\n    <tr>\n      <th>15</th>\n      <td>FRANK Gallery</td>\n      <td>Site</td>\n      <td>Not found</td>\n    </tr>\n    <tr>\n      <th>16</th>\n      <td>Flyleaf books</td>\n      <td>Bookstore</td>\n      <td>Flyleaf Books, 752, Martin Luther King Junior ...</td>\n    </tr>\n    <tr>\n      <th>17</th>\n      <td>Top of the Hill Restaurant &amp; Brewery</td>\n      <td>Restaurant</td>\n      <td>Not found</td>\n    </tr>\n    <tr>\n      <th>18</th>\n      <td>Merritt's Store &amp; Grill</td>\n      <td>Restaurant</td>\n      <td>Merritt's Store &amp; Grill, 1009, South Columbia ...</td>\n    </tr>\n    <tr>\n      <th>19</th>\n      <td>Kipos Greek Taverna</td>\n      <td>Restaurant</td>\n      <td>Kipos Greek Taverna, 431, West Franklin Street...</td>\n    </tr>\n    <tr>\n      <th>20</th>\n      <td>Mediterranean Deli, Bakery, and Catering</td>\n      <td>Restaurant</td>\n      <td>Not found</td>\n    </tr>\n    <tr>\n      <th>21</th>\n      <td>Al's burger shack restaurant</td>\n      <td>Restaurant</td>\n      <td>Al's Burger Shack, 516, West Franklin Street, ...</td>\n    </tr>\n    <tr>\n      <th>22</th>\n      <td>Lantern restaurant</td>\n      <td>Restaurant</td>\n      <td>Lantern, Basnight Lane North, Downtown, Chapel...</td>\n    </tr>\n    <tr>\n      <th>23</th>\n      <td>Stoney River Steakhouse and Grill</td>\n      <td>Restaurant</td>\n      <td>Not found</td>\n    </tr>\n    <tr>\n      <th>24</th>\n      <td>Carolina Basketball Museum</td>\n      <td>Museum</td>\n      <td>Carolina Basketball Museum, 450, Skipper Bowle...</td>\n    </tr>\n    <tr>\n      <th>25</th>\n      <td>Horace Williams House</td>\n      <td>Museum</td>\n      <td>Horace Williams House, 610, East Rosemary Stre...</td>\n    </tr>\n    <tr>\n      <th>26</th>\n      <td>Sutton's Drug Store</td>\n      <td>Restaurant</td>\n      <td>Sutton's Drug Store, 159, East Franklin Street...</td>\n    </tr>\n    <tr>\n      <th>27</th>\n      <td>Cold Stone Creamery</td>\n      <td>Restaurant</td>\n      <td>Cold Stone Creamery, 131, East Franklin Street...</td>\n    </tr>\n    <tr>\n      <th>28</th>\n      <td>The Blue Horn Lounge</td>\n      <td>Restaurant</td>\n      <td>Not found</td>\n    </tr>\n    <tr>\n      <th>29</th>\n      <td>La Residence</td>\n      <td>Restaurant</td>\n      <td>La Residence, 202, West Rosemary Street, Frank...</td>\n    </tr>\n    <tr>\n      <th>30</th>\n      <td>CholaNad Restaurant &amp; Bar</td>\n      <td>Restaurant</td>\n      <td>Not found</td>\n    </tr>\n    <tr>\n      <th>31</th>\n      <td>Talullas</td>\n      <td>Restaurant</td>\n      <td>Talullas, West Franklin Street, Downtown, Chap...</td>\n    </tr>\n    <tr>\n      <th>32</th>\n      <td>Bonchon</td>\n      <td>Restaurant</td>\n      <td>Not found</td>\n    </tr>\n    <tr>\n      <th>33</th>\n      <td>Tarantini Italian Restaurant</td>\n      <td>Restaurant</td>\n      <td>Not found</td>\n    </tr>\n  </tbody>\n</table>\n</div>"
     },
     "execution_count": 165,
     "metadata": {},
     "output_type": "execute_result"
    }
   ],
   "source": [
    "#The method below was commented out because it runs very slowly\n",
    "# df[\"Address\"] = df.apply(\n",
    "#     lambda x: place_name_to_address(\n",
    "#         place_name=x[\"PlaceName\"],\n",
    "#         city_str='Chapel Hill'\n",
    "#     ),\n",
    "#     axis=1\n",
    "# )\n",
    "\n",
    "address_list = []\n",
    "for placename in df['PlaceName']:\n",
    "    address_list.append(\n",
    "        place_name_to_address(\n",
    "            place_name=placename,\n",
    "            city_str='Chapel Hill'\n",
    "        )\n",
    "    )\n",
    "df['Address']=address_list\n",
    "\n",
    "df"
   ],
   "metadata": {
    "collapsed": false
   }
  },
  {
   "cell_type": "markdown",
   "source": [
    "## Fix on not found plane_name\n",
    "* Some place_name has no address only because the name is a bit wrong. Those\n",
    " can be fixed\n",
    " * Some places don't have a suitable place_name at all and thus cannot be\n",
    " fixed and the altitude can only be provided manually"
   ],
   "metadata": {
    "collapsed": false
   }
  },
  {
   "cell_type": "code",
   "execution_count": 166,
   "outputs": [
    {
     "data": {
      "text/plain": "                                   PlaceName    Category    Address\n14            Epilogue Books Chocolate Brews   Bookstore  Not found\n15                             FRANK Gallery        Site  Not found\n17      Top of the Hill Restaurant & Brewery  Restaurant  Not found\n20  Mediterranean Deli, Bakery, and Catering  Restaurant  Not found\n23         Stoney River Steakhouse and Grill  Restaurant  Not found\n28                      The Blue Horn Lounge  Restaurant  Not found\n30                 CholaNad Restaurant & Bar  Restaurant  Not found\n32                                   Bonchon  Restaurant  Not found\n33              Tarantini Italian Restaurant  Restaurant  Not found",
      "text/html": "<div>\n<style scoped>\n    .dataframe tbody tr th:only-of-type {\n        vertical-align: middle;\n    }\n\n    .dataframe tbody tr th {\n        vertical-align: top;\n    }\n\n    .dataframe thead th {\n        text-align: right;\n    }\n</style>\n<table border=\"1\" class=\"dataframe\">\n  <thead>\n    <tr style=\"text-align: right;\">\n      <th></th>\n      <th>PlaceName</th>\n      <th>Category</th>\n      <th>Address</th>\n    </tr>\n  </thead>\n  <tbody>\n    <tr>\n      <th>14</th>\n      <td>Epilogue Books Chocolate Brews</td>\n      <td>Bookstore</td>\n      <td>Not found</td>\n    </tr>\n    <tr>\n      <th>15</th>\n      <td>FRANK Gallery</td>\n      <td>Site</td>\n      <td>Not found</td>\n    </tr>\n    <tr>\n      <th>17</th>\n      <td>Top of the Hill Restaurant &amp; Brewery</td>\n      <td>Restaurant</td>\n      <td>Not found</td>\n    </tr>\n    <tr>\n      <th>20</th>\n      <td>Mediterranean Deli, Bakery, and Catering</td>\n      <td>Restaurant</td>\n      <td>Not found</td>\n    </tr>\n    <tr>\n      <th>23</th>\n      <td>Stoney River Steakhouse and Grill</td>\n      <td>Restaurant</td>\n      <td>Not found</td>\n    </tr>\n    <tr>\n      <th>28</th>\n      <td>The Blue Horn Lounge</td>\n      <td>Restaurant</td>\n      <td>Not found</td>\n    </tr>\n    <tr>\n      <th>30</th>\n      <td>CholaNad Restaurant &amp; Bar</td>\n      <td>Restaurant</td>\n      <td>Not found</td>\n    </tr>\n    <tr>\n      <th>32</th>\n      <td>Bonchon</td>\n      <td>Restaurant</td>\n      <td>Not found</td>\n    </tr>\n    <tr>\n      <th>33</th>\n      <td>Tarantini Italian Restaurant</td>\n      <td>Restaurant</td>\n      <td>Not found</td>\n    </tr>\n  </tbody>\n</table>\n</div>"
     },
     "execution_count": 166,
     "metadata": {},
     "output_type": "execute_result"
    }
   ],
   "source": [
    "df[df['Address']=='Not found']"
   ],
   "metadata": {
    "collapsed": false
   }
  },
  {
   "cell_type": "markdown",
   "source": [
    "Method to fix:\n",
    "1. Open Google map and locate the place by PlaceName whose Address is \"Not\n",
    "found\"\n",
    "2. Enlarge the map to the max for the highest accuracy\n",
    "3. Right-click (drag a bit) on the place on the map and the 2 numbers in the\n",
    "menu are the\n",
    " coordinates\n",
    "4. Feed the coordinate into coordinate_to_address() and it'll tell you the\n",
    "address\n",
    "    * If  coordinate_to_address() gives a suitable place_name, use that name\n",
    "     to correct the place in the original .csv\n",
    "    * If coordinate_to_address() gives no suitable place_name, then manually\n",
    "     provide record the coordinates\n"
   ],
   "metadata": {
    "collapsed": false
   }
  },
  {
   "cell_type": "code",
   "execution_count": 167,
   "outputs": [
    {
     "data": {
      "text/plain": "'Carolina Basketball Museum, 450, Skipper Bowles Drive, Downtown, Chapel Hill, Orange County, North Carolina, 27514, United States'"
     },
     "execution_count": 167,
     "metadata": {},
     "output_type": "execute_result"
    }
   ],
   "source": [
    "coordinates_to_address(35.90000313147374, -79.0423935854039)"
   ],
   "metadata": {
    "collapsed": false
   }
  },
  {
   "cell_type": "code",
   "execution_count": 168,
   "outputs": [],
   "source": [
    "fix_correct_coordinate_dict = {\n",
    "    'Epilogue Books Chocolate Brews': (35.91358285610324, -79.05538359568585),\n",
    "    'FRANK Gallery': (35.910572591584994, -79.06758108248158),\n",
    "    'Top of the Hill Restaurant & Brewery': (35.91294582504525, -79.05536917740552),\n",
    "    'Mediterranean Deli, Bakery, and Catering': (35.911309760370585, -79.06099069351794),\n",
    "    'Stoney River Steakhouse and Grill': (35.92817031282622, -79.02871015024913),\n",
    "    'The Blue Horn Lounge': (35.91367474811742, -79.05486869378159),\n",
    "    'CholaNad Restaurant & Bar': (35.91150879898124, -79.06047572961023),\n",
    "    'Bonchon': (35.91449114859053, -79.05265336005759),\n",
    "    'Tarantini Italian Restaurant': (35.85401568334828, -79.02502612829082)\n",
    "}"
   ],
   "metadata": {
    "collapsed": false
   }
  },
  {
   "cell_type": "code",
   "execution_count": 169,
   "outputs": [
    {
     "data": {
      "text/plain": "                                   PlaceName   \n0            North Carolina botanical garden  \\\n1                         Ackland art museum   \n2                       Morehead Planetarium   \n3                         UNC at chapel hill   \n4              Morehead-Patterson Bell Tower   \n5                            Coker arboretum   \n6                 Chapel hill public library   \n7                        Chapel of the cross   \n8                             Forest Theatre   \n9                                Battle Park   \n10                             Hippol Castle   \n11                                  Old Well   \n12                            McCorkle Place   \n13                            He's Not Here    \n14            Epilogue Books Chocolate Brews   \n15                             FRANK Gallery   \n16                             Flyleaf books   \n17      Top of the Hill Restaurant & Brewery   \n18                   Merritt's Store & Grill   \n19                       Kipos Greek Taverna   \n20  Mediterranean Deli, Bakery, and Catering   \n21              Al's burger shack restaurant   \n22                        Lantern restaurant   \n23         Stoney River Steakhouse and Grill   \n24                Carolina Basketball Museum   \n25                     Horace Williams House   \n26                       Sutton's Drug Store   \n27                       Cold Stone Creamery   \n28                      The Blue Horn Lounge   \n29                              La Residence   \n30                 CholaNad Restaurant & Bar   \n31                                  Talullas   \n32                                   Bonchon   \n33              Tarantini Italian Restaurant   \n\n                                              Address    Category   Latitude   \n0   North Carolina Botanical Garden, Fordham Boule...      Garden        NaN  \\\n1   Ackland Art Museum, 101, South Columbia Street...      Museum        NaN   \n2   Morehead Planetarium, 250, East Franklin Stree...      Museum        NaN   \n3   University of North Carolina, NCNB Aly, Frankl...        Site        NaN   \n4   Morehead-Patterson Bell Tower, 200, South Road...        Site        NaN   \n5   Coker Arboretum, 110, Raleigh Street, Franklin...      Garden        NaN   \n6   Chapel Hill Public Library, 100, Library Drive...        Site        NaN   \n7   Chapel of the Cross, 304, East Franklin Street...        Site        NaN   \n8   Forest Theatre, 300, South Boundary Street, Fr...        Site        NaN   \n9   Battle Park, Baby Hollow, Chapel Hill, Orange ...      Garden        NaN   \n10  Hippol Castle, Shaffer Circle, Chapel Hill, Or...      Garden        NaN   \n11  Old Well, 201, East Cameron Avenue, Franklin-R...        Site        NaN   \n12  McCorkle Place, Franklin-Rosemary Historic Dis...      Garden        NaN   \n13  He's Not Here, 112, West Franklin Street, Fran...  Restaurant        NaN   \n14                                          Not found   Bookstore  35.913583   \n15                                          Not found        Site  35.910573   \n16  Flyleaf Books, 752, Martin Luther King Junior ...   Bookstore        NaN   \n17                                          Not found  Restaurant  35.912946   \n18  Merritt's Store & Grill, 1009, South Columbia ...  Restaurant        NaN   \n19  Kipos Greek Taverna, 431, West Franklin Street...  Restaurant        NaN   \n20                                          Not found  Restaurant  35.911310   \n21  Al's Burger Shack, 516, West Franklin Street, ...  Restaurant        NaN   \n22  Lantern, Basnight Lane North, Downtown, Chapel...  Restaurant        NaN   \n23                                          Not found  Restaurant  35.928170   \n24  Carolina Basketball Museum, 450, Skipper Bowle...      Museum        NaN   \n25  Horace Williams House, 610, East Rosemary Stre...      Museum        NaN   \n26  Sutton's Drug Store, 159, East Franklin Street...  Restaurant        NaN   \n27  Cold Stone Creamery, 131, East Franklin Street...  Restaurant        NaN   \n28                                          Not found  Restaurant  35.913675   \n29  La Residence, 202, West Rosemary Street, Frank...  Restaurant        NaN   \n30                                          Not found  Restaurant  35.911509   \n31  Talullas, West Franklin Street, Downtown, Chap...  Restaurant        NaN   \n32                                          Not found  Restaurant  35.914491   \n33                                          Not found  Restaurant  35.854016   \n\n    Longitude  \n0         NaN  \n1         NaN  \n2         NaN  \n3         NaN  \n4         NaN  \n5         NaN  \n6         NaN  \n7         NaN  \n8         NaN  \n9         NaN  \n10        NaN  \n11        NaN  \n12        NaN  \n13        NaN  \n14 -79.055384  \n15 -79.067581  \n16        NaN  \n17 -79.055369  \n18        NaN  \n19        NaN  \n20 -79.060991  \n21        NaN  \n22        NaN  \n23 -79.028710  \n24        NaN  \n25        NaN  \n26        NaN  \n27        NaN  \n28 -79.054869  \n29        NaN  \n30 -79.060476  \n31        NaN  \n32 -79.052653  \n33 -79.025026  ",
      "text/html": "<div>\n<style scoped>\n    .dataframe tbody tr th:only-of-type {\n        vertical-align: middle;\n    }\n\n    .dataframe tbody tr th {\n        vertical-align: top;\n    }\n\n    .dataframe thead th {\n        text-align: right;\n    }\n</style>\n<table border=\"1\" class=\"dataframe\">\n  <thead>\n    <tr style=\"text-align: right;\">\n      <th></th>\n      <th>PlaceName</th>\n      <th>Address</th>\n      <th>Category</th>\n      <th>Latitude</th>\n      <th>Longitude</th>\n    </tr>\n  </thead>\n  <tbody>\n    <tr>\n      <th>0</th>\n      <td>North Carolina botanical garden</td>\n      <td>North Carolina Botanical Garden, Fordham Boule...</td>\n      <td>Garden</td>\n      <td>NaN</td>\n      <td>NaN</td>\n    </tr>\n    <tr>\n      <th>1</th>\n      <td>Ackland art museum</td>\n      <td>Ackland Art Museum, 101, South Columbia Street...</td>\n      <td>Museum</td>\n      <td>NaN</td>\n      <td>NaN</td>\n    </tr>\n    <tr>\n      <th>2</th>\n      <td>Morehead Planetarium</td>\n      <td>Morehead Planetarium, 250, East Franklin Stree...</td>\n      <td>Museum</td>\n      <td>NaN</td>\n      <td>NaN</td>\n    </tr>\n    <tr>\n      <th>3</th>\n      <td>UNC at chapel hill</td>\n      <td>University of North Carolina, NCNB Aly, Frankl...</td>\n      <td>Site</td>\n      <td>NaN</td>\n      <td>NaN</td>\n    </tr>\n    <tr>\n      <th>4</th>\n      <td>Morehead-Patterson Bell Tower</td>\n      <td>Morehead-Patterson Bell Tower, 200, South Road...</td>\n      <td>Site</td>\n      <td>NaN</td>\n      <td>NaN</td>\n    </tr>\n    <tr>\n      <th>5</th>\n      <td>Coker arboretum</td>\n      <td>Coker Arboretum, 110, Raleigh Street, Franklin...</td>\n      <td>Garden</td>\n      <td>NaN</td>\n      <td>NaN</td>\n    </tr>\n    <tr>\n      <th>6</th>\n      <td>Chapel hill public library</td>\n      <td>Chapel Hill Public Library, 100, Library Drive...</td>\n      <td>Site</td>\n      <td>NaN</td>\n      <td>NaN</td>\n    </tr>\n    <tr>\n      <th>7</th>\n      <td>Chapel of the cross</td>\n      <td>Chapel of the Cross, 304, East Franklin Street...</td>\n      <td>Site</td>\n      <td>NaN</td>\n      <td>NaN</td>\n    </tr>\n    <tr>\n      <th>8</th>\n      <td>Forest Theatre</td>\n      <td>Forest Theatre, 300, South Boundary Street, Fr...</td>\n      <td>Site</td>\n      <td>NaN</td>\n      <td>NaN</td>\n    </tr>\n    <tr>\n      <th>9</th>\n      <td>Battle Park</td>\n      <td>Battle Park, Baby Hollow, Chapel Hill, Orange ...</td>\n      <td>Garden</td>\n      <td>NaN</td>\n      <td>NaN</td>\n    </tr>\n    <tr>\n      <th>10</th>\n      <td>Hippol Castle</td>\n      <td>Hippol Castle, Shaffer Circle, Chapel Hill, Or...</td>\n      <td>Garden</td>\n      <td>NaN</td>\n      <td>NaN</td>\n    </tr>\n    <tr>\n      <th>11</th>\n      <td>Old Well</td>\n      <td>Old Well, 201, East Cameron Avenue, Franklin-R...</td>\n      <td>Site</td>\n      <td>NaN</td>\n      <td>NaN</td>\n    </tr>\n    <tr>\n      <th>12</th>\n      <td>McCorkle Place</td>\n      <td>McCorkle Place, Franklin-Rosemary Historic Dis...</td>\n      <td>Garden</td>\n      <td>NaN</td>\n      <td>NaN</td>\n    </tr>\n    <tr>\n      <th>13</th>\n      <td>He's Not Here</td>\n      <td>He's Not Here, 112, West Franklin Street, Fran...</td>\n      <td>Restaurant</td>\n      <td>NaN</td>\n      <td>NaN</td>\n    </tr>\n    <tr>\n      <th>14</th>\n      <td>Epilogue Books Chocolate Brews</td>\n      <td>Not found</td>\n      <td>Bookstore</td>\n      <td>35.913583</td>\n      <td>-79.055384</td>\n    </tr>\n    <tr>\n      <th>15</th>\n      <td>FRANK Gallery</td>\n      <td>Not found</td>\n      <td>Site</td>\n      <td>35.910573</td>\n      <td>-79.067581</td>\n    </tr>\n    <tr>\n      <th>16</th>\n      <td>Flyleaf books</td>\n      <td>Flyleaf Books, 752, Martin Luther King Junior ...</td>\n      <td>Bookstore</td>\n      <td>NaN</td>\n      <td>NaN</td>\n    </tr>\n    <tr>\n      <th>17</th>\n      <td>Top of the Hill Restaurant &amp; Brewery</td>\n      <td>Not found</td>\n      <td>Restaurant</td>\n      <td>35.912946</td>\n      <td>-79.055369</td>\n    </tr>\n    <tr>\n      <th>18</th>\n      <td>Merritt's Store &amp; Grill</td>\n      <td>Merritt's Store &amp; Grill, 1009, South Columbia ...</td>\n      <td>Restaurant</td>\n      <td>NaN</td>\n      <td>NaN</td>\n    </tr>\n    <tr>\n      <th>19</th>\n      <td>Kipos Greek Taverna</td>\n      <td>Kipos Greek Taverna, 431, West Franklin Street...</td>\n      <td>Restaurant</td>\n      <td>NaN</td>\n      <td>NaN</td>\n    </tr>\n    <tr>\n      <th>20</th>\n      <td>Mediterranean Deli, Bakery, and Catering</td>\n      <td>Not found</td>\n      <td>Restaurant</td>\n      <td>35.911310</td>\n      <td>-79.060991</td>\n    </tr>\n    <tr>\n      <th>21</th>\n      <td>Al's burger shack restaurant</td>\n      <td>Al's Burger Shack, 516, West Franklin Street, ...</td>\n      <td>Restaurant</td>\n      <td>NaN</td>\n      <td>NaN</td>\n    </tr>\n    <tr>\n      <th>22</th>\n      <td>Lantern restaurant</td>\n      <td>Lantern, Basnight Lane North, Downtown, Chapel...</td>\n      <td>Restaurant</td>\n      <td>NaN</td>\n      <td>NaN</td>\n    </tr>\n    <tr>\n      <th>23</th>\n      <td>Stoney River Steakhouse and Grill</td>\n      <td>Not found</td>\n      <td>Restaurant</td>\n      <td>35.928170</td>\n      <td>-79.028710</td>\n    </tr>\n    <tr>\n      <th>24</th>\n      <td>Carolina Basketball Museum</td>\n      <td>Carolina Basketball Museum, 450, Skipper Bowle...</td>\n      <td>Museum</td>\n      <td>NaN</td>\n      <td>NaN</td>\n    </tr>\n    <tr>\n      <th>25</th>\n      <td>Horace Williams House</td>\n      <td>Horace Williams House, 610, East Rosemary Stre...</td>\n      <td>Museum</td>\n      <td>NaN</td>\n      <td>NaN</td>\n    </tr>\n    <tr>\n      <th>26</th>\n      <td>Sutton's Drug Store</td>\n      <td>Sutton's Drug Store, 159, East Franklin Street...</td>\n      <td>Restaurant</td>\n      <td>NaN</td>\n      <td>NaN</td>\n    </tr>\n    <tr>\n      <th>27</th>\n      <td>Cold Stone Creamery</td>\n      <td>Cold Stone Creamery, 131, East Franklin Street...</td>\n      <td>Restaurant</td>\n      <td>NaN</td>\n      <td>NaN</td>\n    </tr>\n    <tr>\n      <th>28</th>\n      <td>The Blue Horn Lounge</td>\n      <td>Not found</td>\n      <td>Restaurant</td>\n      <td>35.913675</td>\n      <td>-79.054869</td>\n    </tr>\n    <tr>\n      <th>29</th>\n      <td>La Residence</td>\n      <td>La Residence, 202, West Rosemary Street, Frank...</td>\n      <td>Restaurant</td>\n      <td>NaN</td>\n      <td>NaN</td>\n    </tr>\n    <tr>\n      <th>30</th>\n      <td>CholaNad Restaurant &amp; Bar</td>\n      <td>Not found</td>\n      <td>Restaurant</td>\n      <td>35.911509</td>\n      <td>-79.060476</td>\n    </tr>\n    <tr>\n      <th>31</th>\n      <td>Talullas</td>\n      <td>Talullas, West Franklin Street, Downtown, Chap...</td>\n      <td>Restaurant</td>\n      <td>NaN</td>\n      <td>NaN</td>\n    </tr>\n    <tr>\n      <th>32</th>\n      <td>Bonchon</td>\n      <td>Not found</td>\n      <td>Restaurant</td>\n      <td>35.914491</td>\n      <td>-79.052653</td>\n    </tr>\n    <tr>\n      <th>33</th>\n      <td>Tarantini Italian Restaurant</td>\n      <td>Not found</td>\n      <td>Restaurant</td>\n      <td>35.854016</td>\n      <td>-79.025026</td>\n    </tr>\n  </tbody>\n</table>\n</div>"
     },
     "execution_count": 169,
     "metadata": {},
     "output_type": "execute_result"
    }
   ],
   "source": [
    "def fill_coordinates(row): #Use the info in the fix_correct_coordinate_dict\n",
    "    # to fill in the Latitude and Longitude\n",
    "    if row['Address'] == 'Not found' and row['PlaceName'] in fix_correct_coordinate_dict:\n",
    "        row['Latitude'], row['Longitude'] = fix_correct_coordinate_dict[row['PlaceName']]\n",
    "    return row\n",
    "\n",
    "# Apply the fill_location function to the DataFrame using apply()\n",
    "df = df.apply(fill_coordinates, axis=1)\n",
    "\n",
    "# The 2 lines below just move PlaceName column to be the 1st column\n",
    "place_name = df.pop('PlaceName')\n",
    "df.insert(0, 'PlaceName', place_name)\n",
    "\n",
    "df"
   ],
   "metadata": {
    "collapsed": false
   }
  },
  {
   "cell_type": "markdown",
   "source": [
    "# Address to coordinates"
   ],
   "metadata": {
    "collapsed": false
   }
  },
  {
   "cell_type": "code",
   "execution_count": 170,
   "outputs": [
    {
     "data": {
      "text/plain": "                                   PlaceName   \n0            North Carolina botanical garden  \\\n1                         Ackland art museum   \n2                       Morehead Planetarium   \n3                         UNC at chapel hill   \n4              Morehead-Patterson Bell Tower   \n5                            Coker arboretum   \n6                 Chapel hill public library   \n7                        Chapel of the cross   \n8                             Forest Theatre   \n9                                Battle Park   \n10                             Hippol Castle   \n11                                  Old Well   \n12                            McCorkle Place   \n13                            He's Not Here    \n14            Epilogue Books Chocolate Brews   \n15                             FRANK Gallery   \n16                             Flyleaf books   \n17      Top of the Hill Restaurant & Brewery   \n18                   Merritt's Store & Grill   \n19                       Kipos Greek Taverna   \n20  Mediterranean Deli, Bakery, and Catering   \n21              Al's burger shack restaurant   \n22                        Lantern restaurant   \n23         Stoney River Steakhouse and Grill   \n24                Carolina Basketball Museum   \n25                     Horace Williams House   \n26                       Sutton's Drug Store   \n27                       Cold Stone Creamery   \n28                      The Blue Horn Lounge   \n29                              La Residence   \n30                 CholaNad Restaurant & Bar   \n31                                  Talullas   \n32                                   Bonchon   \n33              Tarantini Italian Restaurant   \n\n                                              Address    Category   Latitude   \n0   North Carolina Botanical Garden, Fordham Boule...      Garden  35.897334  \\\n1   Ackland Art Museum, 101, South Columbia Street...      Museum  35.912568   \n2   Morehead Planetarium, 250, East Franklin Stree...      Museum  35.913916   \n3   University of North Carolina, NCNB Aly, Frankl...        Site  35.905035   \n4   Morehead-Patterson Bell Tower, 200, South Road...        Site  35.908607   \n5   Coker Arboretum, 110, Raleigh Street, Franklin...      Garden  35.913749   \n6   Chapel Hill Public Library, 100, Library Drive...        Site  35.932130   \n7   Chapel of the Cross, 304, East Franklin Street...        Site  35.914613   \n8   Forest Theatre, 300, South Boundary Street, Fr...        Site  35.913393   \n9   Battle Park, Baby Hollow, Chapel Hill, Orange ...      Garden  35.913344   \n10  Hippol Castle, Shaffer Circle, Chapel Hill, Or...      Garden  35.911927   \n11  Old Well, 201, East Cameron Avenue, Franklin-R...        Site  35.912063   \n12  McCorkle Place, Franklin-Rosemary Historic Dis...      Garden  35.913336   \n13  He's Not Here, 112, West Franklin Street, Fran...  Restaurant  35.913280   \n14                                          Not found   Bookstore  35.913583   \n15                                          Not found        Site  35.910573   \n16  Flyleaf Books, 752, Martin Luther King Junior ...   Bookstore  35.924350   \n17                                          Not found  Restaurant  35.912946   \n18  Merritt's Store & Grill, 1009, South Columbia ...  Restaurant  35.896009   \n19  Kipos Greek Taverna, 431, West Franklin Street...  Restaurant  35.910174   \n20                                          Not found  Restaurant  35.911310   \n21  Al's Burger Shack, 516, West Franklin Street, ...  Restaurant  35.910110   \n22  Lantern, Basnight Lane North, Downtown, Chapel...  Restaurant  35.910387   \n23                                          Not found  Restaurant  35.928170   \n24  Carolina Basketball Museum, 450, Skipper Bowle...      Museum  35.899950   \n25  Horace Williams House, 610, East Rosemary Stre...      Museum  35.917831   \n26  Sutton's Drug Store, 159, East Franklin Street...  Restaurant  35.914062   \n27  Cold Stone Creamery, 131, East Franklin Street...  Restaurant  35.913713   \n28                                          Not found  Restaurant  35.913675   \n29  La Residence, 202, West Rosemary Street, Frank...  Restaurant  35.913632   \n30                                          Not found  Restaurant  35.911509   \n31  Talullas, West Franklin Street, Downtown, Chap...  Restaurant  35.910659   \n32                                          Not found  Restaurant  35.914491   \n33                                          Not found  Restaurant  35.854016   \n\n    Longitude  \n0  -79.031106  \n1  -79.054890  \n2  -79.050422  \n3  -79.047753  \n4  -79.049216  \n5  -79.049046  \n6  -79.035753  \n7  -79.049949  \n8  -79.044875  \n9  -79.043693  \n10 -79.036071  \n11 -79.051235  \n12 -79.051969  \n13 -79.056798  \n14 -79.055384  \n15 -79.067581  \n16 -79.053529  \n17 -79.055369  \n18 -79.058275  \n19 -79.062888  \n20 -79.060991  \n21 -79.064068  \n22 -79.062281  \n23 -79.028710  \n24 -79.042149  \n25 -79.045197  \n26 -79.053859  \n27 -79.054774  \n28 -79.054869  \n29 -79.057767  \n30 -79.060476  \n31 -79.062639  \n32 -79.052653  \n33 -79.025026  ",
      "text/html": "<div>\n<style scoped>\n    .dataframe tbody tr th:only-of-type {\n        vertical-align: middle;\n    }\n\n    .dataframe tbody tr th {\n        vertical-align: top;\n    }\n\n    .dataframe thead th {\n        text-align: right;\n    }\n</style>\n<table border=\"1\" class=\"dataframe\">\n  <thead>\n    <tr style=\"text-align: right;\">\n      <th></th>\n      <th>PlaceName</th>\n      <th>Address</th>\n      <th>Category</th>\n      <th>Latitude</th>\n      <th>Longitude</th>\n    </tr>\n  </thead>\n  <tbody>\n    <tr>\n      <th>0</th>\n      <td>North Carolina botanical garden</td>\n      <td>North Carolina Botanical Garden, Fordham Boule...</td>\n      <td>Garden</td>\n      <td>35.897334</td>\n      <td>-79.031106</td>\n    </tr>\n    <tr>\n      <th>1</th>\n      <td>Ackland art museum</td>\n      <td>Ackland Art Museum, 101, South Columbia Street...</td>\n      <td>Museum</td>\n      <td>35.912568</td>\n      <td>-79.054890</td>\n    </tr>\n    <tr>\n      <th>2</th>\n      <td>Morehead Planetarium</td>\n      <td>Morehead Planetarium, 250, East Franklin Stree...</td>\n      <td>Museum</td>\n      <td>35.913916</td>\n      <td>-79.050422</td>\n    </tr>\n    <tr>\n      <th>3</th>\n      <td>UNC at chapel hill</td>\n      <td>University of North Carolina, NCNB Aly, Frankl...</td>\n      <td>Site</td>\n      <td>35.905035</td>\n      <td>-79.047753</td>\n    </tr>\n    <tr>\n      <th>4</th>\n      <td>Morehead-Patterson Bell Tower</td>\n      <td>Morehead-Patterson Bell Tower, 200, South Road...</td>\n      <td>Site</td>\n      <td>35.908607</td>\n      <td>-79.049216</td>\n    </tr>\n    <tr>\n      <th>5</th>\n      <td>Coker arboretum</td>\n      <td>Coker Arboretum, 110, Raleigh Street, Franklin...</td>\n      <td>Garden</td>\n      <td>35.913749</td>\n      <td>-79.049046</td>\n    </tr>\n    <tr>\n      <th>6</th>\n      <td>Chapel hill public library</td>\n      <td>Chapel Hill Public Library, 100, Library Drive...</td>\n      <td>Site</td>\n      <td>35.932130</td>\n      <td>-79.035753</td>\n    </tr>\n    <tr>\n      <th>7</th>\n      <td>Chapel of the cross</td>\n      <td>Chapel of the Cross, 304, East Franklin Street...</td>\n      <td>Site</td>\n      <td>35.914613</td>\n      <td>-79.049949</td>\n    </tr>\n    <tr>\n      <th>8</th>\n      <td>Forest Theatre</td>\n      <td>Forest Theatre, 300, South Boundary Street, Fr...</td>\n      <td>Site</td>\n      <td>35.913393</td>\n      <td>-79.044875</td>\n    </tr>\n    <tr>\n      <th>9</th>\n      <td>Battle Park</td>\n      <td>Battle Park, Baby Hollow, Chapel Hill, Orange ...</td>\n      <td>Garden</td>\n      <td>35.913344</td>\n      <td>-79.043693</td>\n    </tr>\n    <tr>\n      <th>10</th>\n      <td>Hippol Castle</td>\n      <td>Hippol Castle, Shaffer Circle, Chapel Hill, Or...</td>\n      <td>Garden</td>\n      <td>35.911927</td>\n      <td>-79.036071</td>\n    </tr>\n    <tr>\n      <th>11</th>\n      <td>Old Well</td>\n      <td>Old Well, 201, East Cameron Avenue, Franklin-R...</td>\n      <td>Site</td>\n      <td>35.912063</td>\n      <td>-79.051235</td>\n    </tr>\n    <tr>\n      <th>12</th>\n      <td>McCorkle Place</td>\n      <td>McCorkle Place, Franklin-Rosemary Historic Dis...</td>\n      <td>Garden</td>\n      <td>35.913336</td>\n      <td>-79.051969</td>\n    </tr>\n    <tr>\n      <th>13</th>\n      <td>He's Not Here</td>\n      <td>He's Not Here, 112, West Franklin Street, Fran...</td>\n      <td>Restaurant</td>\n      <td>35.913280</td>\n      <td>-79.056798</td>\n    </tr>\n    <tr>\n      <th>14</th>\n      <td>Epilogue Books Chocolate Brews</td>\n      <td>Not found</td>\n      <td>Bookstore</td>\n      <td>35.913583</td>\n      <td>-79.055384</td>\n    </tr>\n    <tr>\n      <th>15</th>\n      <td>FRANK Gallery</td>\n      <td>Not found</td>\n      <td>Site</td>\n      <td>35.910573</td>\n      <td>-79.067581</td>\n    </tr>\n    <tr>\n      <th>16</th>\n      <td>Flyleaf books</td>\n      <td>Flyleaf Books, 752, Martin Luther King Junior ...</td>\n      <td>Bookstore</td>\n      <td>35.924350</td>\n      <td>-79.053529</td>\n    </tr>\n    <tr>\n      <th>17</th>\n      <td>Top of the Hill Restaurant &amp; Brewery</td>\n      <td>Not found</td>\n      <td>Restaurant</td>\n      <td>35.912946</td>\n      <td>-79.055369</td>\n    </tr>\n    <tr>\n      <th>18</th>\n      <td>Merritt's Store &amp; Grill</td>\n      <td>Merritt's Store &amp; Grill, 1009, South Columbia ...</td>\n      <td>Restaurant</td>\n      <td>35.896009</td>\n      <td>-79.058275</td>\n    </tr>\n    <tr>\n      <th>19</th>\n      <td>Kipos Greek Taverna</td>\n      <td>Kipos Greek Taverna, 431, West Franklin Street...</td>\n      <td>Restaurant</td>\n      <td>35.910174</td>\n      <td>-79.062888</td>\n    </tr>\n    <tr>\n      <th>20</th>\n      <td>Mediterranean Deli, Bakery, and Catering</td>\n      <td>Not found</td>\n      <td>Restaurant</td>\n      <td>35.911310</td>\n      <td>-79.060991</td>\n    </tr>\n    <tr>\n      <th>21</th>\n      <td>Al's burger shack restaurant</td>\n      <td>Al's Burger Shack, 516, West Franklin Street, ...</td>\n      <td>Restaurant</td>\n      <td>35.910110</td>\n      <td>-79.064068</td>\n    </tr>\n    <tr>\n      <th>22</th>\n      <td>Lantern restaurant</td>\n      <td>Lantern, Basnight Lane North, Downtown, Chapel...</td>\n      <td>Restaurant</td>\n      <td>35.910387</td>\n      <td>-79.062281</td>\n    </tr>\n    <tr>\n      <th>23</th>\n      <td>Stoney River Steakhouse and Grill</td>\n      <td>Not found</td>\n      <td>Restaurant</td>\n      <td>35.928170</td>\n      <td>-79.028710</td>\n    </tr>\n    <tr>\n      <th>24</th>\n      <td>Carolina Basketball Museum</td>\n      <td>Carolina Basketball Museum, 450, Skipper Bowle...</td>\n      <td>Museum</td>\n      <td>35.899950</td>\n      <td>-79.042149</td>\n    </tr>\n    <tr>\n      <th>25</th>\n      <td>Horace Williams House</td>\n      <td>Horace Williams House, 610, East Rosemary Stre...</td>\n      <td>Museum</td>\n      <td>35.917831</td>\n      <td>-79.045197</td>\n    </tr>\n    <tr>\n      <th>26</th>\n      <td>Sutton's Drug Store</td>\n      <td>Sutton's Drug Store, 159, East Franklin Street...</td>\n      <td>Restaurant</td>\n      <td>35.914062</td>\n      <td>-79.053859</td>\n    </tr>\n    <tr>\n      <th>27</th>\n      <td>Cold Stone Creamery</td>\n      <td>Cold Stone Creamery, 131, East Franklin Street...</td>\n      <td>Restaurant</td>\n      <td>35.913713</td>\n      <td>-79.054774</td>\n    </tr>\n    <tr>\n      <th>28</th>\n      <td>The Blue Horn Lounge</td>\n      <td>Not found</td>\n      <td>Restaurant</td>\n      <td>35.913675</td>\n      <td>-79.054869</td>\n    </tr>\n    <tr>\n      <th>29</th>\n      <td>La Residence</td>\n      <td>La Residence, 202, West Rosemary Street, Frank...</td>\n      <td>Restaurant</td>\n      <td>35.913632</td>\n      <td>-79.057767</td>\n    </tr>\n    <tr>\n      <th>30</th>\n      <td>CholaNad Restaurant &amp; Bar</td>\n      <td>Not found</td>\n      <td>Restaurant</td>\n      <td>35.911509</td>\n      <td>-79.060476</td>\n    </tr>\n    <tr>\n      <th>31</th>\n      <td>Talullas</td>\n      <td>Talullas, West Franklin Street, Downtown, Chap...</td>\n      <td>Restaurant</td>\n      <td>35.910659</td>\n      <td>-79.062639</td>\n    </tr>\n    <tr>\n      <th>32</th>\n      <td>Bonchon</td>\n      <td>Not found</td>\n      <td>Restaurant</td>\n      <td>35.914491</td>\n      <td>-79.052653</td>\n    </tr>\n    <tr>\n      <th>33</th>\n      <td>Tarantini Italian Restaurant</td>\n      <td>Not found</td>\n      <td>Restaurant</td>\n      <td>35.854016</td>\n      <td>-79.025026</td>\n    </tr>\n  </tbody>\n</table>\n</div>"
     },
     "execution_count": 170,
     "metadata": {},
     "output_type": "execute_result"
    }
   ],
   "source": [
    "def get_coordinates(row):\n",
    "    if row['Address'] != 'Not found': # check if Address is not \"Not found\"\n",
    "        location = address_to_coordinates(row['Address'])\n",
    "        if location:\n",
    "            row['Latitude'] = location[0] # add latitude value to row\n",
    "            row['Longitude'] = location[1] # add longitude value to row\n",
    "    return row\n",
    "\n",
    "# apply the function to the dataframe using apply method\n",
    "df = df.apply(get_coordinates, axis=1)\n",
    "df"
   ],
   "metadata": {
    "collapsed": false
   }
  },
  {
   "cell_type": "markdown",
   "source": [
    "# Map out all places"
   ],
   "metadata": {
    "collapsed": false
   }
  },
  {
   "cell_type": "markdown",
   "source": [
    "## Clustering preparation"
   ],
   "metadata": {
    "collapsed": false
   }
  },
  {
   "cell_type": "code",
   "execution_count": 171,
   "outputs": [
    {
     "data": {
      "text/plain": "array([[-79.03110564,  35.8973342 ],\n       [-79.05488963,  35.9125678 ],\n       [-79.05042204,  35.9139158 ],\n       [-79.04775327,  35.90503535],\n       [-79.0492161 ,  35.90860695],\n       [-79.04904597,  35.91374855],\n       [-79.03575313,  35.9321298 ],\n       [-79.04994946,  35.91461315],\n       [-79.04487461,  35.91339325],\n       [-79.04369318,  35.91334435],\n       [-79.03607142,  35.9119266 ],\n       [-79.05123467,  35.9120628 ],\n       [-79.05196914,  35.91333555],\n       [-79.0553836 ,  35.91358286],\n       [-79.06758108,  35.91057259],\n       [-79.0535287 ,  35.9243502 ],\n       [-79.04214865,  35.89995045],\n       [-79.04519657,  35.91783095]])"
     },
     "execution_count": 171,
     "metadata": {},
     "output_type": "execute_result"
    }
   ],
   "source": [
    "df_no_restaurant = df[df['Category'] != 'Restaurant'].copy() # Create a new\n",
    "# dataframe without the Restaurant category. This is because I don't visit\n",
    "# restaurants\n",
    "\n",
    "X = df_no_restaurant[['Longitude', 'Latitude']].values # Extract the Longitude and Latitude columns from the new dataframe\n",
    "\n",
    "X"
   ],
   "metadata": {
    "collapsed": false
   }
  },
  {
   "cell_type": "markdown",
   "source": [
    "### Optimal cluster number determination"
   ],
   "metadata": {
    "collapsed": false
   }
  },
  {
   "cell_type": "code",
   "execution_count": 172,
   "outputs": [
    {
     "data": {
      "text/plain": "<Figure size 640x480 with 1 Axes>",
      "image/png": "[encoded data removed]"
     },
     "metadata": {},
     "output_type": "display_data"
    }
   ],
   "source": [
    "max_num_try_cluster = determine_max_num_try_cluster(X)\n",
    "optimal_cluster_num = make_elbow_plot(X, max_num_try_cluster)"
   ],
   "metadata": {
    "collapsed": false
   }
  },
  {
   "cell_type": "markdown",
   "source": [
    "## Plt scatter map\n",
    "* Can do clustering on the sites excluding restaurants"
   ],
   "metadata": {
    "collapsed": false
   }
  },
  {
   "cell_type": "code",
   "execution_count": 173,
   "outputs": [
    {
     "data": {
      "text/plain": "<Figure size 1000x800 with 1 Axes>",
      "image/png": "[encoded data removed]"
     },
     "metadata": {},
     "output_type": "display_data"
    }
   ],
   "source": [
    "# Define the marker style and color for each category\n",
    "marker_dict = {\n",
    "    'Restaurant': '*',\n",
    "    'Site': 'o',\n",
    "    'Garden': 'o',\n",
    "    'Museum': 'o',\n",
    "    'Bookstore': 'o'\n",
    "}\n",
    "\n",
    "color_dict = {\n",
    "    'Restaurant': 'yellow',\n",
    "    'Site': 'blue',\n",
    "    'Garden': 'green',\n",
    "    'Museum': 'red',\n",
    "    'Bookstore': 'purple'\n",
    "}\n",
    "\n",
    "# Create the scatter plot\n",
    "fig, ax = plt.subplots(figsize=(10, 8))\n",
    "\n",
    "# Plot each category separately with a different marker style and color\n",
    "for category in df['Category'].unique():\n",
    "    mask = df['Category'] == category\n",
    "    if category == 'Restaurant':\n",
    "        ax.scatter(df['Longitude'][mask], df['Latitude'][mask],\n",
    "                   marker=marker_dict[category], color=color_dict[category],\n",
    "                   s=200, label=category, edgecolor='black', alpha=0.5)\n",
    "    else:\n",
    "        ax.scatter(df['Longitude'][mask], df['Latitude'][mask],\n",
    "                   marker=marker_dict[category], color=color_dict[category],\n",
    "                   s=100, label=category, edgecolor='black', alpha=0.5)\n",
    "\n",
    "# Set the chart title and axis labels\n",
    "ax.set_title('Chapel Hill places to visit')\n",
    "ax.set_xlabel('Longitude')\n",
    "ax.set_ylabel('Latitude')\n",
    "\n",
    "# Add a legend to the plot\n",
    "handles, labels = ax.get_legend_handles_labels()\n",
    "handles = [handles[i] for i in [3, 0, 1, 2,4]]\n",
    "labels = [labels[i] for i in [3, 0, 1, 2,4]]\n",
    "ax.legend(handles, labels, loc='center left', bbox_to_anchor=(1.0, 0.5))\n",
    "\n",
    "# Show the plot\n",
    "plt.show()"
   ],
   "metadata": {
    "collapsed": false
   }
  },
  {
   "cell_type": "markdown",
   "source": [
    "### KMean clustering"
   ],
   "metadata": {
    "collapsed": false
   }
  },
  {
   "cell_type": "code",
   "execution_count": 174,
   "outputs": [
    {
     "data": {
      "text/plain": "    Cluster                        PlaceName   \n16        0                    Flyleaf books  \\\n1         1               Ackland art museum   \n2         1             Morehead Planetarium   \n3         1               UNC at chapel hill   \n4         1    Morehead-Patterson Bell Tower   \n5         1                  Coker arboretum   \n7         1              Chapel of the cross   \n11        1                         Old Well   \n12        1                   McCorkle Place   \n14        1   Epilogue Books Chocolate Brews   \n0         2  North Carolina botanical garden   \n24        2       Carolina Basketball Museum   \n6         3       Chapel hill public library   \n15        4                    FRANK Gallery   \n8         5                   Forest Theatre   \n9         5                      Battle Park   \n10        5                    Hippol Castle   \n25        5            Horace Williams House   \n\n                                              Address   Category   Latitude   \n16  Flyleaf Books, 752, Martin Luther King Junior ...  Bookstore  35.924350  \\\n1   Ackland Art Museum, 101, South Columbia Street...     Museum  35.912568   \n2   Morehead Planetarium, 250, East Franklin Stree...     Museum  35.913916   \n3   University of North Carolina, NCNB Aly, Frankl...       Site  35.905035   \n4   Morehead-Patterson Bell Tower, 200, South Road...       Site  35.908607   \n5   Coker Arboretum, 110, Raleigh Street, Franklin...     Garden  35.913749   \n7   Chapel of the Cross, 304, East Franklin Street...       Site  35.914613   \n11  Old Well, 201, East Cameron Avenue, Franklin-R...       Site  35.912063   \n12  McCorkle Place, Franklin-Rosemary Historic Dis...     Garden  35.913336   \n14                                          Not found  Bookstore  35.913583   \n0   North Carolina Botanical Garden, Fordham Boule...     Garden  35.897334   \n24  Carolina Basketball Museum, 450, Skipper Bowle...     Museum  35.899950   \n6   Chapel Hill Public Library, 100, Library Drive...       Site  35.932130   \n15                                          Not found       Site  35.910573   \n8   Forest Theatre, 300, South Boundary Street, Fr...       Site  35.913393   \n9   Battle Park, Baby Hollow, Chapel Hill, Orange ...     Garden  35.913344   \n10  Hippol Castle, Shaffer Circle, Chapel Hill, Or...     Garden  35.911927   \n25  Horace Williams House, 610, East Rosemary Stre...     Museum  35.917831   \n\n    Longitude  \n16 -79.053529  \n1  -79.054890  \n2  -79.050422  \n3  -79.047753  \n4  -79.049216  \n5  -79.049046  \n7  -79.049949  \n11 -79.051235  \n12 -79.051969  \n14 -79.055384  \n0  -79.031106  \n24 -79.042149  \n6  -79.035753  \n15 -79.067581  \n8  -79.044875  \n9  -79.043693  \n10 -79.036071  \n25 -79.045197  ",
      "text/html": "<div>\n<style scoped>\n    .dataframe tbody tr th:only-of-type {\n        vertical-align: middle;\n    }\n\n    .dataframe tbody tr th {\n        vertical-align: top;\n    }\n\n    .dataframe thead th {\n        text-align: right;\n    }\n</style>\n<table border=\"1\" class=\"dataframe\">\n  <thead>\n    <tr style=\"text-align: right;\">\n      <th></th>\n      <th>Cluster</th>\n      <th>PlaceName</th>\n      <th>Address</th>\n      <th>Category</th>\n      <th>Latitude</th>\n      <th>Longitude</th>\n    </tr>\n  </thead>\n  <tbody>\n    <tr>\n      <th>16</th>\n      <td>0</td>\n      <td>Flyleaf books</td>\n      <td>Flyleaf Books, 752, Martin Luther King Junior ...</td>\n      <td>Bookstore</td>\n      <td>35.924350</td>\n      <td>-79.053529</td>\n    </tr>\n    <tr>\n      <th>1</th>\n      <td>1</td>\n      <td>Ackland art museum</td>\n      <td>Ackland Art Museum, 101, South Columbia Street...</td>\n      <td>Museum</td>\n      <td>35.912568</td>\n      <td>-79.054890</td>\n    </tr>\n    <tr>\n      <th>2</th>\n      <td>1</td>\n      <td>Morehead Planetarium</td>\n      <td>Morehead Planetarium, 250, East Franklin Stree...</td>\n      <td>Museum</td>\n      <td>35.913916</td>\n      <td>-79.050422</td>\n    </tr>\n    <tr>\n      <th>3</th>\n      <td>1</td>\n      <td>UNC at chapel hill</td>\n      <td>University of North Carolina, NCNB Aly, Frankl...</td>\n      <td>Site</td>\n      <td>35.905035</td>\n      <td>-79.047753</td>\n    </tr>\n    <tr>\n      <th>4</th>\n      <td>1</td>\n      <td>Morehead-Patterson Bell Tower</td>\n      <td>Morehead-Patterson Bell Tower, 200, South Road...</td>\n      <td>Site</td>\n      <td>35.908607</td>\n      <td>-79.049216</td>\n    </tr>\n    <tr>\n      <th>5</th>\n      <td>1</td>\n      <td>Coker arboretum</td>\n      <td>Coker Arboretum, 110, Raleigh Street, Franklin...</td>\n      <td>Garden</td>\n      <td>35.913749</td>\n      <td>-79.049046</td>\n    </tr>\n    <tr>\n      <th>7</th>\n      <td>1</td>\n      <td>Chapel of the cross</td>\n      <td>Chapel of the Cross, 304, East Franklin Street...</td>\n      <td>Site</td>\n      <td>35.914613</td>\n      <td>-79.049949</td>\n    </tr>\n    <tr>\n      <th>11</th>\n      <td>1</td>\n      <td>Old Well</td>\n      <td>Old Well, 201, East Cameron Avenue, Franklin-R...</td>\n      <td>Site</td>\n      <td>35.912063</td>\n      <td>-79.051235</td>\n    </tr>\n    <tr>\n      <th>12</th>\n      <td>1</td>\n      <td>McCorkle Place</td>\n      <td>McCorkle Place, Franklin-Rosemary Historic Dis...</td>\n      <td>Garden</td>\n      <td>35.913336</td>\n      <td>-79.051969</td>\n    </tr>\n    <tr>\n      <th>14</th>\n      <td>1</td>\n      <td>Epilogue Books Chocolate Brews</td>\n      <td>Not found</td>\n      <td>Bookstore</td>\n      <td>35.913583</td>\n      <td>-79.055384</td>\n    </tr>\n    <tr>\n      <th>0</th>\n      <td>2</td>\n      <td>North Carolina botanical garden</td>\n      <td>North Carolina Botanical Garden, Fordham Boule...</td>\n      <td>Garden</td>\n      <td>35.897334</td>\n      <td>-79.031106</td>\n    </tr>\n    <tr>\n      <th>24</th>\n      <td>2</td>\n      <td>Carolina Basketball Museum</td>\n      <td>Carolina Basketball Museum, 450, Skipper Bowle...</td>\n      <td>Museum</td>\n      <td>35.899950</td>\n      <td>-79.042149</td>\n    </tr>\n    <tr>\n      <th>6</th>\n      <td>3</td>\n      <td>Chapel hill public library</td>\n      <td>Chapel Hill Public Library, 100, Library Drive...</td>\n      <td>Site</td>\n      <td>35.932130</td>\n      <td>-79.035753</td>\n    </tr>\n    <tr>\n      <th>15</th>\n      <td>4</td>\n      <td>FRANK Gallery</td>\n      <td>Not found</td>\n      <td>Site</td>\n      <td>35.910573</td>\n      <td>-79.067581</td>\n    </tr>\n    <tr>\n      <th>8</th>\n      <td>5</td>\n      <td>Forest Theatre</td>\n      <td>Forest Theatre, 300, South Boundary Street, Fr...</td>\n      <td>Site</td>\n      <td>35.913393</td>\n      <td>-79.044875</td>\n    </tr>\n    <tr>\n      <th>9</th>\n      <td>5</td>\n      <td>Battle Park</td>\n      <td>Battle Park, Baby Hollow, Chapel Hill, Orange ...</td>\n      <td>Garden</td>\n      <td>35.913344</td>\n      <td>-79.043693</td>\n    </tr>\n    <tr>\n      <th>10</th>\n      <td>5</td>\n      <td>Hippol Castle</td>\n      <td>Hippol Castle, Shaffer Circle, Chapel Hill, Or...</td>\n      <td>Garden</td>\n      <td>35.911927</td>\n      <td>-79.036071</td>\n    </tr>\n    <tr>\n      <th>25</th>\n      <td>5</td>\n      <td>Horace Williams House</td>\n      <td>Horace Williams House, 610, East Rosemary Stre...</td>\n      <td>Museum</td>\n      <td>35.917831</td>\n      <td>-79.045197</td>\n    </tr>\n  </tbody>\n</table>\n</div>"
     },
     "execution_count": 174,
     "metadata": {},
     "output_type": "execute_result"
    }
   ],
   "source": [
    "# Perform KMeans clustering on the data points\n",
    "num_cluster = int(input('How many clusters do you want? The recommendation '\n",
    "                        'is {}'.format(optimal_cluster_num)) or optimal_cluster_num) #You\n",
    "# can give a number for clustering or just use the recommended number\n",
    "\n",
    "kmeans = KMeans(\n",
    "    n_clusters=num_cluster,\n",
    "    n_init = 30\n",
    ")\n",
    "\n",
    "df_no_restaurant['Cluster'] = kmeans.fit_predict\\\n",
    "    (df_no_restaurant[['Latitude', 'Longitude']]) # Add\n",
    "# the cluster labels\n",
    "# as a new\n",
    "# column to the dataframe\n",
    "\n",
    "#The 2 lines below move the Cluster column to be the 1st column\n",
    "cluster = df_no_restaurant.pop('Cluster')\n",
    "df_no_restaurant.insert(0, 'Cluster', cluster)\n",
    "\n",
    "df_no_restaurant = df_no_restaurant.sort_values(by=['Cluster']) # Sort the DataFrame by the Cluster column\n",
    "\n",
    "df_no_restaurant"
   ],
   "metadata": {
    "collapsed": false
   }
  },
  {
   "cell_type": "code",
   "execution_count": 175,
   "outputs": [
    {
     "data": {
      "text/plain": "<Figure size 1000x800 with 1 Axes>",
      "image/png": "[encoded data removed]"
     },
     "metadata": {},
     "output_type": "display_data"
    }
   ],
   "source": [
    "# Plot the clustered data points with the new marker and color dictionaries\n",
    "fig, ax = plt.subplots(figsize=(10, 8))\n",
    "\n",
    "scatter_non_restaurant = ax.scatter( #Draw cluster plot for all the\n",
    "    # non-restaurants\n",
    "    df_no_restaurant['Longitude'],\n",
    "    df_no_restaurant['Latitude'],\n",
    "    c=df_no_restaurant['Cluster'],\n",
    "    alpha=1,\n",
    "    s=100,\n",
    "    edgecolor='black',\n",
    ")\n",
    "\n",
    "scatter_restaurant = ax.scatter( #Label out all the restaurants\n",
    "    df[df['Category']=='Restaurant']['Longitude'],\n",
    "    df[df['Category']=='Restaurant']['Latitude'],\n",
    "    marker='*',\n",
    "    c='yellow',\n",
    "    alpha=0.8,\n",
    "    s=150,\n",
    "    edgecolor='black',\n",
    ")\n",
    "\n",
    "# The 2 lines below output the colors used in the scatter plot so the later\n",
    "# convex hull interpolation can use the same color as the points\n",
    "labels = df_no_restaurant['Cluster'].unique() # Get the unique cluster labels\n",
    "color_list = scatter_non_restaurant.cmap(scatter_non_restaurant.norm(labels)) # Get the colors used for each label\n",
    "\n",
    "\n",
    "\n",
    "for cluster_idx in df_no_restaurant.Cluster.unique(): #Add in the convex\n",
    "    # hull and interpolate\n",
    "    if df_no_restaurant[df_no_restaurant.Cluster == cluster_idx].shape[0] >= \\\n",
    "            3: #If a cluster has less than 3 points, plotting the hull will\n",
    "        # give an error, so you should skip the cluster who has less than 3\n",
    "        # data points\n",
    "        points = df_no_restaurant[df_no_restaurant.Cluster ==\n",
    "                                  cluster_idx][['Longitude','Latitude']].values\n",
    "\n",
    "        hull = ConvexHull(points) # Get convex hull\n",
    "\n",
    "        # get x and y coordinates\n",
    "        # repeat last point to close the polygon\n",
    "        x_hull = np.append(\n",
    "            points[hull.vertices,0],\n",
    "            points[hull.vertices,0][0]\n",
    "        )\n",
    "        y_hull = np.append(\n",
    "            points[hull.vertices,1],\n",
    "            points[hull.vertices,1][0]\n",
    "        )\n",
    "\n",
    "        # Make interpolation\n",
    "        dist = np.sqrt((x_hull[:-1] - x_hull[1:])**2 + (y_hull[:-1] - y_hull[1:])**2)\n",
    "        dist_along = np.concatenate(([0], dist.cumsum()))\n",
    "        spline, u = interpolate.splprep(\n",
    "            [x_hull, y_hull],\n",
    "            u=dist_along,\n",
    "            s=0,\n",
    "            per=1\n",
    "        )\n",
    "        interp_d = np.linspace(dist_along[0], dist_along[-1], 50)\n",
    "        interp_x, interp_y = interpolate.splev(interp_d, spline)\n",
    "\n",
    "        # plot shape\n",
    "        plt.fill(\n",
    "            interp_x,\n",
    "            interp_y,\n",
    "            '--',\n",
    "            c=color_list[cluster_idx],\n",
    "            alpha=0.3\n",
    "        )\n",
    "\n",
    "ax.set_title('Chapel Hill places to visit (excluding Restaurants)')\n",
    "ax.set_xlabel('Longitude')\n",
    "ax.set_ylabel('Latitude')\n",
    "plt.figtext(\n",
    "    0,\n",
    "    0,\n",
    "    'Only cluster with 3 points have a convex hull '\n",
    "    'interpolation\\nNon-stars are non-restaurant sites\\nYellow '\n",
    "    'starts are restaurants',\n",
    "    ha='left',\n",
    "    fontsize=10,\n",
    "    color = 'red'\n",
    ")\n",
    "\n",
    "plt.show()"
   ],
   "metadata": {
    "collapsed": false
   }
  },
  {
   "cell_type": "markdown",
   "source": [
    "## Plotly map\n",
    "* Interactive maps with place_name in the hover label"
   ],
   "metadata": {
    "collapsed": false
   }
  },
  {
   "cell_type": "code",
   "execution_count": 176,
   "outputs": [
    {
     "data": {
      "application/vnd.plotly.v1+json": {
       "data": [
        {
         "hovertemplate": "<b>%{hovertext}</b>",
         "hovertext": [
          "He's Not Here ",
          "Top of the Hill Restaurant & Brewery",
          "Merritt's Store & Grill",
          "Kipos Greek Taverna",
          "Mediterranean Deli, Bakery, and Catering",
          "Al's burger shack restaurant",
          "Lantern restaurant",
          "Stoney River Steakhouse and Grill",
          "Sutton's Drug Store",
          "Cold Stone Creamery",
          "The Blue Horn Lounge",
          "La Residence",
          "CholaNad Restaurant & Bar",
          "Talullas",
          "Bonchon",
          "Tarantini Italian Restaurant"
         ],
         "legendgroup": "Restaurant",
         "marker": {
          "color": "yellow",
          "opacity": 0.7,
          "symbol": "star",
          "line": {
           "color": "Black",
           "width": 2
          },
          "size": 10
         },
         "mode": "markers",
         "name": "Restaurant",
         "orientation": "v",
         "showlegend": true,
         "x": [
          -79.056798,
          -79.05536917740552,
          -79.05827543042925,
          -79.0628881,
          -79.06099069351794,
          -79.0640683,
          -79.06228058988057,
          -79.02871015024913,
          -79.0538591,
          -79.0547738,
          -79.05486869378159,
          -79.0577674,
          -79.06047572961023,
          -79.0626393,
          -79.05265336005759,
          -79.02502612829082
         ],
         "xaxis": "x",
         "y": [
          35.9132796,
          35.91294582504525,
          35.8960085,
          35.9101744,
          35.911309760370585,
          35.9101103,
          35.910386849999995,
          35.92817031282622,
          35.9140624,
          35.9137132,
          35.91367474811742,
          35.9136319,
          35.91150879898124,
          35.9106593,
          35.91449114859053,
          35.85401568334828
         ],
         "yaxis": "y",
         "type": "scatter"
        },
        {
         "hovertemplate": "<b>%{hovertext}</b>",
         "hovertext": [
          "UNC at chapel hill",
          "Morehead-Patterson Bell Tower",
          "Chapel hill public library",
          "Chapel of the cross",
          "Forest Theatre",
          "Old Well",
          "FRANK Gallery"
         ],
         "legendgroup": "Site",
         "marker": {
          "color": "blue",
          "opacity": 0.7,
          "symbol": "circle",
          "line": {
           "color": "Black",
           "width": 2
          },
          "size": 10
         },
         "mode": "markers",
         "name": "Site",
         "orientation": "v",
         "showlegend": true,
         "x": [
          -79.04775326525107,
          -79.04921610000001,
          -79.0357531305452,
          -79.04994946412324,
          -79.04487460582956,
          -79.05123466879807,
          -79.06758108248158
         ],
         "xaxis": "x",
         "y": [
          35.90503535,
          35.90860695000001,
          35.9321298,
          35.91461315,
          35.91339325,
          35.9120628,
          35.910572591584994
         ],
         "yaxis": "y",
         "type": "scatter"
        },
        {
         "hovertemplate": "<b>%{hovertext}</b>",
         "hovertext": [
          "North Carolina botanical garden",
          "Coker arboretum",
          "Battle Park",
          "Hippol Castle",
          "McCorkle Place"
         ],
         "legendgroup": "Garden",
         "marker": {
          "color": "green",
          "opacity": 0.7,
          "symbol": "circle",
          "line": {
           "color": "Black",
           "width": 2
          },
          "size": 10
         },
         "mode": "markers",
         "name": "Garden",
         "orientation": "v",
         "showlegend": true,
         "x": [
          -79.03110564008378,
          -79.04904597132534,
          -79.04369317938253,
          -79.03607141723717,
          -79.05196914479636
         ],
         "xaxis": "x",
         "y": [
          35.8973342,
          35.91374855,
          35.91334435,
          35.9119266,
          35.91333555
         ],
         "yaxis": "y",
         "type": "scatter"
        },
        {
         "hovertemplate": "<b>%{hovertext}</b>",
         "hovertext": [
          "Ackland art museum",
          "Morehead Planetarium",
          "Carolina Basketball Museum",
          "Horace Williams House"
         ],
         "legendgroup": "Museum",
         "marker": {
          "color": "red",
          "opacity": 0.7,
          "symbol": "circle",
          "line": {
           "color": "Black",
           "width": 2
          },
          "size": 10
         },
         "mode": "markers",
         "name": "Museum",
         "orientation": "v",
         "showlegend": true,
         "x": [
          -79.0548896321919,
          -79.05042203855663,
          -79.04214864803632,
          -79.04519657023516
         ],
         "xaxis": "x",
         "y": [
          35.912567800000005,
          35.9139158,
          35.89995045,
          35.917830949999995
         ],
         "yaxis": "y",
         "type": "scatter"
        },
        {
         "hovertemplate": "<b>%{hovertext}</b>",
         "hovertext": [
          "Epilogue Books Chocolate Brews",
          "Flyleaf books"
         ],
         "legendgroup": "Bookstore",
         "marker": {
          "color": "purple",
          "opacity": 0.7,
          "symbol": "circle",
          "line": {
           "color": "Black",
           "width": 2
          },
          "size": 10
         },
         "mode": "markers",
         "name": "Bookstore",
         "orientation": "v",
         "showlegend": true,
         "x": [
          -79.05538359568585,
          -79.0535287
         ],
         "xaxis": "x",
         "y": [
          35.91358285610324,
          35.9243502
         ],
         "yaxis": "y",
         "type": "scatter"
        }
       ],
       "layout": {
        "template": {
         "data": {
          "histogram2dcontour": [
           {
            "type": "histogram2dcontour",
            "colorbar": {
             "outlinewidth": 0,
             "ticks": ""
            },
            "colorscale": [
             [
              0.0,
              "#0d0887"
             ],
             [
              0.1111111111111111,
              "#46039f"
             ],
             [
              0.2222222222222222,
              "#7201a8"
             ],
             [
              0.3333333333333333,
              "#9c179e"
             ],
             [
              0.4444444444444444,
              "#bd3786"
             ],
             [
              0.5555555555555556,
              "#d8576b"
             ],
             [
              0.6666666666666666,
              "#ed7953"
             ],
             [
              0.7777777777777778,
              "#fb9f3a"
             ],
             [
              0.8888888888888888,
              "#fdca26"
             ],
             [
              1.0,
              "#f0f921"
             ]
            ]
           }
          ],
          "choropleth": [
           {
            "type": "choropleth",
            "colorbar": {
             "outlinewidth": 0,
             "ticks": ""
            }
           }
          ],
          "histogram2d": [
           {
            "type": "histogram2d",
            "colorbar": {
             "outlinewidth": 0,
             "ticks": ""
            },
            "colorscale": [
             [
              0.0,
              "#0d0887"
             ],
             [
              0.1111111111111111,
              "#46039f"
             ],
             [
              0.2222222222222222,
              "#7201a8"
             ],
             [
              0.3333333333333333,
              "#9c179e"
             ],
             [
              0.4444444444444444,
              "#bd3786"
             ],
             [
              0.5555555555555556,
              "#d8576b"
             ],
             [
              0.6666666666666666,
              "#ed7953"
             ],
             [
              0.7777777777777778,
              "#fb9f3a"
             ],
             [
              0.8888888888888888,
              "#fdca26"
             ],
             [
              1.0,
              "#f0f921"
             ]
            ]
           }
          ],
          "heatmap": [
           {
            "type": "heatmap",
            "colorbar": {
             "outlinewidth": 0,
             "ticks": ""
            },
            "colorscale": [
             [
              0.0,
              "#0d0887"
             ],
             [
              0.1111111111111111,
              "#46039f"
             ],
             [
              0.2222222222222222,
              "#7201a8"
             ],
             [
              0.3333333333333333,
              "#9c179e"
             ],
             [
              0.4444444444444444,
              "#bd3786"
             ],
             [
              0.5555555555555556,
              "#d8576b"
             ],
             [
              0.6666666666666666,
              "#ed7953"
             ],
             [
              0.7777777777777778,
              "#fb9f3a"
             ],
             [
              0.8888888888888888,
              "#fdca26"
             ],
             [
              1.0,
              "#f0f921"
             ]
            ]
           }
          ],
          "heatmapgl": [
           {
            "type": "heatmapgl",
            "colorbar": {
             "outlinewidth": 0,
             "ticks": ""
            },
            "colorscale": [
             [
              0.0,
              "#0d0887"
             ],
             [
              0.1111111111111111,
              "#46039f"
             ],
             [
              0.2222222222222222,
              "#7201a8"
             ],
             [
              0.3333333333333333,
              "#9c179e"
             ],
             [
              0.4444444444444444,
              "#bd3786"
             ],
             [
              0.5555555555555556,
              "#d8576b"
             ],
             [
              0.6666666666666666,
              "#ed7953"
             ],
             [
              0.7777777777777778,
              "#fb9f3a"
             ],
             [
              0.8888888888888888,
              "#fdca26"
             ],
             [
              1.0,
              "#f0f921"
             ]
            ]
           }
          ],
          "contourcarpet": [
           {
            "type": "contourcarpet",
            "colorbar": {
             "outlinewidth": 0,
             "ticks": ""
            }
           }
          ],
          "contour": [
           {
            "type": "contour",
            "colorbar": {
             "outlinewidth": 0,
             "ticks": ""
            },
            "colorscale": [
             [
              0.0,
              "#0d0887"
             ],
             [
              0.1111111111111111,
              "#46039f"
             ],
             [
              0.2222222222222222,
              "#7201a8"
             ],
             [
              0.3333333333333333,
              "#9c179e"
             ],
             [
              0.4444444444444444,
              "#bd3786"
             ],
             [
              0.5555555555555556,
              "#d8576b"
             ],
             [
              0.6666666666666666,
              "#ed7953"
             ],
             [
              0.7777777777777778,
              "#fb9f3a"
             ],
             [
              0.8888888888888888,
              "#fdca26"
             ],
             [
              1.0,
              "#f0f921"
             ]
            ]
           }
          ],
          "surface": [
           {
            "type": "surface",
            "colorbar": {
             "outlinewidth": 0,
             "ticks": ""
            },
            "colorscale": [
             [
              0.0,
              "#0d0887"
             ],
             [
              0.1111111111111111,
              "#46039f"
             ],
             [
              0.2222222222222222,
              "#7201a8"
             ],
             [
              0.3333333333333333,
              "#9c179e"
             ],
             [
              0.4444444444444444,
              "#bd3786"
             ],
             [
              0.5555555555555556,
              "#d8576b"
             ],
             [
              0.6666666666666666,
              "#ed7953"
             ],
             [
              0.7777777777777778,
              "#fb9f3a"
             ],
             [
              0.8888888888888888,
              "#fdca26"
             ],
             [
              1.0,
              "#f0f921"
             ]
            ]
           }
          ],
          "mesh3d": [
           {
            "type": "mesh3d",
            "colorbar": {
             "outlinewidth": 0,
             "ticks": ""
            }
           }
          ],
          "scatter": [
           {
            "fillpattern": {
             "fillmode": "overlay",
             "size": 10,
             "solidity": 0.2
            },
            "type": "scatter"
           }
          ],
          "parcoords": [
           {
            "type": "parcoords",
            "line": {
             "colorbar": {
              "outlinewidth": 0,
              "ticks": ""
             }
            }
           }
          ],
          "scatterpolargl": [
           {
            "type": "scatterpolargl",
            "marker": {
             "colorbar": {
              "outlinewidth": 0,
              "ticks": ""
             }
            }
           }
          ],
          "bar": [
           {
            "error_x": {
             "color": "#2a3f5f"
            },
            "error_y": {
             "color": "#2a3f5f"
            },
            "marker": {
             "line": {
              "color": "#E5ECF6",
              "width": 0.5
             },
             "pattern": {
              "fillmode": "overlay",
              "size": 10,
              "solidity": 0.2
             }
            },
            "type": "bar"
           }
          ],
          "scattergeo": [
           {
            "type": "scattergeo",
            "marker": {
             "colorbar": {
              "outlinewidth": 0,
              "ticks": ""
             }
            }
           }
          ],
          "scatterpolar": [
           {
            "type": "scatterpolar",
            "marker": {
             "colorbar": {
              "outlinewidth": 0,
              "ticks": ""
             }
            }
           }
          ],
          "histogram": [
           {
            "marker": {
             "pattern": {
              "fillmode": "overlay",
              "size": 10,
              "solidity": 0.2
             }
            },
            "type": "histogram"
           }
          ],
          "scattergl": [
           {
            "type": "scattergl",
            "marker": {
             "colorbar": {
              "outlinewidth": 0,
              "ticks": ""
             }
            }
           }
          ],
          "scatter3d": [
           {
            "type": "scatter3d",
            "line": {
             "colorbar": {
              "outlinewidth": 0,
              "ticks": ""
             }
            },
            "marker": {
             "colorbar": {
              "outlinewidth": 0,
              "ticks": ""
             }
            }
           }
          ],
          "scattermapbox": [
           {
            "type": "scattermapbox",
            "marker": {
             "colorbar": {
              "outlinewidth": 0,
              "ticks": ""
             }
            }
           }
          ],
          "scatterternary": [
           {
            "type": "scatterternary",
            "marker": {
             "colorbar": {
              "outlinewidth": 0,
              "ticks": ""
             }
            }
           }
          ],
          "scattercarpet": [
           {
            "type": "scattercarpet",
            "marker": {
             "colorbar": {
              "outlinewidth": 0,
              "ticks": ""
             }
            }
           }
          ],
          "carpet": [
           {
            "aaxis": {
             "endlinecolor": "#2a3f5f",
             "gridcolor": "white",
             "linecolor": "white",
             "minorgridcolor": "white",
             "startlinecolor": "#2a3f5f"
            },
            "baxis": {
             "endlinecolor": "#2a3f5f",
             "gridcolor": "white",
             "linecolor": "white",
             "minorgridcolor": "white",
             "startlinecolor": "#2a3f5f"
            },
            "type": "carpet"
           }
          ],
          "table": [
           {
            "cells": {
             "fill": {
              "color": "#EBF0F8"
             },
             "line": {
              "color": "white"
             }
            },
            "header": {
             "fill": {
              "color": "#C8D4E3"
             },
             "line": {
              "color": "white"
             }
            },
            "type": "table"
           }
          ],
          "barpolar": [
           {
            "marker": {
             "line": {
              "color": "#E5ECF6",
              "width": 0.5
             },
             "pattern": {
              "fillmode": "overlay",
              "size": 10,
              "solidity": 0.2
             }
            },
            "type": "barpolar"
           }
          ],
          "pie": [
           {
            "automargin": true,
            "type": "pie"
           }
          ]
         },
         "layout": {
          "autotypenumbers": "strict",
          "colorway": [
           "#636efa",
           "#EF553B",
           "#00cc96",
           "#ab63fa",
           "#FFA15A",
           "#19d3f3",
           "#FF6692",
           "#B6E880",
           "#FF97FF",
           "#FECB52"
          ],
          "font": {
           "color": "#2a3f5f"
          },
          "hovermode": "closest",
          "hoverlabel": {
           "align": "left"
          },
          "paper_bgcolor": "white",
          "plot_bgcolor": "#E5ECF6",
          "polar": {
           "bgcolor": "#E5ECF6",
           "angularaxis": {
            "gridcolor": "white",
            "linecolor": "white",
            "ticks": ""
           },
           "radialaxis": {
            "gridcolor": "white",
            "linecolor": "white",
            "ticks": ""
           }
          },
          "ternary": {
           "bgcolor": "#E5ECF6",
           "aaxis": {
            "gridcolor": "white",
            "linecolor": "white",
            "ticks": ""
           },
           "baxis": {
            "gridcolor": "white",
            "linecolor": "white",
            "ticks": ""
           },
           "caxis": {
            "gridcolor": "white",
            "linecolor": "white",
            "ticks": ""
           }
          },
          "coloraxis": {
           "colorbar": {
            "outlinewidth": 0,
            "ticks": ""
           }
          },
          "colorscale": {
           "sequential": [
            [
             0.0,
             "#0d0887"
            ],
            [
             0.1111111111111111,
             "#46039f"
            ],
            [
             0.2222222222222222,
             "#7201a8"
            ],
            [
             0.3333333333333333,
             "#9c179e"
            ],
            [
             0.4444444444444444,
             "#bd3786"
            ],
            [
             0.5555555555555556,
             "#d8576b"
            ],
            [
             0.6666666666666666,
             "#ed7953"
            ],
            [
             0.7777777777777778,
             "#fb9f3a"
            ],
            [
             0.8888888888888888,
             "#fdca26"
            ],
            [
             1.0,
             "#f0f921"
            ]
           ],
           "sequentialminus": [
            [
             0.0,
             "#0d0887"
            ],
            [
             0.1111111111111111,
             "#46039f"
            ],
            [
             0.2222222222222222,
             "#7201a8"
            ],
            [
             0.3333333333333333,
             "#9c179e"
            ],
            [
             0.4444444444444444,
             "#bd3786"
            ],
            [
             0.5555555555555556,
             "#d8576b"
            ],
            [
             0.6666666666666666,
             "#ed7953"
            ],
            [
             0.7777777777777778,
             "#fb9f3a"
            ],
            [
             0.8888888888888888,
             "#fdca26"
            ],
            [
             1.0,
             "#f0f921"
            ]
           ],
           "diverging": [
            [
             0,
             "#8e0152"
            ],
            [
             0.1,
             "#c51b7d"
            ],
            [
             0.2,
             "#de77ae"
            ],
            [
             0.3,
             "#f1b6da"
            ],
            [
             0.4,
             "#fde0ef"
            ],
            [
             0.5,
             "#f7f7f7"
            ],
            [
             0.6,
             "#e6f5d0"
            ],
            [
             0.7,
             "#b8e186"
            ],
            [
             0.8,
             "#7fbc41"
            ],
            [
             0.9,
             "#4d9221"
            ],
            [
             1,
             "#276419"
            ]
           ]
          },
          "xaxis": {
           "gridcolor": "white",
           "linecolor": "white",
           "ticks": "",
           "title": {
            "standoff": 15
           },
           "zerolinecolor": "white",
           "automargin": true,
           "zerolinewidth": 2
          },
          "yaxis": {
           "gridcolor": "white",
           "linecolor": "white",
           "ticks": "",
           "title": {
            "standoff": 15
           },
           "zerolinecolor": "white",
           "automargin": true,
           "zerolinewidth": 2
          },
          "scene": {
           "xaxis": {
            "backgroundcolor": "#E5ECF6",
            "gridcolor": "white",
            "linecolor": "white",
            "showbackground": true,
            "ticks": "",
            "zerolinecolor": "white",
            "gridwidth": 2
           },
           "yaxis": {
            "backgroundcolor": "#E5ECF6",
            "gridcolor": "white",
            "linecolor": "white",
            "showbackground": true,
            "ticks": "",
            "zerolinecolor": "white",
            "gridwidth": 2
           },
           "zaxis": {
            "backgroundcolor": "#E5ECF6",
            "gridcolor": "white",
            "linecolor": "white",
            "showbackground": true,
            "ticks": "",
            "zerolinecolor": "white",
            "gridwidth": 2
           }
          },
          "shapedefaults": {
           "line": {
            "color": "#2a3f5f"
           }
          },
          "annotationdefaults": {
           "arrowcolor": "#2a3f5f",
           "arrowhead": 0,
           "arrowwidth": 1
          },
          "geo": {
           "bgcolor": "white",
           "landcolor": "#E5ECF6",
           "subunitcolor": "white",
           "showland": true,
           "showlakes": true,
           "lakecolor": "white"
          },
          "title": {
           "x": 0.05
          },
          "mapbox": {
           "style": "light"
          }
         }
        },
        "xaxis": {
         "anchor": "y",
         "domain": [
          0.0,
          1.0
         ],
         "title": {
          "text": "Longitude"
         },
         "showgrid": false,
         "zeroline": false
        },
        "yaxis": {
         "anchor": "x",
         "domain": [
          0.0,
          1.0
         ],
         "title": {
          "text": "Latitude"
         },
         "showgrid": false,
         "zeroline": false
        },
        "legend": {
         "title": {
          "text": "Category"
         },
         "tracegroupgap": 0
        },
        "margin": {
         "t": 60
        },
        "height": 600,
        "title": {
         "text": "Chapel Hill places to visit"
        },
        "plot_bgcolor": "white"
       },
       "config": {
        "plotlyServerURL": "https://plot.ly"
       }
      },
      "text/html": "<div>                            <div id=\"81292fda-38cd-42c6-bcc5-293b44b2ccaa\" class=\"plotly-graph-div\" style=\"height:600px; width:100%;\"></div>            <script type=\"text/javascript\">                require([\"plotly\"], function(Plotly) {                    window.PLOTLYENV=window.PLOTLYENV || {};                                    if (document.getElementById(\"81292fda-38cd-42c6-bcc5-293b44b2ccaa\")) {                    Plotly.newPlot(                        \"81292fda-38cd-42c6-bcc5-293b44b2ccaa\",                        [{\"hovertemplate\":\"<b>%{hovertext}</b>\",\"hovertext\":[\"He's Not Here \",\"Top of the Hill Restaurant & Brewery\",\"Merritt's Store & Grill\",\"Kipos Greek Taverna\",\"Mediterranean Deli, Bakery, and Catering\",\"Al's burger shack restaurant\",\"Lantern restaurant\",\"Stoney River Steakhouse and Grill\",\"Sutton's Drug Store\",\"Cold Stone Creamery\",\"The Blue Horn Lounge\",\"La Residence\",\"CholaNad Restaurant & Bar\",\"Talullas\",\"Bonchon\",\"Tarantini Italian Restaurant\"],\"legendgroup\":\"Restaurant\",\"marker\":{\"color\":\"yellow\",\"opacity\":0.7,\"symbol\":\"star\",\"line\":{\"color\":\"Black\",\"width\":2},\"size\":10},\"mode\":\"markers\",\"name\":\"Restaurant\",\"orientation\":\"v\",\"showlegend\":true,\"x\":[-79.056798,-79.05536917740552,-79.05827543042925,-79.0628881,-79.06099069351794,-79.0640683,-79.06228058988057,-79.02871015024913,-79.0538591,-79.0547738,-79.05486869378159,-79.0577674,-79.06047572961023,-79.0626393,-79.05265336005759,-79.02502612829082],\"xaxis\":\"x\",\"y\":[35.9132796,35.91294582504525,35.8960085,35.9101744,35.911309760370585,35.9101103,35.910386849999995,35.92817031282622,35.9140624,35.9137132,35.91367474811742,35.9136319,35.91150879898124,35.9106593,35.91449114859053,35.85401568334828],\"yaxis\":\"y\",\"type\":\"scatter\"},{\"hovertemplate\":\"<b>%{hovertext}</b>\",\"hovertext\":[\"UNC at chapel hill\",\"Morehead-Patterson Bell Tower\",\"Chapel hill public library\",\"Chapel of the cross\",\"Forest Theatre\",\"Old Well\",\"FRANK Gallery\"],\"legendgroup\":\"Site\",\"marker\":{\"color\":\"blue\",\"opacity\":0.7,\"symbol\":\"circle\",\"line\":{\"color\":\"Black\",\"width\":2},\"size\":10},\"mode\":\"markers\",\"name\":\"Site\",\"orientation\":\"v\",\"showlegend\":true,\"x\":[-79.04775326525107,-79.04921610000001,-79.0357531305452,-79.04994946412324,-79.04487460582956,-79.05123466879807,-79.06758108248158],\"xaxis\":\"x\",\"y\":[35.90503535,35.90860695000001,35.9321298,35.91461315,35.91339325,35.9120628,35.910572591584994],\"yaxis\":\"y\",\"type\":\"scatter\"},{\"hovertemplate\":\"<b>%{hovertext}</b>\",\"hovertext\":[\"North Carolina botanical garden\",\"Coker arboretum\",\"Battle Park\",\"Hippol Castle\",\"McCorkle Place\"],\"legendgroup\":\"Garden\",\"marker\":{\"color\":\"green\",\"opacity\":0.7,\"symbol\":\"circle\",\"line\":{\"color\":\"Black\",\"width\":2},\"size\":10},\"mode\":\"markers\",\"name\":\"Garden\",\"orientation\":\"v\",\"showlegend\":true,\"x\":[-79.03110564008378,-79.04904597132534,-79.04369317938253,-79.03607141723717,-79.05196914479636],\"xaxis\":\"x\",\"y\":[35.8973342,35.91374855,35.91334435,35.9119266,35.91333555],\"yaxis\":\"y\",\"type\":\"scatter\"},{\"hovertemplate\":\"<b>%{hovertext}</b>\",\"hovertext\":[\"Ackland art museum\",\"Morehead Planetarium\",\"Carolina Basketball Museum\",\"Horace Williams House\"],\"legendgroup\":\"Museum\",\"marker\":{\"color\":\"red\",\"opacity\":0.7,\"symbol\":\"circle\",\"line\":{\"color\":\"Black\",\"width\":2},\"size\":10},\"mode\":\"markers\",\"name\":\"Museum\",\"orientation\":\"v\",\"showlegend\":true,\"x\":[-79.0548896321919,-79.05042203855663,-79.04214864803632,-79.04519657023516],\"xaxis\":\"x\",\"y\":[35.912567800000005,35.9139158,35.89995045,35.917830949999995],\"yaxis\":\"y\",\"type\":\"scatter\"},{\"hovertemplate\":\"<b>%{hovertext}</b>\",\"hovertext\":[\"Epilogue Books Chocolate Brews\",\"Flyleaf books\"],\"legendgroup\":\"Bookstore\",\"marker\":{\"color\":\"purple\",\"opacity\":0.7,\"symbol\":\"circle\",\"line\":{\"color\":\"Black\",\"width\":2},\"size\":10},\"mode\":\"markers\",\"name\":\"Bookstore\",\"orientation\":\"v\",\"showlegend\":true,\"x\":[-79.05538359568585,-79.0535287],\"xaxis\":\"x\",\"y\":[35.91358285610324,35.9243502],\"yaxis\":\"y\",\"type\":\"scatter\"}],                        {\"template\":{\"data\":{\"histogram2dcontour\":[{\"type\":\"histogram2dcontour\",\"colorbar\":{\"outlinewidth\":0,\"ticks\":\"\"},\"colorscale\":[[0.0,\"#0d0887\"],[0.1111111111111111,\"#46039f\"],[0.2222222222222222,\"#7201a8\"],[0.3333333333333333,\"#9c179e\"],[0.4444444444444444,\"#bd3786\"],[0.5555555555555556,\"#d8576b\"],[0.6666666666666666,\"#ed7953\"],[0.7777777777777778,\"#fb9f3a\"],[0.8888888888888888,\"#fdca26\"],[1.0,\"#f0f921\"]]}],\"choropleth\":[{\"type\":\"choropleth\",\"colorbar\":{\"outlinewidth\":0,\"ticks\":\"\"}}],\"histogram2d\":[{\"type\":\"histogram2d\",\"colorbar\":{\"outlinewidth\":0,\"ticks\":\"\"},\"colorscale\":[[0.0,\"#0d0887\"],[0.1111111111111111,\"#46039f\"],[0.2222222222222222,\"#7201a8\"],[0.3333333333333333,\"#9c179e\"],[0.4444444444444444,\"#bd3786\"],[0.5555555555555556,\"#d8576b\"],[0.6666666666666666,\"#ed7953\"],[0.7777777777777778,\"#fb9f3a\"],[0.8888888888888888,\"#fdca26\"],[1.0,\"#f0f921\"]]}],\"heatmap\":[{\"type\":\"heatmap\",\"colorbar\":{\"outlinewidth\":0,\"ticks\":\"\"},\"colorscale\":[[0.0,\"#0d0887\"],[0.1111111111111111,\"#46039f\"],[0.2222222222222222,\"#7201a8\"],[0.3333333333333333,\"#9c179e\"],[0.4444444444444444,\"#bd3786\"],[0.5555555555555556,\"#d8576b\"],[0.6666666666666666,\"#ed7953\"],[0.7777777777777778,\"#fb9f3a\"],[0.8888888888888888,\"#fdca26\"],[1.0,\"#f0f921\"]]}],\"heatmapgl\":[{\"type\":\"heatmapgl\",\"colorbar\":{\"outlinewidth\":0,\"ticks\":\"\"},\"colorscale\":[[0.0,\"#0d0887\"],[0.1111111111111111,\"#46039f\"],[0.2222222222222222,\"#7201a8\"],[0.3333333333333333,\"#9c179e\"],[0.4444444444444444,\"#bd3786\"],[0.5555555555555556,\"#d8576b\"],[0.6666666666666666,\"#ed7953\"],[0.7777777777777778,\"#fb9f3a\"],[0.8888888888888888,\"#fdca26\"],[1.0,\"#f0f921\"]]}],\"contourcarpet\":[{\"type\":\"contourcarpet\",\"colorbar\":{\"outlinewidth\":0,\"ticks\":\"\"}}],\"contour\":[{\"type\":\"contour\",\"colorbar\":{\"outlinewidth\":0,\"ticks\":\"\"},\"colorscale\":[[0.0,\"#0d0887\"],[0.1111111111111111,\"#46039f\"],[0.2222222222222222,\"#7201a8\"],[0.3333333333333333,\"#9c179e\"],[0.4444444444444444,\"#bd3786\"],[0.5555555555555556,\"#d8576b\"],[0.6666666666666666,\"#ed7953\"],[0.7777777777777778,\"#fb9f3a\"],[0.8888888888888888,\"#fdca26\"],[1.0,\"#f0f921\"]]}],\"surface\":[{\"type\":\"surface\",\"colorbar\":{\"outlinewidth\":0,\"ticks\":\"\"},\"colorscale\":[[0.0,\"#0d0887\"],[0.1111111111111111,\"#46039f\"],[0.2222222222222222,\"#7201a8\"],[0.3333333333333333,\"#9c179e\"],[0.4444444444444444,\"#bd3786\"],[0.5555555555555556,\"#d8576b\"],[0.6666666666666666,\"#ed7953\"],[0.7777777777777778,\"#fb9f3a\"],[0.8888888888888888,\"#fdca26\"],[1.0,\"#f0f921\"]]}],\"mesh3d\":[{\"type\":\"mesh3d\",\"colorbar\":{\"outlinewidth\":0,\"ticks\":\"\"}}],\"scatter\":[{\"fillpattern\":{\"fillmode\":\"overlay\",\"size\":10,\"solidity\":0.2},\"type\":\"scatter\"}],\"parcoords\":[{\"type\":\"parcoords\",\"line\":{\"colorbar\":{\"outlinewidth\":0,\"ticks\":\"\"}}}],\"scatterpolargl\":[{\"type\":\"scatterpolargl\",\"marker\":{\"colorbar\":{\"outlinewidth\":0,\"ticks\":\"\"}}}],\"bar\":[{\"error_x\":{\"color\":\"#2a3f5f\"},\"error_y\":{\"color\":\"#2a3f5f\"},\"marker\":{\"line\":{\"color\":\"#E5ECF6\",\"width\":0.5},\"pattern\":{\"fillmode\":\"overlay\",\"size\":10,\"solidity\":0.2}},\"type\":\"bar\"}],\"scattergeo\":[{\"type\":\"scattergeo\",\"marker\":{\"colorbar\":{\"outlinewidth\":0,\"ticks\":\"\"}}}],\"scatterpolar\":[{\"type\":\"scatterpolar\",\"marker\":{\"colorbar\":{\"outlinewidth\":0,\"ticks\":\"\"}}}],\"histogram\":[{\"marker\":{\"pattern\":{\"fillmode\":\"overlay\",\"size\":10,\"solidity\":0.2}},\"type\":\"histogram\"}],\"scattergl\":[{\"type\":\"scattergl\",\"marker\":{\"colorbar\":{\"outlinewidth\":0,\"ticks\":\"\"}}}],\"scatter3d\":[{\"type\":\"scatter3d\",\"line\":{\"colorbar\":{\"outlinewidth\":0,\"ticks\":\"\"}},\"marker\":{\"colorbar\":{\"outlinewidth\":0,\"ticks\":\"\"}}}],\"scattermapbox\":[{\"type\":\"scattermapbox\",\"marker\":{\"colorbar\":{\"outlinewidth\":0,\"ticks\":\"\"}}}],\"scatterternary\":[{\"type\":\"scatterternary\",\"marker\":{\"colorbar\":{\"outlinewidth\":0,\"ticks\":\"\"}}}],\"scattercarpet\":[{\"type\":\"scattercarpet\",\"marker\":{\"colorbar\":{\"outlinewidth\":0,\"ticks\":\"\"}}}],\"carpet\":[{\"aaxis\":{\"endlinecolor\":\"#2a3f5f\",\"gridcolor\":\"white\",\"linecolor\":\"white\",\"minorgridcolor\":\"white\",\"startlinecolor\":\"#2a3f5f\"},\"baxis\":{\"endlinecolor\":\"#2a3f5f\",\"gridcolor\":\"white\",\"linecolor\":\"white\",\"minorgridcolor\":\"white\",\"startlinecolor\":\"#2a3f5f\"},\"type\":\"carpet\"}],\"table\":[{\"cells\":{\"fill\":{\"color\":\"#EBF0F8\"},\"line\":{\"color\":\"white\"}},\"header\":{\"fill\":{\"color\":\"#C8D4E3\"},\"line\":{\"color\":\"white\"}},\"type\":\"table\"}],\"barpolar\":[{\"marker\":{\"line\":{\"color\":\"#E5ECF6\",\"width\":0.5},\"pattern\":{\"fillmode\":\"overlay\",\"size\":10,\"solidity\":0.2}},\"type\":\"barpolar\"}],\"pie\":[{\"automargin\":true,\"type\":\"pie\"}]},\"layout\":{\"autotypenumbers\":\"strict\",\"colorway\":[\"#636efa\",\"#EF553B\",\"#00cc96\",\"#ab63fa\",\"#FFA15A\",\"#19d3f3\",\"#FF6692\",\"#B6E880\",\"#FF97FF\",\"#FECB52\"],\"font\":{\"color\":\"#2a3f5f\"},\"hovermode\":\"closest\",\"hoverlabel\":{\"align\":\"left\"},\"paper_bgcolor\":\"white\",\"plot_bgcolor\":\"#E5ECF6\",\"polar\":{\"bgcolor\":\"#E5ECF6\",\"angularaxis\":{\"gridcolor\":\"white\",\"linecolor\":\"white\",\"ticks\":\"\"},\"radialaxis\":{\"gridcolor\":\"white\",\"linecolor\":\"white\",\"ticks\":\"\"}},\"ternary\":{\"bgcolor\":\"#E5ECF6\",\"aaxis\":{\"gridcolor\":\"white\",\"linecolor\":\"white\",\"ticks\":\"\"},\"baxis\":{\"gridcolor\":\"white\",\"linecolor\":\"white\",\"ticks\":\"\"},\"caxis\":{\"gridcolor\":\"white\",\"linecolor\":\"white\",\"ticks\":\"\"}},\"coloraxis\":{\"colorbar\":{\"outlinewidth\":0,\"ticks\":\"\"}},\"colorscale\":{\"sequential\":[[0.0,\"#0d0887\"],[0.1111111111111111,\"#46039f\"],[0.2222222222222222,\"#7201a8\"],[0.3333333333333333,\"#9c179e\"],[0.4444444444444444,\"#bd3786\"],[0.5555555555555556,\"#d8576b\"],[0.6666666666666666,\"#ed7953\"],[0.7777777777777778,\"#fb9f3a\"],[0.8888888888888888,\"#fdca26\"],[1.0,\"#f0f921\"]],\"sequentialminus\":[[0.0,\"#0d0887\"],[0.1111111111111111,\"#46039f\"],[0.2222222222222222,\"#7201a8\"],[0.3333333333333333,\"#9c179e\"],[0.4444444444444444,\"#bd3786\"],[0.5555555555555556,\"#d8576b\"],[0.6666666666666666,\"#ed7953\"],[0.7777777777777778,\"#fb9f3a\"],[0.8888888888888888,\"#fdca26\"],[1.0,\"#f0f921\"]],\"diverging\":[[0,\"#8e0152\"],[0.1,\"#c51b7d\"],[0.2,\"#de77ae\"],[0.3,\"#f1b6da\"],[0.4,\"#fde0ef\"],[0.5,\"#f7f7f7\"],[0.6,\"#e6f5d0\"],[0.7,\"#b8e186\"],[0.8,\"#7fbc41\"],[0.9,\"#4d9221\"],[1,\"#276419\"]]},\"xaxis\":{\"gridcolor\":\"white\",\"linecolor\":\"white\",\"ticks\":\"\",\"title\":{\"standoff\":15},\"zerolinecolor\":\"white\",\"automargin\":true,\"zerolinewidth\":2},\"yaxis\":{\"gridcolor\":\"white\",\"linecolor\":\"white\",\"ticks\":\"\",\"title\":{\"standoff\":15},\"zerolinecolor\":\"white\",\"automargin\":true,\"zerolinewidth\":2},\"scene\":{\"xaxis\":{\"backgroundcolor\":\"#E5ECF6\",\"gridcolor\":\"white\",\"linecolor\":\"white\",\"showbackground\":true,\"ticks\":\"\",\"zerolinecolor\":\"white\",\"gridwidth\":2},\"yaxis\":{\"backgroundcolor\":\"#E5ECF6\",\"gridcolor\":\"white\",\"linecolor\":\"white\",\"showbackground\":true,\"ticks\":\"\",\"zerolinecolor\":\"white\",\"gridwidth\":2},\"zaxis\":{\"backgroundcolor\":\"#E5ECF6\",\"gridcolor\":\"white\",\"linecolor\":\"white\",\"showbackground\":true,\"ticks\":\"\",\"zerolinecolor\":\"white\",\"gridwidth\":2}},\"shapedefaults\":{\"line\":{\"color\":\"#2a3f5f\"}},\"annotationdefaults\":{\"arrowcolor\":\"#2a3f5f\",\"arrowhead\":0,\"arrowwidth\":1},\"geo\":{\"bgcolor\":\"white\",\"landcolor\":\"#E5ECF6\",\"subunitcolor\":\"white\",\"showland\":true,\"showlakes\":true,\"lakecolor\":\"white\"},\"title\":{\"x\":0.05},\"mapbox\":{\"style\":\"light\"}}},\"xaxis\":{\"anchor\":\"y\",\"domain\":[0.0,1.0],\"title\":{\"text\":\"Longitude\"},\"showgrid\":false,\"zeroline\":false},\"yaxis\":{\"anchor\":\"x\",\"domain\":[0.0,1.0],\"title\":{\"text\":\"Latitude\"},\"showgrid\":false,\"zeroline\":false},\"legend\":{\"title\":{\"text\":\"Category\"},\"tracegroupgap\":0},\"margin\":{\"t\":60},\"height\":600,\"title\":{\"text\":\"Chapel Hill places to visit\"},\"plot_bgcolor\":\"white\"},                        {\"responsive\": true}                    ).then(function(){\n                            \nvar gd = document.getElementById('81292fda-38cd-42c6-bcc5-293b44b2ccaa');\nvar x = new MutationObserver(function (mutations, observer) {{\n        var display = window.getComputedStyle(gd).display;\n        if (!display || display === 'none') {{\n            console.log([gd, 'removed!']);\n            Plotly.purge(gd);\n            observer.disconnect();\n        }}\n}});\n\n// Listen for the removal of the full notebook cells\nvar notebookContainer = gd.closest('#notebook-container');\nif (notebookContainer) {{\n    x.observe(notebookContainer, {childList: true});\n}}\n\n// Listen for the clearing of the current output cell\nvar outputEl = gd.closest('.output');\nif (outputEl) {{\n    x.observe(outputEl, {childList: true});\n}}\n\n                        })                };                });            </script>        </div>"
     },
     "metadata": {},
     "output_type": "display_data"
    }
   ],
   "source": [
    "# Define the marker style and color for each category\n",
    "marker_dict = {\n",
    "    'Restaurant': 'star',\n",
    "\n",
    "    'Site': 'circle',\n",
    "    'Garden': 'circle',\n",
    "    'Museum': 'circle',\n",
    "    'Bookstore': 'circle'\n",
    "}\n",
    "\n",
    "color_dict = {\n",
    "    'Restaurant': 'yellow',\n",
    "    'Site': 'blue',\n",
    "    'Garden': 'green',\n",
    "    'Museum': 'red',\n",
    "    'Bookstore': 'purple'\n",
    "}\n",
    "\n",
    "# Create the scatter plot using plotly express\n",
    "fig = px.scatter(\n",
    "    df,\n",
    "    x='Longitude',\n",
    "    y='Latitude',\n",
    "\n",
    "    color='Category',\n",
    "    color_discrete_map=color_dict,\n",
    "    symbol='Category',\n",
    "    symbol_map=marker_dict,\n",
    "\n",
    "    hover_name='PlaceName',\n",
    "\n",
    "    opacity=0.7,\n",
    "    size_max=10,\n",
    "    height=600,\n",
    "    category_orders={'Category': ['Restaurant', 'Site', 'Garden', 'Museum',\n",
    "                                  'Bookstore']}\n",
    ")\n",
    "\n",
    "# Set the chart title and axis labels\n",
    "fig.update_layout(\n",
    "    title='Chapel Hill places to visit',\n",
    "    xaxis_title='Longitude',\n",
    "    yaxis_title='Latitude',\n",
    "\n",
    "    #The 2 lines below hide the grids\n",
    "    xaxis = dict(showgrid=False, zeroline=False),\n",
    "    yaxis = dict(showgrid=False, zeroline=False),\n",
    "\n",
    "    plot_bgcolor='white' #Make the plotting background as white\n",
    "\n",
    ")\n",
    "\n",
    "# Change the marker style\n",
    "fig.update_traces(\n",
    "    marker=dict(\n",
    "        size=10,\n",
    "        line=dict(\n",
    "            width=2,\n",
    "            color='Black'\n",
    "        )\n",
    "    ),\n",
    "    selector=dict(\n",
    "        mode='markers'\n",
    "    ),\n",
    "    hovertemplate=\"<b>%{hovertext}</b>\"\n",
    ")\n",
    "\n",
    "# Show the plot\n",
    "fig.show()"
   ],
   "metadata": {
    "collapsed": false
   }
  },
  {
   "cell_type": "markdown",
   "source": [
    "## Folium map\n",
    "* Overlap on the real map\n",
    "* Also generate an interactive HTML map"
   ],
   "metadata": {
    "collapsed": false
   }
  },
  {
   "cell_type": "code",
   "execution_count": 322,
   "outputs": [
    {
     "data": {
      "text/plain": "<folium.folium.Map at 0x20d5cbda1a0>",
      "text/html": "<div style=\"width:100%;\"><div style=\"position:relative;width:100%;height:0;padding-bottom:60%;\"><span style=\"color:#565656\">Make this Notebook Trusted to load map: File -> Trust Notebook</span><iframe srcdoc=\"&lt;!DOCTYPE html&gt;\n&lt;html&gt;\n&lt;head&gt;\n    \n    &lt;meta http-equiv=&quot;content-type&quot; content=&quot;text/html; charset=UTF-8&quot; /&gt;\n    \n        &lt;script&gt;\n            L_NO_TOUCH = false;\n            L_DISABLE_3D = false;\n        &lt;/script&gt;\n    \n    &lt;style&gt;html, body {width: 100%;height: 100%;margin: 0;padding: 0;}&lt;/style&gt;\n    &lt;style&gt;#map {position:absolute;top:0;bottom:0;right:0;left:0;}&lt;/style&gt;\n    &lt;script src=&quot;https://cdn.jsdelivr.net/npm/leaflet@1.9.3/dist/leaflet.js&quot;&gt;&lt;/script&gt;\n    &lt;script src=&quot;https://code.jquery.com/jquery-1.12.4.min.js&quot;&gt;&lt;/script&gt;\n    &lt;script src=&quot;https://cdn.jsdelivr.net/npm/bootstrap@5.2.2/dist/js/bootstrap.bundle.min.js&quot;&gt;&lt;/script&gt;\n    &lt;script src=&quot;https://cdnjs.cloudflare.com/ajax/libs/Leaflet.awesome-markers/2.0.2/leaflet.awesome-markers.js&quot;&gt;&lt;/script&gt;\n    &lt;link rel=&quot;stylesheet&quot; href=&quot;https://cdn.jsdelivr.net/npm/leaflet@1.9.3/dist/leaflet.css&quot;/&gt;\n    &lt;link rel=&quot;stylesheet&quot; href=&quot;https://cdn.jsdelivr.net/npm/bootstrap@5.2.2/dist/css/bootstrap.min.css&quot;/&gt;\n    &lt;link rel=&quot;stylesheet&quot; href=&quot;https://netdna.bootstrapcdn.com/bootstrap/3.0.0/css/bootstrap.min.css&quot;/&gt;\n    &lt;link rel=&quot;stylesheet&quot; href=&quot;https://cdn.jsdelivr.net/npm/@fortawesome/fontawesome-free@6.2.0/css/all.min.css&quot;/&gt;\n    &lt;link rel=&quot;stylesheet&quot; href=&quot;https://cdnjs.cloudflare.com/ajax/libs/Leaflet.awesome-markers/2.0.2/leaflet.awesome-markers.css&quot;/&gt;\n    &lt;link rel=&quot;stylesheet&quot; href=&quot;https://cdn.jsdelivr.net/gh/python-visualization/folium/folium/templates/leaflet.awesome.rotate.min.css&quot;/&gt;\n    \n            &lt;meta name=&quot;viewport&quot; content=&quot;width=device-width,\n                initial-scale=1.0, maximum-scale=1.0, user-scalable=no&quot; /&gt;\n            &lt;style&gt;\n                #map_eadbf16797781dee4c475338b8c7ef22 {\n                    position: relative;\n                    width: 100.0%;\n                    height: 100.0%;\n                    left: 0.0%;\n                    top: 0.0%;\n                }\n                .leaflet-container { font-size: 1rem; }\n            &lt;/style&gt;\n        \n    &lt;script src=&quot;https://unpkg.com/leaflet-control-geocoder/dist/Control.Geocoder.js&quot;&gt;&lt;/script&gt;\n    &lt;link rel=&quot;stylesheet&quot; href=&quot;https://unpkg.com/leaflet-control-geocoder/dist/Control.Geocoder.css&quot;/&gt;\n    &lt;script src=&quot;https://cdnjs.cloudflare.com/ajax/libs/leaflet.fullscreen/1.4.2/Control.FullScreen.min.js&quot;&gt;&lt;/script&gt;\n    &lt;link rel=&quot;stylesheet&quot; href=&quot;https://cdnjs.cloudflare.com/ajax/libs/leaflet.fullscreen/1.4.2/Control.FullScreen.min.css&quot;/&gt;\n    &lt;script src=&quot;https://cdnjs.cloudflare.com/ajax/libs/leaflet-minimap/3.6.1/Control.MiniMap.js&quot;&gt;&lt;/script&gt;\n    &lt;link rel=&quot;stylesheet&quot; href=&quot;https://cdnjs.cloudflare.com/ajax/libs/leaflet-minimap/3.6.1/Control.MiniMap.css&quot;/&gt;\n    &lt;script src=&quot;https://cdnjs.cloudflare.com/ajax/libs/leaflet.draw/1.0.2/leaflet.draw.js&quot;&gt;&lt;/script&gt;\n    &lt;link rel=&quot;stylesheet&quot; href=&quot;https://cdnjs.cloudflare.com/ajax/libs/leaflet.draw/1.0.2/leaflet.draw.css&quot;/&gt;\n    \n            &lt;style&gt;\n                #export {\n                    position: absolute;\n                    top: 5px;\n                    right: 10px;\n                    z-index: 999;\n                    background: white;\n                    color: black;\n                    padding: 6px;\n                    border-radius: 4px;\n                    font-family: &#x27;Helvetica Neue&#x27;;\n                    cursor: pointer;\n                    font-size: 12px;\n                    text-decoration: none;\n                    top: 90px;\n                }\n            &lt;/style&gt;\n        \n&lt;/head&gt;\n&lt;body&gt;\n    \n    \n            &lt;div class=&quot;folium-map&quot; id=&quot;map_eadbf16797781dee4c475338b8c7ef22&quot; &gt;&lt;/div&gt;\n        \n    &lt;a href=&#x27;#&#x27; id=&#x27;export&#x27;&gt;Export&lt;/a&gt;\n&lt;/body&gt;\n&lt;script&gt;\n    \n    \n            var map_eadbf16797781dee4c475338b8c7ef22 = L.map(\n                &quot;map_eadbf16797781dee4c475338b8c7ef22&quot;,\n                {\n                    center: [35.91077776249905, -79.05091943552303],\n                    crs: L.CRS.EPSG3857,\n                    zoom: 12,\n                    zoomControl: true,\n                    preferCanvas: false,\n                }\n            );\n            L.control.scale().addTo(map_eadbf16797781dee4c475338b8c7ef22);\n\n            \n\n        \n    \n            L.Control.geocoder(\n                {&quot;collapsed&quot;: false, &quot;defaultMarkGeocode&quot;: true, &quot;position&quot;: &quot;topright&quot;}\n            ).on(&#x27;markgeocode&#x27;, function(e) {\n                map_eadbf16797781dee4c475338b8c7ef22.setView(e.geocode.center, 11);\n            }).addTo(map_eadbf16797781dee4c475338b8c7ef22);\n\n        \n    \n            var tile_layer_3f9fb69f01b67d4c970b7477763fdf37 = L.tileLayer(\n                &quot;https://{s}.tile.openstreetmap.org/{z}/{x}/{y}.png&quot;,\n                {&quot;attribution&quot;: &quot;Data by \\u0026copy; \\u003ca target=\\&quot;_blank\\&quot; href=\\&quot;http://openstreetmap.org\\&quot;\\u003eOpenStreetMap\\u003c/a\\u003e, under \\u003ca target=\\&quot;_blank\\&quot; href=\\&quot;http://www.openstreetmap.org/copyright\\&quot;\\u003eODbL\\u003c/a\\u003e.&quot;, &quot;detectRetina&quot;: false, &quot;maxNativeZoom&quot;: 18, &quot;maxZoom&quot;: 18, &quot;minZoom&quot;: 0, &quot;noWrap&quot;: false, &quot;opacity&quot;: 1, &quot;subdomains&quot;: &quot;abc&quot;, &quot;tms&quot;: false}\n            ).addTo(map_eadbf16797781dee4c475338b8c7ef22);\n        \n    \n            var tile_layer_37a87cdabeba81e5a3f99d24706a2f07 = L.tileLayer(\n                &quot;https://cartodb-basemaps-{s}.global.ssl.fastly.net/light_all/{z}/{x}/{y}.png&quot;,\n                {&quot;attribution&quot;: &quot;\\u0026copy; \\u003ca target=\\&quot;_blank\\&quot; href=\\&quot;http://www.openstreetmap.org/copyright\\&quot;\\u003eOpenStreetMap\\u003c/a\\u003e contributors \\u0026copy; \\u003ca target=\\&quot;_blank\\&quot; href=\\&quot;http://cartodb.com/attributions\\&quot;\\u003eCartoDB\\u003c/a\\u003e, CartoDB \\u003ca target=\\&quot;_blank\\&quot; href =\\&quot;http://cartodb.com/attributions\\&quot;\\u003eattributions\\u003c/a\\u003e&quot;, &quot;detectRetina&quot;: false, &quot;maxNativeZoom&quot;: 18, &quot;maxZoom&quot;: 18, &quot;minZoom&quot;: 0, &quot;noWrap&quot;: false, &quot;opacity&quot;: 1, &quot;subdomains&quot;: &quot;abc&quot;, &quot;tms&quot;: false}\n            ).addTo(map_eadbf16797781dee4c475338b8c7ef22);\n        \n    \n            var layer_control_70dc33bba3432933ccc171bca64c43ca = {\n                base_layers : {\n                    &quot;openstreetmap&quot; : tile_layer_3f9fb69f01b67d4c970b7477763fdf37,\n                    &quot;cartodbpositron&quot; : tile_layer_37a87cdabeba81e5a3f99d24706a2f07,\n                },\n                overlays :  {\n                },\n            };\n            L.control.layers(\n                layer_control_70dc33bba3432933ccc171bca64c43ca.base_layers,\n                layer_control_70dc33bba3432933ccc171bca64c43ca.overlays,\n                {&quot;autoZIndex&quot;: true, &quot;collapsed&quot;: false, &quot;position&quot;: &quot;topright&quot;}\n            ).addTo(map_eadbf16797781dee4c475338b8c7ef22);\n            tile_layer_37a87cdabeba81e5a3f99d24706a2f07.remove();\n        \n    \n            L.control.fullscreen(\n                {&quot;forceSeparateButton&quot;: true, &quot;position&quot;: &quot;topright&quot;, &quot;title&quot;: &quot;Expand map&quot;, &quot;titleCancel&quot;: &quot;Exit expand mode&quot;}\n            ).addTo(map_eadbf16797781dee4c475338b8c7ef22);\n        \n    \n            var tile_layer_6be707ed43d74709a1bc019b27966951 = L.tileLayer(\n                &quot;https://{s}.tile.openstreetmap.org/{z}/{x}/{y}.png&quot;,\n                {&quot;attribution&quot;: &quot;Data by \\u0026copy; \\u003ca target=\\&quot;_blank\\&quot; href=\\&quot;http://openstreetmap.org\\&quot;\\u003eOpenStreetMap\\u003c/a\\u003e, under \\u003ca target=\\&quot;_blank\\&quot; href=\\&quot;http://www.openstreetmap.org/copyright\\&quot;\\u003eODbL\\u003c/a\\u003e.&quot;, &quot;detectRetina&quot;: false, &quot;maxNativeZoom&quot;: 18, &quot;maxZoom&quot;: 18, &quot;minZoom&quot;: 0, &quot;noWrap&quot;: false, &quot;opacity&quot;: 1, &quot;subdomains&quot;: &quot;abc&quot;, &quot;tms&quot;: false}\n            );\n            var mini_map_9213ec4e4c5cdd326580dac23c67736b = new L.Control.MiniMap(\n                tile_layer_6be707ed43d74709a1bc019b27966951,\n                {&quot;autoToggleDisplay&quot;: false, &quot;centerFixed&quot;: false, &quot;collapsedHeight&quot;: 25, &quot;collapsedWidth&quot;: 25, &quot;height&quot;: 150, &quot;minimized&quot;: false, &quot;position&quot;: &quot;bottomright&quot;, &quot;toggleDisplay&quot;: true, &quot;width&quot;: 150, &quot;zoomAnimation&quot;: false, &quot;zoomLevelOffset&quot;: -5}\n            );\n            map_eadbf16797781dee4c475338b8c7ef22.addControl(mini_map_9213ec4e4c5cdd326580dac23c67736b);\n        \n    \n            var options = {\n              position: &quot;topleft&quot;,\n              draw: {},\n              edit: {},\n            }\n            // FeatureGroup is to store editable layers.\n            var drawnItems = new L.featureGroup().addTo(\n                map_eadbf16797781dee4c475338b8c7ef22\n            );\n            options.edit.featureGroup = drawnItems;\n            var draw_control_ec71dff09c26e5c7a6a44599f3c42773 = new L.Control.Draw(\n                options\n            ).addTo( map_eadbf16797781dee4c475338b8c7ef22 );\n            map_eadbf16797781dee4c475338b8c7ef22.on(L.Draw.Event.CREATED, function(e) {\n                var layer = e.layer,\n                    type = e.layerType;\n                var coords = JSON.stringify(layer.toGeoJSON());\n                layer.on(&#x27;click&#x27;, function() {\n                    alert(coords);\n                    console.log(coords);\n                });\n                drawnItems.addLayer(layer);\n             });\n            map_eadbf16797781dee4c475338b8c7ef22.on(&#x27;draw:created&#x27;, function(e) {\n                drawnItems.addLayer(e.layer);\n            });\n            \n            document.getElementById(&#x27;export&#x27;).onclick = function(e) {\n                var data = drawnItems.toGeoJSON();\n                var convertedData = &#x27;text/json;charset=utf-8,&#x27;\n                    + encodeURIComponent(JSON.stringify(data));\n                document.getElementById(&#x27;export&#x27;).setAttribute(\n                    &#x27;href&#x27;, &#x27;data:&#x27; + convertedData\n                );\n                document.getElementById(&#x27;export&#x27;).setAttribute(\n                    &#x27;download&#x27;, &quot;data.geojson&quot;\n                );\n            }\n            \n        \n&lt;/script&gt;\n&lt;/html&gt;\" style=\"position:absolute;width:100%;height:100%;left:0;top:0;border:none !important;\" allowfullscreen webkitallowfullscreen mozallowfullscreen></iframe></div></div>"
     },
     "execution_count": 322,
     "metadata": {},
     "output_type": "execute_result"
    }
   ],
   "source": [
    "#Initialize the map\n",
    "latitude_avg = df['Latitude'].mean()\n",
    "longitude_avg = df['Longitude'].mean()\n",
    "\n",
    "map = folium.Map(\n",
    "    location=[latitude_avg,longitude_avg],\n",
    "    zoom_start=12,\n",
    "    control_scale=True,\n",
    "    tiles = None\n",
    ")\n",
    "\n",
    "plugins.Geocoder(\n",
    "    position='topright'\n",
    ").add_to(map) #Add in a search bar\n",
    "\n",
    "#Add in several options for the map\n",
    "#You can find a list of free tile providers here: http://leaflet-extras.github.io/leaflet-providers/preview/\n",
    "map_style_list = [\n",
    "    'OpenStreetMap', #Colorful and has lots of details\n",
    "    'CartoDB Positron', #Lightly colored with some details\n",
    "    # 'Stamen Toner', #Very simplified black-and-white map\n",
    "]\n",
    "for map_style in map_style_list:\n",
    "    folium.TileLayer(map_style).add_to(map)\n",
    "folium.LayerControl(collapsed=False).add_to(map) #Give user the option to\n",
    "# choose which style to use\n",
    "\n",
    "\n",
    "#Add in plugins. This section should be put in the same block as the map\n",
    "# initiation since running these twice will add duplicates\n",
    "plugins.Fullscreen(\n",
    "    position='topright',\n",
    "    title=\"Expand map\",\n",
    "    title_cancel=\"Exit expand mode\",\n",
    "    force_separate_button=True\n",
    ").add_to(map) # Add full screen button\n",
    "# to map\n",
    "\n",
    "plugins.MiniMap(toggle_display=True).add_to(map) # Add minimap to map\n",
    "\n",
    "plugins.Draw(export=True).add_to(map) # Add draw tools to map\n",
    "\n",
    "\n",
    "map\n"
   ],
   "metadata": {
    "collapsed": false
   }
  },
  {
   "cell_type": "code",
   "execution_count": 323,
   "outputs": [
    {
     "data": {
      "text/plain": "<folium.folium.Map at 0x20d5cbda1a0>",
      "text/html": "<div style=\"width:100%;\"><div style=\"position:relative;width:100%;height:0;padding-bottom:60%;\"><span style=\"color:#565656\">Make this Notebook Trusted to load map: File -> Trust Notebook</span><iframe srcdoc=\"&lt;!DOCTYPE html&gt;\n&lt;html&gt;\n&lt;head&gt;\n    \n    &lt;meta http-equiv=&quot;content-type&quot; content=&quot;text/html; charset=UTF-8&quot; /&gt;\n    \n        &lt;script&gt;\n            L_NO_TOUCH = false;\n            L_DISABLE_3D = false;\n        &lt;/script&gt;\n    \n    &lt;style&gt;html, body {width: 100%;height: 100%;margin: 0;padding: 0;}&lt;/style&gt;\n    &lt;style&gt;#map {position:absolute;top:0;bottom:0;right:0;left:0;}&lt;/style&gt;\n    &lt;script src=&quot;https://cdn.jsdelivr.net/npm/leaflet@1.9.3/dist/leaflet.js&quot;&gt;&lt;/script&gt;\n    &lt;script src=&quot;https://code.jquery.com/jquery-1.12.4.min.js&quot;&gt;&lt;/script&gt;\n    &lt;script src=&quot;https://cdn.jsdelivr.net/npm/bootstrap@5.2.2/dist/js/bootstrap.bundle.min.js&quot;&gt;&lt;/script&gt;\n    &lt;script src=&quot;https://cdnjs.cloudflare.com/ajax/libs/Leaflet.awesome-markers/2.0.2/leaflet.awesome-markers.js&quot;&gt;&lt;/script&gt;\n    &lt;link rel=&quot;stylesheet&quot; href=&quot;https://cdn.jsdelivr.net/npm/leaflet@1.9.3/dist/leaflet.css&quot;/&gt;\n    &lt;link rel=&quot;stylesheet&quot; href=&quot;https://cdn.jsdelivr.net/npm/bootstrap@5.2.2/dist/css/bootstrap.min.css&quot;/&gt;\n    &lt;link rel=&quot;stylesheet&quot; href=&quot;https://netdna.bootstrapcdn.com/bootstrap/3.0.0/css/bootstrap.min.css&quot;/&gt;\n    &lt;link rel=&quot;stylesheet&quot; href=&quot;https://cdn.jsdelivr.net/npm/@fortawesome/fontawesome-free@6.2.0/css/all.min.css&quot;/&gt;\n    &lt;link rel=&quot;stylesheet&quot; href=&quot;https://cdnjs.cloudflare.com/ajax/libs/Leaflet.awesome-markers/2.0.2/leaflet.awesome-markers.css&quot;/&gt;\n    &lt;link rel=&quot;stylesheet&quot; href=&quot;https://cdn.jsdelivr.net/gh/python-visualization/folium/folium/templates/leaflet.awesome.rotate.min.css&quot;/&gt;\n    \n            &lt;meta name=&quot;viewport&quot; content=&quot;width=device-width,\n                initial-scale=1.0, maximum-scale=1.0, user-scalable=no&quot; /&gt;\n            &lt;style&gt;\n                #map_eadbf16797781dee4c475338b8c7ef22 {\n                    position: relative;\n                    width: 100.0%;\n                    height: 100.0%;\n                    left: 0.0%;\n                    top: 0.0%;\n                }\n                .leaflet-container { font-size: 1rem; }\n            &lt;/style&gt;\n        \n    &lt;script src=&quot;https://unpkg.com/leaflet-control-geocoder/dist/Control.Geocoder.js&quot;&gt;&lt;/script&gt;\n    &lt;link rel=&quot;stylesheet&quot; href=&quot;https://unpkg.com/leaflet-control-geocoder/dist/Control.Geocoder.css&quot;/&gt;\n    &lt;script src=&quot;https://cdnjs.cloudflare.com/ajax/libs/leaflet.fullscreen/1.4.2/Control.FullScreen.min.js&quot;&gt;&lt;/script&gt;\n    &lt;link rel=&quot;stylesheet&quot; href=&quot;https://cdnjs.cloudflare.com/ajax/libs/leaflet.fullscreen/1.4.2/Control.FullScreen.min.css&quot;/&gt;\n    &lt;script src=&quot;https://cdnjs.cloudflare.com/ajax/libs/leaflet-minimap/3.6.1/Control.MiniMap.js&quot;&gt;&lt;/script&gt;\n    &lt;link rel=&quot;stylesheet&quot; href=&quot;https://cdnjs.cloudflare.com/ajax/libs/leaflet-minimap/3.6.1/Control.MiniMap.css&quot;/&gt;\n    &lt;script src=&quot;https://cdnjs.cloudflare.com/ajax/libs/leaflet.draw/1.0.2/leaflet.draw.js&quot;&gt;&lt;/script&gt;\n    &lt;link rel=&quot;stylesheet&quot; href=&quot;https://cdnjs.cloudflare.com/ajax/libs/leaflet.draw/1.0.2/leaflet.draw.css&quot;/&gt;\n    \n            &lt;style&gt;\n                #export {\n                    position: absolute;\n                    top: 5px;\n                    right: 10px;\n                    z-index: 999;\n                    background: white;\n                    color: black;\n                    padding: 6px;\n                    border-radius: 4px;\n                    font-family: &#x27;Helvetica Neue&#x27;;\n                    cursor: pointer;\n                    font-size: 12px;\n                    text-decoration: none;\n                    top: 90px;\n                }\n            &lt;/style&gt;\n        \n    &lt;script src=&quot;https://cdn.jsdelivr.net/gh/marslan390/BeautifyMarker/leaflet-beautify-marker-icon.min.js&quot;&gt;&lt;/script&gt;\n    &lt;link rel=&quot;stylesheet&quot; href=&quot;https://cdn.jsdelivr.net/gh/marslan390/BeautifyMarker/leaflet-beautify-marker-icon.min.css&quot;/&gt;\n&lt;/head&gt;\n&lt;body&gt;\n    \n    \n            &lt;div class=&quot;folium-map&quot; id=&quot;map_eadbf16797781dee4c475338b8c7ef22&quot; &gt;&lt;/div&gt;\n        \n    &lt;a href=&#x27;#&#x27; id=&#x27;export&#x27;&gt;Export&lt;/a&gt;\n&lt;/body&gt;\n&lt;script&gt;\n    \n    \n            var map_eadbf16797781dee4c475338b8c7ef22 = L.map(\n                &quot;map_eadbf16797781dee4c475338b8c7ef22&quot;,\n                {\n                    center: [35.91077776249905, -79.05091943552303],\n                    crs: L.CRS.EPSG3857,\n                    zoom: 12,\n                    zoomControl: true,\n                    preferCanvas: false,\n                }\n            );\n            L.control.scale().addTo(map_eadbf16797781dee4c475338b8c7ef22);\n\n            \n\n        \n    \n            L.Control.geocoder(\n                {&quot;collapsed&quot;: false, &quot;defaultMarkGeocode&quot;: true, &quot;position&quot;: &quot;topright&quot;}\n            ).on(&#x27;markgeocode&#x27;, function(e) {\n                map_eadbf16797781dee4c475338b8c7ef22.setView(e.geocode.center, 11);\n            }).addTo(map_eadbf16797781dee4c475338b8c7ef22);\n\n        \n    \n            var tile_layer_3f9fb69f01b67d4c970b7477763fdf37 = L.tileLayer(\n                &quot;https://{s}.tile.openstreetmap.org/{z}/{x}/{y}.png&quot;,\n                {&quot;attribution&quot;: &quot;Data by \\u0026copy; \\u003ca target=\\&quot;_blank\\&quot; href=\\&quot;http://openstreetmap.org\\&quot;\\u003eOpenStreetMap\\u003c/a\\u003e, under \\u003ca target=\\&quot;_blank\\&quot; href=\\&quot;http://www.openstreetmap.org/copyright\\&quot;\\u003eODbL\\u003c/a\\u003e.&quot;, &quot;detectRetina&quot;: false, &quot;maxNativeZoom&quot;: 18, &quot;maxZoom&quot;: 18, &quot;minZoom&quot;: 0, &quot;noWrap&quot;: false, &quot;opacity&quot;: 1, &quot;subdomains&quot;: &quot;abc&quot;, &quot;tms&quot;: false}\n            ).addTo(map_eadbf16797781dee4c475338b8c7ef22);\n        \n    \n            var tile_layer_37a87cdabeba81e5a3f99d24706a2f07 = L.tileLayer(\n                &quot;https://cartodb-basemaps-{s}.global.ssl.fastly.net/light_all/{z}/{x}/{y}.png&quot;,\n                {&quot;attribution&quot;: &quot;\\u0026copy; \\u003ca target=\\&quot;_blank\\&quot; href=\\&quot;http://www.openstreetmap.org/copyright\\&quot;\\u003eOpenStreetMap\\u003c/a\\u003e contributors \\u0026copy; \\u003ca target=\\&quot;_blank\\&quot; href=\\&quot;http://cartodb.com/attributions\\&quot;\\u003eCartoDB\\u003c/a\\u003e, CartoDB \\u003ca target=\\&quot;_blank\\&quot; href =\\&quot;http://cartodb.com/attributions\\&quot;\\u003eattributions\\u003c/a\\u003e&quot;, &quot;detectRetina&quot;: false, &quot;maxNativeZoom&quot;: 18, &quot;maxZoom&quot;: 18, &quot;minZoom&quot;: 0, &quot;noWrap&quot;: false, &quot;opacity&quot;: 1, &quot;subdomains&quot;: &quot;abc&quot;, &quot;tms&quot;: false}\n            ).addTo(map_eadbf16797781dee4c475338b8c7ef22);\n        \n    \n            var layer_control_70dc33bba3432933ccc171bca64c43ca = {\n                base_layers : {\n                    &quot;openstreetmap&quot; : tile_layer_3f9fb69f01b67d4c970b7477763fdf37,\n                    &quot;cartodbpositron&quot; : tile_layer_37a87cdabeba81e5a3f99d24706a2f07,\n                },\n                overlays :  {\n                },\n            };\n            L.control.layers(\n                layer_control_70dc33bba3432933ccc171bca64c43ca.base_layers,\n                layer_control_70dc33bba3432933ccc171bca64c43ca.overlays,\n                {&quot;autoZIndex&quot;: true, &quot;collapsed&quot;: false, &quot;position&quot;: &quot;topright&quot;}\n            ).addTo(map_eadbf16797781dee4c475338b8c7ef22);\n            tile_layer_37a87cdabeba81e5a3f99d24706a2f07.remove();\n        \n    \n            L.control.fullscreen(\n                {&quot;forceSeparateButton&quot;: true, &quot;position&quot;: &quot;topright&quot;, &quot;title&quot;: &quot;Expand map&quot;, &quot;titleCancel&quot;: &quot;Exit expand mode&quot;}\n            ).addTo(map_eadbf16797781dee4c475338b8c7ef22);\n        \n    \n            var tile_layer_6be707ed43d74709a1bc019b27966951 = L.tileLayer(\n                &quot;https://{s}.tile.openstreetmap.org/{z}/{x}/{y}.png&quot;,\n                {&quot;attribution&quot;: &quot;Data by \\u0026copy; \\u003ca target=\\&quot;_blank\\&quot; href=\\&quot;http://openstreetmap.org\\&quot;\\u003eOpenStreetMap\\u003c/a\\u003e, under \\u003ca target=\\&quot;_blank\\&quot; href=\\&quot;http://www.openstreetmap.org/copyright\\&quot;\\u003eODbL\\u003c/a\\u003e.&quot;, &quot;detectRetina&quot;: false, &quot;maxNativeZoom&quot;: 18, &quot;maxZoom&quot;: 18, &quot;minZoom&quot;: 0, &quot;noWrap&quot;: false, &quot;opacity&quot;: 1, &quot;subdomains&quot;: &quot;abc&quot;, &quot;tms&quot;: false}\n            );\n            var mini_map_9213ec4e4c5cdd326580dac23c67736b = new L.Control.MiniMap(\n                tile_layer_6be707ed43d74709a1bc019b27966951,\n                {&quot;autoToggleDisplay&quot;: false, &quot;centerFixed&quot;: false, &quot;collapsedHeight&quot;: 25, &quot;collapsedWidth&quot;: 25, &quot;height&quot;: 150, &quot;minimized&quot;: false, &quot;position&quot;: &quot;bottomright&quot;, &quot;toggleDisplay&quot;: true, &quot;width&quot;: 150, &quot;zoomAnimation&quot;: false, &quot;zoomLevelOffset&quot;: -5}\n            );\n            map_eadbf16797781dee4c475338b8c7ef22.addControl(mini_map_9213ec4e4c5cdd326580dac23c67736b);\n        \n    \n            var options = {\n              position: &quot;topleft&quot;,\n              draw: {},\n              edit: {},\n            }\n            // FeatureGroup is to store editable layers.\n            var drawnItems = new L.featureGroup().addTo(\n                map_eadbf16797781dee4c475338b8c7ef22\n            );\n            options.edit.featureGroup = drawnItems;\n            var draw_control_ec71dff09c26e5c7a6a44599f3c42773 = new L.Control.Draw(\n                options\n            ).addTo( map_eadbf16797781dee4c475338b8c7ef22 );\n            map_eadbf16797781dee4c475338b8c7ef22.on(L.Draw.Event.CREATED, function(e) {\n                var layer = e.layer,\n                    type = e.layerType;\n                var coords = JSON.stringify(layer.toGeoJSON());\n                layer.on(&#x27;click&#x27;, function() {\n                    alert(coords);\n                    console.log(coords);\n                });\n                drawnItems.addLayer(layer);\n             });\n            map_eadbf16797781dee4c475338b8c7ef22.on(&#x27;draw:created&#x27;, function(e) {\n                drawnItems.addLayer(e.layer);\n            });\n            \n            document.getElementById(&#x27;export&#x27;).onclick = function(e) {\n                var data = drawnItems.toGeoJSON();\n                var convertedData = &#x27;text/json;charset=utf-8,&#x27;\n                    + encodeURIComponent(JSON.stringify(data));\n                document.getElementById(&#x27;export&#x27;).setAttribute(\n                    &#x27;href&#x27;, &#x27;data:&#x27; + convertedData\n                );\n                document.getElementById(&#x27;export&#x27;).setAttribute(\n                    &#x27;download&#x27;, &quot;data.geojson&quot;\n                );\n            }\n            \n        \n    \n            var marker_390ce107d34631794bd51016c29ac522 = L.marker(\n                [35.8973342, -79.03110564008378],\n                {&quot;opacity&quot;: 1}\n            ).addTo(map_eadbf16797781dee4c475338b8c7ef22);\n        \n    \n            var beautify_icon_a5845049c3df56c24cb653d56cb3b8a2 = new L.BeautifyIcon.icon(\n                {&quot;backgroundColor&quot;: &quot;#FFF&quot;, &quot;borderColor&quot;: &quot;green&quot;, &quot;borderWidth&quot;: 3, &quot;icon&quot;: &quot;leaf&quot;, &quot;iconShape&quot;: &quot;circle&quot;, &quot;innerIconStyle&quot;: &quot;&quot;, &quot;isAlphaNumericIcon&quot;: false, &quot;spin&quot;: false, &quot;textColor&quot;: &quot;green&quot;}\n            )\n            marker_390ce107d34631794bd51016c29ac522.setIcon(beautify_icon_a5845049c3df56c24cb653d56cb3b8a2);\n        \n    \n        var popup_54a2ec420063e129afa877fe8b0048ee = L.popup({&quot;maxWidth&quot;: &quot;100%&quot;});\n\n        \n            \n                var html_1246f3728d2f48f0ff15c043112fb205 = $(`&lt;div id=&quot;html_1246f3728d2f48f0ff15c043112fb205&quot; style=&quot;width: 100.0%; height: 100.0%;&quot;&gt;North Carolina botanical garden&lt;/div&gt;`)[0];\n                popup_54a2ec420063e129afa877fe8b0048ee.setContent(html_1246f3728d2f48f0ff15c043112fb205);\n            \n        \n\n        marker_390ce107d34631794bd51016c29ac522.bindPopup(popup_54a2ec420063e129afa877fe8b0048ee)\n        ;\n\n        \n    \n    \n            var marker_f7f222535374bb01b419285ecec09fa0 = L.marker(\n                [35.912567800000005, -79.0548896321919],\n                {&quot;opacity&quot;: 1}\n            ).addTo(map_eadbf16797781dee4c475338b8c7ef22);\n        \n    \n            var beautify_icon_f561604089d179998b46319ed59599b7 = new L.BeautifyIcon.icon(\n                {&quot;backgroundColor&quot;: &quot;#FFF&quot;, &quot;borderColor&quot;: &quot;red&quot;, &quot;borderWidth&quot;: 3, &quot;icon&quot;: &quot;university&quot;, &quot;iconShape&quot;: &quot;circle&quot;, &quot;innerIconStyle&quot;: &quot;&quot;, &quot;isAlphaNumericIcon&quot;: false, &quot;spin&quot;: false, &quot;textColor&quot;: &quot;red&quot;}\n            )\n            marker_f7f222535374bb01b419285ecec09fa0.setIcon(beautify_icon_f561604089d179998b46319ed59599b7);\n        \n    \n        var popup_f3d1a3acff317eef065983fef453ea59 = L.popup({&quot;maxWidth&quot;: &quot;100%&quot;});\n\n        \n            \n                var html_b4cddb4d5bd5a41e163d9d4821bc8fd5 = $(`&lt;div id=&quot;html_b4cddb4d5bd5a41e163d9d4821bc8fd5&quot; style=&quot;width: 100.0%; height: 100.0%;&quot;&gt;Ackland art museum&lt;/div&gt;`)[0];\n                popup_f3d1a3acff317eef065983fef453ea59.setContent(html_b4cddb4d5bd5a41e163d9d4821bc8fd5);\n            \n        \n\n        marker_f7f222535374bb01b419285ecec09fa0.bindPopup(popup_f3d1a3acff317eef065983fef453ea59)\n        ;\n\n        \n    \n    \n            var marker_a4f1223b9359dfa0c44d0bb0f365d210 = L.marker(\n                [35.9139158, -79.05042203855663],\n                {&quot;opacity&quot;: 1}\n            ).addTo(map_eadbf16797781dee4c475338b8c7ef22);\n        \n    \n            var beautify_icon_674ae621f99c9ae74621550b3953d76d = new L.BeautifyIcon.icon(\n                {&quot;backgroundColor&quot;: &quot;#FFF&quot;, &quot;borderColor&quot;: &quot;red&quot;, &quot;borderWidth&quot;: 3, &quot;icon&quot;: &quot;university&quot;, &quot;iconShape&quot;: &quot;circle&quot;, &quot;innerIconStyle&quot;: &quot;&quot;, &quot;isAlphaNumericIcon&quot;: false, &quot;spin&quot;: false, &quot;textColor&quot;: &quot;red&quot;}\n            )\n            marker_a4f1223b9359dfa0c44d0bb0f365d210.setIcon(beautify_icon_674ae621f99c9ae74621550b3953d76d);\n        \n    \n        var popup_4cbf91ab003eb0d6e216f0d5786526fb = L.popup({&quot;maxWidth&quot;: &quot;100%&quot;});\n\n        \n            \n                var html_996d1d7fc64cd8fee02032af14a7f335 = $(`&lt;div id=&quot;html_996d1d7fc64cd8fee02032af14a7f335&quot; style=&quot;width: 100.0%; height: 100.0%;&quot;&gt;Morehead Planetarium&lt;/div&gt;`)[0];\n                popup_4cbf91ab003eb0d6e216f0d5786526fb.setContent(html_996d1d7fc64cd8fee02032af14a7f335);\n            \n        \n\n        marker_a4f1223b9359dfa0c44d0bb0f365d210.bindPopup(popup_4cbf91ab003eb0d6e216f0d5786526fb)\n        ;\n\n        \n    \n    \n            var marker_83284b330028c2214ef0adc02e485d0f = L.marker(\n                [35.90503535, -79.04775326525107],\n                {&quot;opacity&quot;: 1}\n            ).addTo(map_eadbf16797781dee4c475338b8c7ef22);\n        \n    \n            var beautify_icon_038c65ae61bc02b4df20c8edfe1793de = new L.BeautifyIcon.icon(\n                {&quot;backgroundColor&quot;: &quot;#FFF&quot;, &quot;borderColor&quot;: &quot;blue&quot;, &quot;borderWidth&quot;: 3, &quot;icon&quot;: &quot;camera&quot;, &quot;innerIconStyle&quot;: &quot;&quot;, &quot;isAlphaNumericIcon&quot;: false, &quot;spin&quot;: false, &quot;textColor&quot;: &quot;blue&quot;}\n            )\n            marker_83284b330028c2214ef0adc02e485d0f.setIcon(beautify_icon_038c65ae61bc02b4df20c8edfe1793de);\n        \n    \n        var popup_22c4384775ab31fa423dbd1c93c4edaf = L.popup({&quot;maxWidth&quot;: &quot;100%&quot;});\n\n        \n            \n                var html_0bf6674abd4e20521e57541ff4a54bcc = $(`&lt;div id=&quot;html_0bf6674abd4e20521e57541ff4a54bcc&quot; style=&quot;width: 100.0%; height: 100.0%;&quot;&gt;UNC at chapel hill&lt;/div&gt;`)[0];\n                popup_22c4384775ab31fa423dbd1c93c4edaf.setContent(html_0bf6674abd4e20521e57541ff4a54bcc);\n            \n        \n\n        marker_83284b330028c2214ef0adc02e485d0f.bindPopup(popup_22c4384775ab31fa423dbd1c93c4edaf)\n        ;\n\n        \n    \n    \n            var marker_5dc06e81bb0f4b42556aef7db910099d = L.marker(\n                [35.90860695000001, -79.04921610000001],\n                {&quot;opacity&quot;: 1}\n            ).addTo(map_eadbf16797781dee4c475338b8c7ef22);\n        \n    \n            var beautify_icon_bcb0629aa14da54e0af1a0099056917b = new L.BeautifyIcon.icon(\n                {&quot;backgroundColor&quot;: &quot;#FFF&quot;, &quot;borderColor&quot;: &quot;blue&quot;, &quot;borderWidth&quot;: 3, &quot;icon&quot;: &quot;camera&quot;, &quot;innerIconStyle&quot;: &quot;&quot;, &quot;isAlphaNumericIcon&quot;: false, &quot;spin&quot;: false, &quot;textColor&quot;: &quot;blue&quot;}\n            )\n            marker_5dc06e81bb0f4b42556aef7db910099d.setIcon(beautify_icon_bcb0629aa14da54e0af1a0099056917b);\n        \n    \n        var popup_7ec2adaaa59b1aa50d68fc87d6b651a2 = L.popup({&quot;maxWidth&quot;: &quot;100%&quot;});\n\n        \n            \n                var html_8da620a91b1b8c7553fc08e76a7c7b2a = $(`&lt;div id=&quot;html_8da620a91b1b8c7553fc08e76a7c7b2a&quot; style=&quot;width: 100.0%; height: 100.0%;&quot;&gt;Morehead-Patterson Bell Tower&lt;/div&gt;`)[0];\n                popup_7ec2adaaa59b1aa50d68fc87d6b651a2.setContent(html_8da620a91b1b8c7553fc08e76a7c7b2a);\n            \n        \n\n        marker_5dc06e81bb0f4b42556aef7db910099d.bindPopup(popup_7ec2adaaa59b1aa50d68fc87d6b651a2)\n        ;\n\n        \n    \n    \n            var marker_e59f1b153d811c8478d4dc95077ad08b = L.marker(\n                [35.91374855, -79.04904597132534],\n                {&quot;opacity&quot;: 1}\n            ).addTo(map_eadbf16797781dee4c475338b8c7ef22);\n        \n    \n            var beautify_icon_fc7f5979f4377b8f50583c74994be8f4 = new L.BeautifyIcon.icon(\n                {&quot;backgroundColor&quot;: &quot;#FFF&quot;, &quot;borderColor&quot;: &quot;green&quot;, &quot;borderWidth&quot;: 3, &quot;icon&quot;: &quot;leaf&quot;, &quot;iconShape&quot;: &quot;circle&quot;, &quot;innerIconStyle&quot;: &quot;&quot;, &quot;isAlphaNumericIcon&quot;: false, &quot;spin&quot;: false, &quot;textColor&quot;: &quot;green&quot;}\n            )\n            marker_e59f1b153d811c8478d4dc95077ad08b.setIcon(beautify_icon_fc7f5979f4377b8f50583c74994be8f4);\n        \n    \n        var popup_4c074b16ab2081b9ce4fe564afb3fd86 = L.popup({&quot;maxWidth&quot;: &quot;100%&quot;});\n\n        \n            \n                var html_33a4642e679df2b04d47e55c91354fdd = $(`&lt;div id=&quot;html_33a4642e679df2b04d47e55c91354fdd&quot; style=&quot;width: 100.0%; height: 100.0%;&quot;&gt;Coker arboretum&lt;/div&gt;`)[0];\n                popup_4c074b16ab2081b9ce4fe564afb3fd86.setContent(html_33a4642e679df2b04d47e55c91354fdd);\n            \n        \n\n        marker_e59f1b153d811c8478d4dc95077ad08b.bindPopup(popup_4c074b16ab2081b9ce4fe564afb3fd86)\n        ;\n\n        \n    \n    \n            var marker_b522e9c119e0ea2cc88f7882b5443509 = L.marker(\n                [35.9321298, -79.0357531305452],\n                {&quot;opacity&quot;: 1}\n            ).addTo(map_eadbf16797781dee4c475338b8c7ef22);\n        \n    \n            var beautify_icon_c9e5461d1715e8a994b7f69d2febae49 = new L.BeautifyIcon.icon(\n                {&quot;backgroundColor&quot;: &quot;#FFF&quot;, &quot;borderColor&quot;: &quot;blue&quot;, &quot;borderWidth&quot;: 3, &quot;icon&quot;: &quot;camera&quot;, &quot;innerIconStyle&quot;: &quot;&quot;, &quot;isAlphaNumericIcon&quot;: false, &quot;spin&quot;: false, &quot;textColor&quot;: &quot;blue&quot;}\n            )\n            marker_b522e9c119e0ea2cc88f7882b5443509.setIcon(beautify_icon_c9e5461d1715e8a994b7f69d2febae49);\n        \n    \n        var popup_2279065cab799efe6d02902466021fe0 = L.popup({&quot;maxWidth&quot;: &quot;100%&quot;});\n\n        \n            \n                var html_28b69e5edfb2ee1ef6fb464a60721d73 = $(`&lt;div id=&quot;html_28b69e5edfb2ee1ef6fb464a60721d73&quot; style=&quot;width: 100.0%; height: 100.0%;&quot;&gt;Chapel hill public library&lt;/div&gt;`)[0];\n                popup_2279065cab799efe6d02902466021fe0.setContent(html_28b69e5edfb2ee1ef6fb464a60721d73);\n            \n        \n\n        marker_b522e9c119e0ea2cc88f7882b5443509.bindPopup(popup_2279065cab799efe6d02902466021fe0)\n        ;\n\n        \n    \n    \n            var marker_7f5d7cbed949093f62cd2d89377444a6 = L.marker(\n                [35.91461315, -79.04994946412324],\n                {&quot;opacity&quot;: 1}\n            ).addTo(map_eadbf16797781dee4c475338b8c7ef22);\n        \n    \n            var beautify_icon_1d0cd04d62ba2187c61d3ecad7ec6ef7 = new L.BeautifyIcon.icon(\n                {&quot;backgroundColor&quot;: &quot;#FFF&quot;, &quot;borderColor&quot;: &quot;blue&quot;, &quot;borderWidth&quot;: 3, &quot;icon&quot;: &quot;camera&quot;, &quot;innerIconStyle&quot;: &quot;&quot;, &quot;isAlphaNumericIcon&quot;: false, &quot;spin&quot;: false, &quot;textColor&quot;: &quot;blue&quot;}\n            )\n            marker_7f5d7cbed949093f62cd2d89377444a6.setIcon(beautify_icon_1d0cd04d62ba2187c61d3ecad7ec6ef7);\n        \n    \n        var popup_4ac454f904111619b91b531a29765cde = L.popup({&quot;maxWidth&quot;: &quot;100%&quot;});\n\n        \n            \n                var html_243ef3efe0d806a3fef2647bd6183174 = $(`&lt;div id=&quot;html_243ef3efe0d806a3fef2647bd6183174&quot; style=&quot;width: 100.0%; height: 100.0%;&quot;&gt;Chapel of the cross&lt;/div&gt;`)[0];\n                popup_4ac454f904111619b91b531a29765cde.setContent(html_243ef3efe0d806a3fef2647bd6183174);\n            \n        \n\n        marker_7f5d7cbed949093f62cd2d89377444a6.bindPopup(popup_4ac454f904111619b91b531a29765cde)\n        ;\n\n        \n    \n    \n            var marker_31c2355de0c788a4e02a88e388f6cff9 = L.marker(\n                [35.91339325, -79.04487460582956],\n                {&quot;opacity&quot;: 1}\n            ).addTo(map_eadbf16797781dee4c475338b8c7ef22);\n        \n    \n            var beautify_icon_7ad7580bd8b7cc18b622dac3e231969e = new L.BeautifyIcon.icon(\n                {&quot;backgroundColor&quot;: &quot;#FFF&quot;, &quot;borderColor&quot;: &quot;blue&quot;, &quot;borderWidth&quot;: 3, &quot;icon&quot;: &quot;camera&quot;, &quot;innerIconStyle&quot;: &quot;&quot;, &quot;isAlphaNumericIcon&quot;: false, &quot;spin&quot;: false, &quot;textColor&quot;: &quot;blue&quot;}\n            )\n            marker_31c2355de0c788a4e02a88e388f6cff9.setIcon(beautify_icon_7ad7580bd8b7cc18b622dac3e231969e);\n        \n    \n        var popup_3766331e110dc55de9208e61624dbe86 = L.popup({&quot;maxWidth&quot;: &quot;100%&quot;});\n\n        \n            \n                var html_a7435f54b934e1055bab02db97c0405f = $(`&lt;div id=&quot;html_a7435f54b934e1055bab02db97c0405f&quot; style=&quot;width: 100.0%; height: 100.0%;&quot;&gt;Forest Theatre&lt;/div&gt;`)[0];\n                popup_3766331e110dc55de9208e61624dbe86.setContent(html_a7435f54b934e1055bab02db97c0405f);\n            \n        \n\n        marker_31c2355de0c788a4e02a88e388f6cff9.bindPopup(popup_3766331e110dc55de9208e61624dbe86)\n        ;\n\n        \n    \n    \n            var marker_1e944a1dc9c3ec17884a1ede8a5d7fb2 = L.marker(\n                [35.91334435, -79.04369317938253],\n                {&quot;opacity&quot;: 1}\n            ).addTo(map_eadbf16797781dee4c475338b8c7ef22);\n        \n    \n            var beautify_icon_ab8c9d153cce1009eb118a96a542070c = new L.BeautifyIcon.icon(\n                {&quot;backgroundColor&quot;: &quot;#FFF&quot;, &quot;borderColor&quot;: &quot;green&quot;, &quot;borderWidth&quot;: 3, &quot;icon&quot;: &quot;leaf&quot;, &quot;iconShape&quot;: &quot;circle&quot;, &quot;innerIconStyle&quot;: &quot;&quot;, &quot;isAlphaNumericIcon&quot;: false, &quot;spin&quot;: false, &quot;textColor&quot;: &quot;green&quot;}\n            )\n            marker_1e944a1dc9c3ec17884a1ede8a5d7fb2.setIcon(beautify_icon_ab8c9d153cce1009eb118a96a542070c);\n        \n    \n        var popup_c3244d7c281c036eee7b72c49dfc4b07 = L.popup({&quot;maxWidth&quot;: &quot;100%&quot;});\n\n        \n            \n                var html_23a2a1ad542fffe59964ed325b590fad = $(`&lt;div id=&quot;html_23a2a1ad542fffe59964ed325b590fad&quot; style=&quot;width: 100.0%; height: 100.0%;&quot;&gt;Battle Park&lt;/div&gt;`)[0];\n                popup_c3244d7c281c036eee7b72c49dfc4b07.setContent(html_23a2a1ad542fffe59964ed325b590fad);\n            \n        \n\n        marker_1e944a1dc9c3ec17884a1ede8a5d7fb2.bindPopup(popup_c3244d7c281c036eee7b72c49dfc4b07)\n        ;\n\n        \n    \n    \n            var marker_796fd265e27f8abbdaa80f52ac0bda5c = L.marker(\n                [35.9119266, -79.03607141723717],\n                {&quot;opacity&quot;: 1}\n            ).addTo(map_eadbf16797781dee4c475338b8c7ef22);\n        \n    \n            var beautify_icon_504e0acab051b347fb163d1239f33d4a = new L.BeautifyIcon.icon(\n                {&quot;backgroundColor&quot;: &quot;#FFF&quot;, &quot;borderColor&quot;: &quot;green&quot;, &quot;borderWidth&quot;: 3, &quot;icon&quot;: &quot;leaf&quot;, &quot;iconShape&quot;: &quot;circle&quot;, &quot;innerIconStyle&quot;: &quot;&quot;, &quot;isAlphaNumericIcon&quot;: false, &quot;spin&quot;: false, &quot;textColor&quot;: &quot;green&quot;}\n            )\n            marker_796fd265e27f8abbdaa80f52ac0bda5c.setIcon(beautify_icon_504e0acab051b347fb163d1239f33d4a);\n        \n    \n        var popup_6376a71e14fea006f6c596c2e1409f0e = L.popup({&quot;maxWidth&quot;: &quot;100%&quot;});\n\n        \n            \n                var html_3b861e9e1327cd54680901c3ffa80aea = $(`&lt;div id=&quot;html_3b861e9e1327cd54680901c3ffa80aea&quot; style=&quot;width: 100.0%; height: 100.0%;&quot;&gt;Hippol Castle&lt;/div&gt;`)[0];\n                popup_6376a71e14fea006f6c596c2e1409f0e.setContent(html_3b861e9e1327cd54680901c3ffa80aea);\n            \n        \n\n        marker_796fd265e27f8abbdaa80f52ac0bda5c.bindPopup(popup_6376a71e14fea006f6c596c2e1409f0e)\n        ;\n\n        \n    \n    \n            var marker_a3e68b1fc173d132c2586854aa2ac610 = L.marker(\n                [35.9120628, -79.05123466879807],\n                {&quot;opacity&quot;: 1}\n            ).addTo(map_eadbf16797781dee4c475338b8c7ef22);\n        \n    \n            var beautify_icon_ef87682c80888b38567b6994fdd95600 = new L.BeautifyIcon.icon(\n                {&quot;backgroundColor&quot;: &quot;#FFF&quot;, &quot;borderColor&quot;: &quot;blue&quot;, &quot;borderWidth&quot;: 3, &quot;icon&quot;: &quot;camera&quot;, &quot;innerIconStyle&quot;: &quot;&quot;, &quot;isAlphaNumericIcon&quot;: false, &quot;spin&quot;: false, &quot;textColor&quot;: &quot;blue&quot;}\n            )\n            marker_a3e68b1fc173d132c2586854aa2ac610.setIcon(beautify_icon_ef87682c80888b38567b6994fdd95600);\n        \n    \n        var popup_11d4729b86e2d6e74563f5459f9fcbb3 = L.popup({&quot;maxWidth&quot;: &quot;100%&quot;});\n\n        \n            \n                var html_95348bf7934d34a6e1cddc003a6584a5 = $(`&lt;div id=&quot;html_95348bf7934d34a6e1cddc003a6584a5&quot; style=&quot;width: 100.0%; height: 100.0%;&quot;&gt;Old Well&lt;/div&gt;`)[0];\n                popup_11d4729b86e2d6e74563f5459f9fcbb3.setContent(html_95348bf7934d34a6e1cddc003a6584a5);\n            \n        \n\n        marker_a3e68b1fc173d132c2586854aa2ac610.bindPopup(popup_11d4729b86e2d6e74563f5459f9fcbb3)\n        ;\n\n        \n    \n    \n            var marker_5404c8958ad82fca4b8461c1e1588914 = L.marker(\n                [35.91333555, -79.05196914479636],\n                {&quot;opacity&quot;: 1}\n            ).addTo(map_eadbf16797781dee4c475338b8c7ef22);\n        \n    \n            var beautify_icon_862b99ae72e32770d3e21856f3213f7f = new L.BeautifyIcon.icon(\n                {&quot;backgroundColor&quot;: &quot;#FFF&quot;, &quot;borderColor&quot;: &quot;green&quot;, &quot;borderWidth&quot;: 3, &quot;icon&quot;: &quot;leaf&quot;, &quot;iconShape&quot;: &quot;circle&quot;, &quot;innerIconStyle&quot;: &quot;&quot;, &quot;isAlphaNumericIcon&quot;: false, &quot;spin&quot;: false, &quot;textColor&quot;: &quot;green&quot;}\n            )\n            marker_5404c8958ad82fca4b8461c1e1588914.setIcon(beautify_icon_862b99ae72e32770d3e21856f3213f7f);\n        \n    \n        var popup_de82b31fbcac36d562a7a276749317a7 = L.popup({&quot;maxWidth&quot;: &quot;100%&quot;});\n\n        \n            \n                var html_1678841fdca50d2403f39ca79e3ac5e1 = $(`&lt;div id=&quot;html_1678841fdca50d2403f39ca79e3ac5e1&quot; style=&quot;width: 100.0%; height: 100.0%;&quot;&gt;McCorkle Place&lt;/div&gt;`)[0];\n                popup_de82b31fbcac36d562a7a276749317a7.setContent(html_1678841fdca50d2403f39ca79e3ac5e1);\n            \n        \n\n        marker_5404c8958ad82fca4b8461c1e1588914.bindPopup(popup_de82b31fbcac36d562a7a276749317a7)\n        ;\n\n        \n    \n    \n            var marker_68583842aba73d41a68968eff728c8d4 = L.marker(\n                [35.9132796, -79.056798],\n                {&quot;opacity&quot;: 1}\n            ).addTo(map_eadbf16797781dee4c475338b8c7ef22);\n        \n    \n            var beautify_icon_c09b7ba98c27315a2f7bb73859d7cbe3 = new L.BeautifyIcon.icon(\n                {&quot;backgroundColor&quot;: &quot;#FFF&quot;, &quot;borderColor&quot;: &quot;orange&quot;, &quot;borderWidth&quot;: 3, &quot;icon&quot;: &quot;utensils&quot;, &quot;iconShape&quot;: &quot;circle&quot;, &quot;innerIconStyle&quot;: &quot;&quot;, &quot;isAlphaNumericIcon&quot;: false, &quot;spin&quot;: false, &quot;textColor&quot;: &quot;orange&quot;}\n            )\n            marker_68583842aba73d41a68968eff728c8d4.setIcon(beautify_icon_c09b7ba98c27315a2f7bb73859d7cbe3);\n        \n    \n        var popup_4709d0364898e9351366a09dc73a0512 = L.popup({&quot;maxWidth&quot;: &quot;100%&quot;});\n\n        \n            \n                var html_06d99c589b93c9250a4ee566e959e9be = $(`&lt;div id=&quot;html_06d99c589b93c9250a4ee566e959e9be&quot; style=&quot;width: 100.0%; height: 100.0%;&quot;&gt;He&#x27;s Not Here &lt;/div&gt;`)[0];\n                popup_4709d0364898e9351366a09dc73a0512.setContent(html_06d99c589b93c9250a4ee566e959e9be);\n            \n        \n\n        marker_68583842aba73d41a68968eff728c8d4.bindPopup(popup_4709d0364898e9351366a09dc73a0512)\n        ;\n\n        \n    \n    \n            var marker_7e71ee363cf69e284dcae8e305f17924 = L.marker(\n                [35.91358285610324, -79.05538359568585],\n                {&quot;opacity&quot;: 1}\n            ).addTo(map_eadbf16797781dee4c475338b8c7ef22);\n        \n    \n            var beautify_icon_0c3192c0e6a7a74bd3537a40453a44ce = new L.BeautifyIcon.icon(\n                {&quot;backgroundColor&quot;: &quot;#FFF&quot;, &quot;borderColor&quot;: &quot;purple&quot;, &quot;borderWidth&quot;: 3, &quot;icon&quot;: &quot;book&quot;, &quot;iconShape&quot;: &quot;circle&quot;, &quot;innerIconStyle&quot;: &quot;&quot;, &quot;isAlphaNumericIcon&quot;: false, &quot;spin&quot;: false, &quot;textColor&quot;: &quot;purple&quot;}\n            )\n            marker_7e71ee363cf69e284dcae8e305f17924.setIcon(beautify_icon_0c3192c0e6a7a74bd3537a40453a44ce);\n        \n    \n        var popup_43c790a569e8f7b9bcdcecf2955ab738 = L.popup({&quot;maxWidth&quot;: &quot;100%&quot;});\n\n        \n            \n                var html_e24ef19a0a85b27ce4220f39657ae80e = $(`&lt;div id=&quot;html_e24ef19a0a85b27ce4220f39657ae80e&quot; style=&quot;width: 100.0%; height: 100.0%;&quot;&gt;Epilogue Books Chocolate Brews&lt;/div&gt;`)[0];\n                popup_43c790a569e8f7b9bcdcecf2955ab738.setContent(html_e24ef19a0a85b27ce4220f39657ae80e);\n            \n        \n\n        marker_7e71ee363cf69e284dcae8e305f17924.bindPopup(popup_43c790a569e8f7b9bcdcecf2955ab738)\n        ;\n\n        \n    \n    \n            var marker_af3f8b32f734dbee1f1ebd20dc6c1661 = L.marker(\n                [35.910572591584994, -79.06758108248158],\n                {&quot;opacity&quot;: 1}\n            ).addTo(map_eadbf16797781dee4c475338b8c7ef22);\n        \n    \n            var beautify_icon_70e0a55ae118d75df21c38a75ca48a6f = new L.BeautifyIcon.icon(\n                {&quot;backgroundColor&quot;: &quot;#FFF&quot;, &quot;borderColor&quot;: &quot;blue&quot;, &quot;borderWidth&quot;: 3, &quot;icon&quot;: &quot;camera&quot;, &quot;innerIconStyle&quot;: &quot;&quot;, &quot;isAlphaNumericIcon&quot;: false, &quot;spin&quot;: false, &quot;textColor&quot;: &quot;blue&quot;}\n            )\n            marker_af3f8b32f734dbee1f1ebd20dc6c1661.setIcon(beautify_icon_70e0a55ae118d75df21c38a75ca48a6f);\n        \n    \n        var popup_f06b43b6bb8fbfc21ec868fbaab1a33d = L.popup({&quot;maxWidth&quot;: &quot;100%&quot;});\n\n        \n            \n                var html_60c79aa68aa8f4dfc9548e454682cb6b = $(`&lt;div id=&quot;html_60c79aa68aa8f4dfc9548e454682cb6b&quot; style=&quot;width: 100.0%; height: 100.0%;&quot;&gt;FRANK Gallery&lt;/div&gt;`)[0];\n                popup_f06b43b6bb8fbfc21ec868fbaab1a33d.setContent(html_60c79aa68aa8f4dfc9548e454682cb6b);\n            \n        \n\n        marker_af3f8b32f734dbee1f1ebd20dc6c1661.bindPopup(popup_f06b43b6bb8fbfc21ec868fbaab1a33d)\n        ;\n\n        \n    \n    \n            var marker_b1a715741e3b6c46f767b13560bfe1f8 = L.marker(\n                [35.9243502, -79.0535287],\n                {&quot;opacity&quot;: 1}\n            ).addTo(map_eadbf16797781dee4c475338b8c7ef22);\n        \n    \n            var beautify_icon_6444d5b3c63ad9b34a231c6036642188 = new L.BeautifyIcon.icon(\n                {&quot;backgroundColor&quot;: &quot;#FFF&quot;, &quot;borderColor&quot;: &quot;purple&quot;, &quot;borderWidth&quot;: 3, &quot;icon&quot;: &quot;book&quot;, &quot;iconShape&quot;: &quot;circle&quot;, &quot;innerIconStyle&quot;: &quot;&quot;, &quot;isAlphaNumericIcon&quot;: false, &quot;spin&quot;: false, &quot;textColor&quot;: &quot;purple&quot;}\n            )\n            marker_b1a715741e3b6c46f767b13560bfe1f8.setIcon(beautify_icon_6444d5b3c63ad9b34a231c6036642188);\n        \n    \n        var popup_df14e15f46da5d54bde86f2cc6107572 = L.popup({&quot;maxWidth&quot;: &quot;100%&quot;});\n\n        \n            \n                var html_d408bebb6436097d26d0485a17495ba6 = $(`&lt;div id=&quot;html_d408bebb6436097d26d0485a17495ba6&quot; style=&quot;width: 100.0%; height: 100.0%;&quot;&gt;Flyleaf books&lt;/div&gt;`)[0];\n                popup_df14e15f46da5d54bde86f2cc6107572.setContent(html_d408bebb6436097d26d0485a17495ba6);\n            \n        \n\n        marker_b1a715741e3b6c46f767b13560bfe1f8.bindPopup(popup_df14e15f46da5d54bde86f2cc6107572)\n        ;\n\n        \n    \n    \n            var marker_9e41ab109f7b53dd38d4c5125398ecdd = L.marker(\n                [35.91294582504525, -79.05536917740552],\n                {&quot;opacity&quot;: 1}\n            ).addTo(map_eadbf16797781dee4c475338b8c7ef22);\n        \n    \n            var beautify_icon_0e5a389cfed8786f395abf584658c651 = new L.BeautifyIcon.icon(\n                {&quot;backgroundColor&quot;: &quot;#FFF&quot;, &quot;borderColor&quot;: &quot;orange&quot;, &quot;borderWidth&quot;: 3, &quot;icon&quot;: &quot;utensils&quot;, &quot;iconShape&quot;: &quot;circle&quot;, &quot;innerIconStyle&quot;: &quot;&quot;, &quot;isAlphaNumericIcon&quot;: false, &quot;spin&quot;: false, &quot;textColor&quot;: &quot;orange&quot;}\n            )\n            marker_9e41ab109f7b53dd38d4c5125398ecdd.setIcon(beautify_icon_0e5a389cfed8786f395abf584658c651);\n        \n    \n        var popup_6d5aa6e0259be4ac65359e355a3d5333 = L.popup({&quot;maxWidth&quot;: &quot;100%&quot;});\n\n        \n            \n                var html_d62920bea8c76f3518f4f8a35284e96e = $(`&lt;div id=&quot;html_d62920bea8c76f3518f4f8a35284e96e&quot; style=&quot;width: 100.0%; height: 100.0%;&quot;&gt;Top of the Hill Restaurant &amp; Brewery&lt;/div&gt;`)[0];\n                popup_6d5aa6e0259be4ac65359e355a3d5333.setContent(html_d62920bea8c76f3518f4f8a35284e96e);\n            \n        \n\n        marker_9e41ab109f7b53dd38d4c5125398ecdd.bindPopup(popup_6d5aa6e0259be4ac65359e355a3d5333)\n        ;\n\n        \n    \n    \n            var marker_fef400d2c6d5ef577feb51e1cb0d255a = L.marker(\n                [35.8960085, -79.05827543042925],\n                {&quot;opacity&quot;: 1}\n            ).addTo(map_eadbf16797781dee4c475338b8c7ef22);\n        \n    \n            var beautify_icon_2e897ff45b5c74a9f6024f2e2d2728da = new L.BeautifyIcon.icon(\n                {&quot;backgroundColor&quot;: &quot;#FFF&quot;, &quot;borderColor&quot;: &quot;orange&quot;, &quot;borderWidth&quot;: 3, &quot;icon&quot;: &quot;utensils&quot;, &quot;iconShape&quot;: &quot;circle&quot;, &quot;innerIconStyle&quot;: &quot;&quot;, &quot;isAlphaNumericIcon&quot;: false, &quot;spin&quot;: false, &quot;textColor&quot;: &quot;orange&quot;}\n            )\n            marker_fef400d2c6d5ef577feb51e1cb0d255a.setIcon(beautify_icon_2e897ff45b5c74a9f6024f2e2d2728da);\n        \n    \n        var popup_f3303d8875cd0f9cab3c43fa85354f9a = L.popup({&quot;maxWidth&quot;: &quot;100%&quot;});\n\n        \n            \n                var html_749cd417f5aaa685387759b3259db127 = $(`&lt;div id=&quot;html_749cd417f5aaa685387759b3259db127&quot; style=&quot;width: 100.0%; height: 100.0%;&quot;&gt;Merritt&#x27;s Store &amp; Grill&lt;/div&gt;`)[0];\n                popup_f3303d8875cd0f9cab3c43fa85354f9a.setContent(html_749cd417f5aaa685387759b3259db127);\n            \n        \n\n        marker_fef400d2c6d5ef577feb51e1cb0d255a.bindPopup(popup_f3303d8875cd0f9cab3c43fa85354f9a)\n        ;\n\n        \n    \n    \n            var marker_c17ac533ebb3302f64a8ebb911c3918b = L.marker(\n                [35.9101744, -79.0628881],\n                {&quot;opacity&quot;: 1}\n            ).addTo(map_eadbf16797781dee4c475338b8c7ef22);\n        \n    \n            var beautify_icon_588c2c608e61ac6dacd0d3cd1b768257 = new L.BeautifyIcon.icon(\n                {&quot;backgroundColor&quot;: &quot;#FFF&quot;, &quot;borderColor&quot;: &quot;orange&quot;, &quot;borderWidth&quot;: 3, &quot;icon&quot;: &quot;utensils&quot;, &quot;iconShape&quot;: &quot;circle&quot;, &quot;innerIconStyle&quot;: &quot;&quot;, &quot;isAlphaNumericIcon&quot;: false, &quot;spin&quot;: false, &quot;textColor&quot;: &quot;orange&quot;}\n            )\n            marker_c17ac533ebb3302f64a8ebb911c3918b.setIcon(beautify_icon_588c2c608e61ac6dacd0d3cd1b768257);\n        \n    \n        var popup_1104087df1f35d70cf4f47699b87f748 = L.popup({&quot;maxWidth&quot;: &quot;100%&quot;});\n\n        \n            \n                var html_194cf3372aab3ca154afe38e40d3b570 = $(`&lt;div id=&quot;html_194cf3372aab3ca154afe38e40d3b570&quot; style=&quot;width: 100.0%; height: 100.0%;&quot;&gt;Kipos Greek Taverna&lt;/div&gt;`)[0];\n                popup_1104087df1f35d70cf4f47699b87f748.setContent(html_194cf3372aab3ca154afe38e40d3b570);\n            \n        \n\n        marker_c17ac533ebb3302f64a8ebb911c3918b.bindPopup(popup_1104087df1f35d70cf4f47699b87f748)\n        ;\n\n        \n    \n    \n            var marker_215b204ea6e9fcb513a5e851ebab638a = L.marker(\n                [35.911309760370585, -79.06099069351794],\n                {&quot;opacity&quot;: 1}\n            ).addTo(map_eadbf16797781dee4c475338b8c7ef22);\n        \n    \n            var beautify_icon_aef16dcd01747364f56c08dd123c5a9d = new L.BeautifyIcon.icon(\n                {&quot;backgroundColor&quot;: &quot;#FFF&quot;, &quot;borderColor&quot;: &quot;orange&quot;, &quot;borderWidth&quot;: 3, &quot;icon&quot;: &quot;utensils&quot;, &quot;iconShape&quot;: &quot;circle&quot;, &quot;innerIconStyle&quot;: &quot;&quot;, &quot;isAlphaNumericIcon&quot;: false, &quot;spin&quot;: false, &quot;textColor&quot;: &quot;orange&quot;}\n            )\n            marker_215b204ea6e9fcb513a5e851ebab638a.setIcon(beautify_icon_aef16dcd01747364f56c08dd123c5a9d);\n        \n    \n        var popup_296db99d50ebe6137231f020cb18e79a = L.popup({&quot;maxWidth&quot;: &quot;100%&quot;});\n\n        \n            \n                var html_870c9dd8223dc3149f3f157c853aa489 = $(`&lt;div id=&quot;html_870c9dd8223dc3149f3f157c853aa489&quot; style=&quot;width: 100.0%; height: 100.0%;&quot;&gt;Mediterranean Deli, Bakery, and Catering&lt;/div&gt;`)[0];\n                popup_296db99d50ebe6137231f020cb18e79a.setContent(html_870c9dd8223dc3149f3f157c853aa489);\n            \n        \n\n        marker_215b204ea6e9fcb513a5e851ebab638a.bindPopup(popup_296db99d50ebe6137231f020cb18e79a)\n        ;\n\n        \n    \n    \n            var marker_dd76729a48dab57bf074fa80d5ac9a59 = L.marker(\n                [35.9101103, -79.0640683],\n                {&quot;opacity&quot;: 1}\n            ).addTo(map_eadbf16797781dee4c475338b8c7ef22);\n        \n    \n            var beautify_icon_ba5afa74f1fa8e2166bfdc1719839591 = new L.BeautifyIcon.icon(\n                {&quot;backgroundColor&quot;: &quot;#FFF&quot;, &quot;borderColor&quot;: &quot;orange&quot;, &quot;borderWidth&quot;: 3, &quot;icon&quot;: &quot;utensils&quot;, &quot;iconShape&quot;: &quot;circle&quot;, &quot;innerIconStyle&quot;: &quot;&quot;, &quot;isAlphaNumericIcon&quot;: false, &quot;spin&quot;: false, &quot;textColor&quot;: &quot;orange&quot;}\n            )\n            marker_dd76729a48dab57bf074fa80d5ac9a59.setIcon(beautify_icon_ba5afa74f1fa8e2166bfdc1719839591);\n        \n    \n        var popup_22f74ef38a3aeae05b3a332a4a251098 = L.popup({&quot;maxWidth&quot;: &quot;100%&quot;});\n\n        \n            \n                var html_b2d83436cf5bbee392bc73e6eac4c672 = $(`&lt;div id=&quot;html_b2d83436cf5bbee392bc73e6eac4c672&quot; style=&quot;width: 100.0%; height: 100.0%;&quot;&gt;Al&#x27;s burger shack restaurant&lt;/div&gt;`)[0];\n                popup_22f74ef38a3aeae05b3a332a4a251098.setContent(html_b2d83436cf5bbee392bc73e6eac4c672);\n            \n        \n\n        marker_dd76729a48dab57bf074fa80d5ac9a59.bindPopup(popup_22f74ef38a3aeae05b3a332a4a251098)\n        ;\n\n        \n    \n    \n            var marker_31c8fb29d55b471e987c445216dd6797 = L.marker(\n                [35.910386849999995, -79.06228058988057],\n                {&quot;opacity&quot;: 1}\n            ).addTo(map_eadbf16797781dee4c475338b8c7ef22);\n        \n    \n            var beautify_icon_f785a7fe127c2ce2a99fd64a5b4ec3e3 = new L.BeautifyIcon.icon(\n                {&quot;backgroundColor&quot;: &quot;#FFF&quot;, &quot;borderColor&quot;: &quot;orange&quot;, &quot;borderWidth&quot;: 3, &quot;icon&quot;: &quot;utensils&quot;, &quot;iconShape&quot;: &quot;circle&quot;, &quot;innerIconStyle&quot;: &quot;&quot;, &quot;isAlphaNumericIcon&quot;: false, &quot;spin&quot;: false, &quot;textColor&quot;: &quot;orange&quot;}\n            )\n            marker_31c8fb29d55b471e987c445216dd6797.setIcon(beautify_icon_f785a7fe127c2ce2a99fd64a5b4ec3e3);\n        \n    \n        var popup_1e083555df794114f2397e9cb06eb550 = L.popup({&quot;maxWidth&quot;: &quot;100%&quot;});\n\n        \n            \n                var html_3e1ab75ed3a04ad9ef532ff9170af5cb = $(`&lt;div id=&quot;html_3e1ab75ed3a04ad9ef532ff9170af5cb&quot; style=&quot;width: 100.0%; height: 100.0%;&quot;&gt;Lantern restaurant&lt;/div&gt;`)[0];\n                popup_1e083555df794114f2397e9cb06eb550.setContent(html_3e1ab75ed3a04ad9ef532ff9170af5cb);\n            \n        \n\n        marker_31c8fb29d55b471e987c445216dd6797.bindPopup(popup_1e083555df794114f2397e9cb06eb550)\n        ;\n\n        \n    \n    \n            var marker_ff30e277a0400564dab8c806f392b875 = L.marker(\n                [35.92817031282622, -79.02871015024913],\n                {&quot;opacity&quot;: 1}\n            ).addTo(map_eadbf16797781dee4c475338b8c7ef22);\n        \n    \n            var beautify_icon_4f1b7477ad88c37c470458ef37e63269 = new L.BeautifyIcon.icon(\n                {&quot;backgroundColor&quot;: &quot;#FFF&quot;, &quot;borderColor&quot;: &quot;orange&quot;, &quot;borderWidth&quot;: 3, &quot;icon&quot;: &quot;utensils&quot;, &quot;iconShape&quot;: &quot;circle&quot;, &quot;innerIconStyle&quot;: &quot;&quot;, &quot;isAlphaNumericIcon&quot;: false, &quot;spin&quot;: false, &quot;textColor&quot;: &quot;orange&quot;}\n            )\n            marker_ff30e277a0400564dab8c806f392b875.setIcon(beautify_icon_4f1b7477ad88c37c470458ef37e63269);\n        \n    \n        var popup_e61f683530f81d75d860135c87b67da7 = L.popup({&quot;maxWidth&quot;: &quot;100%&quot;});\n\n        \n            \n                var html_0325a2f9e978ab977fa0e65465eb6e61 = $(`&lt;div id=&quot;html_0325a2f9e978ab977fa0e65465eb6e61&quot; style=&quot;width: 100.0%; height: 100.0%;&quot;&gt;Stoney River Steakhouse and Grill&lt;/div&gt;`)[0];\n                popup_e61f683530f81d75d860135c87b67da7.setContent(html_0325a2f9e978ab977fa0e65465eb6e61);\n            \n        \n\n        marker_ff30e277a0400564dab8c806f392b875.bindPopup(popup_e61f683530f81d75d860135c87b67da7)\n        ;\n\n        \n    \n    \n            var marker_b070997dbc046472c5f67022a1650d52 = L.marker(\n                [35.89995045, -79.04214864803632],\n                {&quot;opacity&quot;: 1}\n            ).addTo(map_eadbf16797781dee4c475338b8c7ef22);\n        \n    \n            var beautify_icon_b2642f8f1c1197815a049dff8cc82f0e = new L.BeautifyIcon.icon(\n                {&quot;backgroundColor&quot;: &quot;#FFF&quot;, &quot;borderColor&quot;: &quot;red&quot;, &quot;borderWidth&quot;: 3, &quot;icon&quot;: &quot;university&quot;, &quot;iconShape&quot;: &quot;circle&quot;, &quot;innerIconStyle&quot;: &quot;&quot;, &quot;isAlphaNumericIcon&quot;: false, &quot;spin&quot;: false, &quot;textColor&quot;: &quot;red&quot;}\n            )\n            marker_b070997dbc046472c5f67022a1650d52.setIcon(beautify_icon_b2642f8f1c1197815a049dff8cc82f0e);\n        \n    \n        var popup_3de9b6a1942f71ec7053d9516433f109 = L.popup({&quot;maxWidth&quot;: &quot;100%&quot;});\n\n        \n            \n                var html_3c5336a264a1ca6c2a4127da57469187 = $(`&lt;div id=&quot;html_3c5336a264a1ca6c2a4127da57469187&quot; style=&quot;width: 100.0%; height: 100.0%;&quot;&gt;Carolina Basketball Museum&lt;/div&gt;`)[0];\n                popup_3de9b6a1942f71ec7053d9516433f109.setContent(html_3c5336a264a1ca6c2a4127da57469187);\n            \n        \n\n        marker_b070997dbc046472c5f67022a1650d52.bindPopup(popup_3de9b6a1942f71ec7053d9516433f109)\n        ;\n\n        \n    \n    \n            var marker_3c271793585bcd6dcffada2ba9474199 = L.marker(\n                [35.917830949999995, -79.04519657023516],\n                {&quot;opacity&quot;: 1}\n            ).addTo(map_eadbf16797781dee4c475338b8c7ef22);\n        \n    \n            var beautify_icon_1a6b77d2b4cc7f9a14d074f0619520e1 = new L.BeautifyIcon.icon(\n                {&quot;backgroundColor&quot;: &quot;#FFF&quot;, &quot;borderColor&quot;: &quot;red&quot;, &quot;borderWidth&quot;: 3, &quot;icon&quot;: &quot;university&quot;, &quot;iconShape&quot;: &quot;circle&quot;, &quot;innerIconStyle&quot;: &quot;&quot;, &quot;isAlphaNumericIcon&quot;: false, &quot;spin&quot;: false, &quot;textColor&quot;: &quot;red&quot;}\n            )\n            marker_3c271793585bcd6dcffada2ba9474199.setIcon(beautify_icon_1a6b77d2b4cc7f9a14d074f0619520e1);\n        \n    \n        var popup_7ae180542f81ce33c8af6ff1a2d02650 = L.popup({&quot;maxWidth&quot;: &quot;100%&quot;});\n\n        \n            \n                var html_696be0e68892addec13e7b3a921989ea = $(`&lt;div id=&quot;html_696be0e68892addec13e7b3a921989ea&quot; style=&quot;width: 100.0%; height: 100.0%;&quot;&gt;Horace Williams House&lt;/div&gt;`)[0];\n                popup_7ae180542f81ce33c8af6ff1a2d02650.setContent(html_696be0e68892addec13e7b3a921989ea);\n            \n        \n\n        marker_3c271793585bcd6dcffada2ba9474199.bindPopup(popup_7ae180542f81ce33c8af6ff1a2d02650)\n        ;\n\n        \n    \n    \n            var marker_f91aae68c0ac46348f9fb41650a80b6a = L.marker(\n                [35.9140624, -79.0538591],\n                {&quot;opacity&quot;: 1}\n            ).addTo(map_eadbf16797781dee4c475338b8c7ef22);\n        \n    \n            var beautify_icon_8c2e187c30d1a24cb777f781ea5eeaac = new L.BeautifyIcon.icon(\n                {&quot;backgroundColor&quot;: &quot;#FFF&quot;, &quot;borderColor&quot;: &quot;orange&quot;, &quot;borderWidth&quot;: 3, &quot;icon&quot;: &quot;utensils&quot;, &quot;iconShape&quot;: &quot;circle&quot;, &quot;innerIconStyle&quot;: &quot;&quot;, &quot;isAlphaNumericIcon&quot;: false, &quot;spin&quot;: false, &quot;textColor&quot;: &quot;orange&quot;}\n            )\n            marker_f91aae68c0ac46348f9fb41650a80b6a.setIcon(beautify_icon_8c2e187c30d1a24cb777f781ea5eeaac);\n        \n    \n        var popup_4f750b797b6d60d18ab3f9fb0684b2eb = L.popup({&quot;maxWidth&quot;: &quot;100%&quot;});\n\n        \n            \n                var html_c0e849974540058a1bee8b68f2926491 = $(`&lt;div id=&quot;html_c0e849974540058a1bee8b68f2926491&quot; style=&quot;width: 100.0%; height: 100.0%;&quot;&gt;Sutton&#x27;s Drug Store&lt;/div&gt;`)[0];\n                popup_4f750b797b6d60d18ab3f9fb0684b2eb.setContent(html_c0e849974540058a1bee8b68f2926491);\n            \n        \n\n        marker_f91aae68c0ac46348f9fb41650a80b6a.bindPopup(popup_4f750b797b6d60d18ab3f9fb0684b2eb)\n        ;\n\n        \n    \n    \n            var marker_3ac77cf9578c4c22a3db05fa62533580 = L.marker(\n                [35.9137132, -79.0547738],\n                {&quot;opacity&quot;: 1}\n            ).addTo(map_eadbf16797781dee4c475338b8c7ef22);\n        \n    \n            var beautify_icon_5ee3462db4e5cc4e2ed20f72a9e9571b = new L.BeautifyIcon.icon(\n                {&quot;backgroundColor&quot;: &quot;#FFF&quot;, &quot;borderColor&quot;: &quot;orange&quot;, &quot;borderWidth&quot;: 3, &quot;icon&quot;: &quot;utensils&quot;, &quot;iconShape&quot;: &quot;circle&quot;, &quot;innerIconStyle&quot;: &quot;&quot;, &quot;isAlphaNumericIcon&quot;: false, &quot;spin&quot;: false, &quot;textColor&quot;: &quot;orange&quot;}\n            )\n            marker_3ac77cf9578c4c22a3db05fa62533580.setIcon(beautify_icon_5ee3462db4e5cc4e2ed20f72a9e9571b);\n        \n    \n        var popup_44ec7789ef365034c5d6cf76a6cc3f76 = L.popup({&quot;maxWidth&quot;: &quot;100%&quot;});\n\n        \n            \n                var html_65ca5ecd968c1337369bdc8d57363b91 = $(`&lt;div id=&quot;html_65ca5ecd968c1337369bdc8d57363b91&quot; style=&quot;width: 100.0%; height: 100.0%;&quot;&gt;Cold Stone Creamery&lt;/div&gt;`)[0];\n                popup_44ec7789ef365034c5d6cf76a6cc3f76.setContent(html_65ca5ecd968c1337369bdc8d57363b91);\n            \n        \n\n        marker_3ac77cf9578c4c22a3db05fa62533580.bindPopup(popup_44ec7789ef365034c5d6cf76a6cc3f76)\n        ;\n\n        \n    \n    \n            var marker_7a03b2f8fdd045f578cecded40576c35 = L.marker(\n                [35.91367474811742, -79.05486869378159],\n                {&quot;opacity&quot;: 1}\n            ).addTo(map_eadbf16797781dee4c475338b8c7ef22);\n        \n    \n            var beautify_icon_54c4e4ecf9a92f2b15ade6505bffb04e = new L.BeautifyIcon.icon(\n                {&quot;backgroundColor&quot;: &quot;#FFF&quot;, &quot;borderColor&quot;: &quot;orange&quot;, &quot;borderWidth&quot;: 3, &quot;icon&quot;: &quot;utensils&quot;, &quot;iconShape&quot;: &quot;circle&quot;, &quot;innerIconStyle&quot;: &quot;&quot;, &quot;isAlphaNumericIcon&quot;: false, &quot;spin&quot;: false, &quot;textColor&quot;: &quot;orange&quot;}\n            )\n            marker_7a03b2f8fdd045f578cecded40576c35.setIcon(beautify_icon_54c4e4ecf9a92f2b15ade6505bffb04e);\n        \n    \n        var popup_e96a6df322ec737175f57ec9c90a8592 = L.popup({&quot;maxWidth&quot;: &quot;100%&quot;});\n\n        \n            \n                var html_70c3a6c986c9ecf6c9184fa0bdd297de = $(`&lt;div id=&quot;html_70c3a6c986c9ecf6c9184fa0bdd297de&quot; style=&quot;width: 100.0%; height: 100.0%;&quot;&gt;The Blue Horn Lounge&lt;/div&gt;`)[0];\n                popup_e96a6df322ec737175f57ec9c90a8592.setContent(html_70c3a6c986c9ecf6c9184fa0bdd297de);\n            \n        \n\n        marker_7a03b2f8fdd045f578cecded40576c35.bindPopup(popup_e96a6df322ec737175f57ec9c90a8592)\n        ;\n\n        \n    \n    \n            var marker_33d3268724b1c59ecba828495ee61fe9 = L.marker(\n                [35.9136319, -79.0577674],\n                {&quot;opacity&quot;: 1}\n            ).addTo(map_eadbf16797781dee4c475338b8c7ef22);\n        \n    \n            var beautify_icon_2e91c01b8a21dddad04c49612677a1ef = new L.BeautifyIcon.icon(\n                {&quot;backgroundColor&quot;: &quot;#FFF&quot;, &quot;borderColor&quot;: &quot;orange&quot;, &quot;borderWidth&quot;: 3, &quot;icon&quot;: &quot;utensils&quot;, &quot;iconShape&quot;: &quot;circle&quot;, &quot;innerIconStyle&quot;: &quot;&quot;, &quot;isAlphaNumericIcon&quot;: false, &quot;spin&quot;: false, &quot;textColor&quot;: &quot;orange&quot;}\n            )\n            marker_33d3268724b1c59ecba828495ee61fe9.setIcon(beautify_icon_2e91c01b8a21dddad04c49612677a1ef);\n        \n    \n        var popup_110ce0d90da214330238233c3a72f4de = L.popup({&quot;maxWidth&quot;: &quot;100%&quot;});\n\n        \n            \n                var html_c15c9b43a6ca258832b0acee0a760188 = $(`&lt;div id=&quot;html_c15c9b43a6ca258832b0acee0a760188&quot; style=&quot;width: 100.0%; height: 100.0%;&quot;&gt;La Residence&lt;/div&gt;`)[0];\n                popup_110ce0d90da214330238233c3a72f4de.setContent(html_c15c9b43a6ca258832b0acee0a760188);\n            \n        \n\n        marker_33d3268724b1c59ecba828495ee61fe9.bindPopup(popup_110ce0d90da214330238233c3a72f4de)\n        ;\n\n        \n    \n    \n            var marker_c2cb2c9713ac33a9b602651857b172ff = L.marker(\n                [35.91150879898124, -79.06047572961023],\n                {&quot;opacity&quot;: 1}\n            ).addTo(map_eadbf16797781dee4c475338b8c7ef22);\n        \n    \n            var beautify_icon_252d68411196f7ed11ae629e4b4f3063 = new L.BeautifyIcon.icon(\n                {&quot;backgroundColor&quot;: &quot;#FFF&quot;, &quot;borderColor&quot;: &quot;orange&quot;, &quot;borderWidth&quot;: 3, &quot;icon&quot;: &quot;utensils&quot;, &quot;iconShape&quot;: &quot;circle&quot;, &quot;innerIconStyle&quot;: &quot;&quot;, &quot;isAlphaNumericIcon&quot;: false, &quot;spin&quot;: false, &quot;textColor&quot;: &quot;orange&quot;}\n            )\n            marker_c2cb2c9713ac33a9b602651857b172ff.setIcon(beautify_icon_252d68411196f7ed11ae629e4b4f3063);\n        \n    \n        var popup_9080dbc98026f0d33f2a67a34ac1ecc4 = L.popup({&quot;maxWidth&quot;: &quot;100%&quot;});\n\n        \n            \n                var html_d54a258e6f2a612fb6b3f1f98c7108ea = $(`&lt;div id=&quot;html_d54a258e6f2a612fb6b3f1f98c7108ea&quot; style=&quot;width: 100.0%; height: 100.0%;&quot;&gt;CholaNad Restaurant &amp; Bar&lt;/div&gt;`)[0];\n                popup_9080dbc98026f0d33f2a67a34ac1ecc4.setContent(html_d54a258e6f2a612fb6b3f1f98c7108ea);\n            \n        \n\n        marker_c2cb2c9713ac33a9b602651857b172ff.bindPopup(popup_9080dbc98026f0d33f2a67a34ac1ecc4)\n        ;\n\n        \n    \n    \n            var marker_3cbaaea847dc6432da2d4d43b0a37a1b = L.marker(\n                [35.9106593, -79.0626393],\n                {&quot;opacity&quot;: 1}\n            ).addTo(map_eadbf16797781dee4c475338b8c7ef22);\n        \n    \n            var beautify_icon_efc860d48553b7a09d32d767ebb41296 = new L.BeautifyIcon.icon(\n                {&quot;backgroundColor&quot;: &quot;#FFF&quot;, &quot;borderColor&quot;: &quot;orange&quot;, &quot;borderWidth&quot;: 3, &quot;icon&quot;: &quot;utensils&quot;, &quot;iconShape&quot;: &quot;circle&quot;, &quot;innerIconStyle&quot;: &quot;&quot;, &quot;isAlphaNumericIcon&quot;: false, &quot;spin&quot;: false, &quot;textColor&quot;: &quot;orange&quot;}\n            )\n            marker_3cbaaea847dc6432da2d4d43b0a37a1b.setIcon(beautify_icon_efc860d48553b7a09d32d767ebb41296);\n        \n    \n        var popup_6441efd34fcb31c2cae3d5ff24117e2c = L.popup({&quot;maxWidth&quot;: &quot;100%&quot;});\n\n        \n            \n                var html_eae7fa7325a28702a8b4abebbfbbb29a = $(`&lt;div id=&quot;html_eae7fa7325a28702a8b4abebbfbbb29a&quot; style=&quot;width: 100.0%; height: 100.0%;&quot;&gt;Talullas&lt;/div&gt;`)[0];\n                popup_6441efd34fcb31c2cae3d5ff24117e2c.setContent(html_eae7fa7325a28702a8b4abebbfbbb29a);\n            \n        \n\n        marker_3cbaaea847dc6432da2d4d43b0a37a1b.bindPopup(popup_6441efd34fcb31c2cae3d5ff24117e2c)\n        ;\n\n        \n    \n    \n            var marker_d68f403e3c53c1f53eede2ab2a7c5165 = L.marker(\n                [35.91449114859053, -79.05265336005759],\n                {&quot;opacity&quot;: 1}\n            ).addTo(map_eadbf16797781dee4c475338b8c7ef22);\n        \n    \n            var beautify_icon_29d9d38ce826b71d468312bd798bb8ed = new L.BeautifyIcon.icon(\n                {&quot;backgroundColor&quot;: &quot;#FFF&quot;, &quot;borderColor&quot;: &quot;orange&quot;, &quot;borderWidth&quot;: 3, &quot;icon&quot;: &quot;utensils&quot;, &quot;iconShape&quot;: &quot;circle&quot;, &quot;innerIconStyle&quot;: &quot;&quot;, &quot;isAlphaNumericIcon&quot;: false, &quot;spin&quot;: false, &quot;textColor&quot;: &quot;orange&quot;}\n            )\n            marker_d68f403e3c53c1f53eede2ab2a7c5165.setIcon(beautify_icon_29d9d38ce826b71d468312bd798bb8ed);\n        \n    \n        var popup_4959491e82f9ab5587a0f5b50364e3de = L.popup({&quot;maxWidth&quot;: &quot;100%&quot;});\n\n        \n            \n                var html_38b3554fc062e6be6dd1807df0878ac1 = $(`&lt;div id=&quot;html_38b3554fc062e6be6dd1807df0878ac1&quot; style=&quot;width: 100.0%; height: 100.0%;&quot;&gt;Bonchon&lt;/div&gt;`)[0];\n                popup_4959491e82f9ab5587a0f5b50364e3de.setContent(html_38b3554fc062e6be6dd1807df0878ac1);\n            \n        \n\n        marker_d68f403e3c53c1f53eede2ab2a7c5165.bindPopup(popup_4959491e82f9ab5587a0f5b50364e3de)\n        ;\n\n        \n    \n    \n            var marker_c3d39f3eebb38195a382a5012bac38dc = L.marker(\n                [35.85401568334828, -79.02502612829082],\n                {&quot;opacity&quot;: 1}\n            ).addTo(map_eadbf16797781dee4c475338b8c7ef22);\n        \n    \n            var beautify_icon_40a2c15efee0b780e0604683ca26b49e = new L.BeautifyIcon.icon(\n                {&quot;backgroundColor&quot;: &quot;#FFF&quot;, &quot;borderColor&quot;: &quot;orange&quot;, &quot;borderWidth&quot;: 3, &quot;icon&quot;: &quot;utensils&quot;, &quot;iconShape&quot;: &quot;circle&quot;, &quot;innerIconStyle&quot;: &quot;&quot;, &quot;isAlphaNumericIcon&quot;: false, &quot;spin&quot;: false, &quot;textColor&quot;: &quot;orange&quot;}\n            )\n            marker_c3d39f3eebb38195a382a5012bac38dc.setIcon(beautify_icon_40a2c15efee0b780e0604683ca26b49e);\n        \n    \n        var popup_ce28976326dc27f9fa0aff5f2a43798f = L.popup({&quot;maxWidth&quot;: &quot;100%&quot;});\n\n        \n            \n                var html_7f8cd28d0aaba6f9978eb8c0ed8a566e = $(`&lt;div id=&quot;html_7f8cd28d0aaba6f9978eb8c0ed8a566e&quot; style=&quot;width: 100.0%; height: 100.0%;&quot;&gt;Tarantini Italian Restaurant&lt;/div&gt;`)[0];\n                popup_ce28976326dc27f9fa0aff5f2a43798f.setContent(html_7f8cd28d0aaba6f9978eb8c0ed8a566e);\n            \n        \n\n        marker_c3d39f3eebb38195a382a5012bac38dc.bindPopup(popup_ce28976326dc27f9fa0aff5f2a43798f)\n        ;\n\n        \n    \n&lt;/script&gt;\n&lt;/html&gt;\" style=\"position:absolute;width:100%;height:100%;left:0;top:0;border:none !important;\" allowfullscreen webkitallowfullscreen mozallowfullscreen></iframe></div></div>"
     },
     "execution_count": 323,
     "metadata": {},
     "output_type": "execute_result"
    }
   ],
   "source": [
    "# Add in all the places\n",
    "for index, row in df.iterrows():\n",
    "    latitude = row['Latitude']\n",
    "    longitude = row['Longitude']\n",
    "    category = row['Category']\n",
    "    place_name = row['PlaceName']\n",
    "\n",
    "    #You have to recreate the icon_style since folium doesn't allow reusing icon_style\n",
    "    if category == 'Restaurant':\n",
    "        icon_style = plugins.BeautifyIcon(\n",
    "            icon='utensils',\n",
    "            icon_shape='circle',\n",
    "            border_color='orange', #Use orange here since yellow is too light\n",
    "            text_color='orange' #This controls the icon image color\n",
    "        )\n",
    "    elif category == 'Garden':\n",
    "        icon_style = plugins.BeautifyIcon(\n",
    "            icon='leaf',\n",
    "            icon_shape='circle',\n",
    "            border_color='green',\n",
    "            text_color='green' #This controls the icon image color\n",
    "        )\n",
    "    elif category == 'Museum':\n",
    "        icon_style =plugins.BeautifyIcon(\n",
    "            icon='university',\n",
    "            icon_shape='circle',\n",
    "            border_color='red',\n",
    "            text_color='red' #This controls the icon image color\n",
    "        )\n",
    "    elif category == 'Site':\n",
    "        icon_style = plugins.BeautifyIcon(\n",
    "            icon='camera',\n",
    "            border_color='blue',\n",
    "            text_color='blue'\n",
    "        )\n",
    "    elif category == 'Bookstore':\n",
    "        icon_style  = plugins.BeautifyIcon(\n",
    "            icon='book',\n",
    "            icon_shape='circle',\n",
    "            border_color='purple',\n",
    "            text_color='purple' #This controls the icon image color\n",
    "        )\n",
    "    else:\n",
    "        print('Run into an unknown category!')\n",
    "\n",
    "    folium.Marker(\n",
    "        location=[latitude, longitude],\n",
    "        popup=place_name,\n",
    "        icon = icon_style,\n",
    "        opacity=1\n",
    "    ).add_to(map)\n",
    "\n",
    "map"
   ],
   "metadata": {
    "collapsed": false
   }
  },
  {
   "cell_type": "code",
   "execution_count": 321,
   "outputs": [
    {
     "name": "stdout",
     "output_type": "stream",
     "text": [
      "HTML map saved\n"
     ]
    }
   ],
   "source": [
    "#Save the map as interactive html\n",
    "map.save('outputs/chapel_hill/chapel_hill.html')\n",
    "\n",
    "print('HTML map saved')"
   ],
   "metadata": {
    "collapsed": false
   }
  },
  {
   "cell_type": "code",
   "execution_count": null,
   "outputs": [],
   "source": [
    "\n",
    "#Add the convex hull to the map\n",
    "#Folium map will serve as a combination of plt cluster map and the plotly map"
   ],
   "metadata": {
    "collapsed": false
   }
  }
 ],
 "metadata": {
  "kernelspec": {
   "display_name": "Python 3",
   "language": "python",
   "name": "python3"
  },
  "language_info": {
   "codemirror_mode": {
    "name": "ipython",
    "version": 2
   },
   "file_extension": ".py",
   "mimetype": "text/x-python",
   "name": "python",
   "nbconvert_exporter": "python",
   "pygments_lexer": "ipython2",
   "version": "2.7.6"
  }
 },
 "nbformat": 4,
 "nbformat_minor": 0
}
